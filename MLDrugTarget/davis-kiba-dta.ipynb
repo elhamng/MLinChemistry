{
 "cells": [
  {
   "cell_type": "markdown",
   "metadata": {},
   "source": [
    "## Drug-Target Interaction (DTI) prediction\n",
    "\n",
    "DeepPurpose enables an easy interface to do two important applications of DTI prediction: virtual screening and drug repurposing. DeepPurpose works specifically for drug-target interaction prediction. Drug-target interaction (DTI) measures the binding affinity of drug molecules to the protein targets.\n",
    "\n",
    "Programming workflow: \n",
    "\n",
    "* Load the dataset from a local file or load a DeepPurpose benchmark dataset.\n",
    "* Specify the names of compound and protein encoders. \n",
    "* Split the dataset into training, validation and testing sets using data_process function.\n",
    "* Create a configuration file and specify model parameters.\n",
    "* Initialize a model using the configuration file. \n",
    "* Train the model using train function and monitor the progress of training and performance metrics.\n",
    "\n",
    "ref: https://academic.oup.com/bioinformatics/article/36/22-23/5545/6020256\n",
    "\n",
    "Github : https://github.com/kexinhuang12345/DeepPurpose\n"
   ]
  },
  {
   "cell_type": "markdown",
   "metadata": {},
   "source": [
    "## Import libraries "
   ]
  },
  {
   "cell_type": "code",
   "execution_count": 1,
   "metadata": {},
   "outputs": [],
   "source": [
    "import pandas as pd\n",
    "import numpy as np\n",
    "import matplotlib.pyplot as plt\n",
    "import json\n",
    "import pickle\n",
    "import collections\n",
    "from collections import OrderedDict\n",
    "from matplotlib.pyplot import cm\n",
    "import deepchem as dc"
   ]
  },
  {
   "cell_type": "code",
   "execution_count": 2,
   "metadata": {},
   "outputs": [],
   "source": [
    "import DeepPurpose"
   ]
  },
  {
   "cell_type": "code",
   "execution_count": 3,
   "metadata": {},
   "outputs": [
    {
     "name": "stderr",
     "output_type": "stream",
     "text": [
      "WARNING:root:No normalization for BCUT2D_MWHI\n",
      "WARNING:root:No normalization for BCUT2D_MWLOW\n",
      "WARNING:root:No normalization for BCUT2D_CHGHI\n",
      "WARNING:root:No normalization for BCUT2D_CHGLO\n",
      "WARNING:root:No normalization for BCUT2D_LOGPHI\n",
      "WARNING:root:No normalization for BCUT2D_LOGPLOW\n",
      "WARNING:root:No normalization for BCUT2D_MRHI\n",
      "WARNING:root:No normalization for BCUT2D_MRLOW\n"
     ]
    }
   ],
   "source": [
    "from DeepPurpose import utils, DTI, dataset\n",
    "from DeepPurpose import DTI as models"
   ]
  },
  {
   "cell_type": "markdown",
   "metadata": {},
   "source": [
    "## Data loading\n",
    "\n",
    "DeepPurpose takes in a NumPy array of drug’s SMILES strings (X_drugs), a NumPy array of target protein’s amino acid sequence (X_targets), and a NumPy array of labels (y).\n",
    "\n",
    "DeepPurpose also provides benchmark dataset loaders (DAVIS/KIBA/BindingDB) to ease preprocessing.\n",
    "DeepPurpose feeds the learned protein and compound embeddings into an MLP decoder to generate predictions."
   ]
  },
  {
   "cell_type": "code",
   "execution_count": 4,
   "metadata": {},
   "outputs": [],
   "source": [
    "def convert_y_unit(y, from_, to_):\n",
    "    array_flag = False\n",
    "    if isinstance(y, (int, float)):\n",
    "        y = np.array([y])\n",
    "        array_flag = True\n",
    "    y = y.astype(float)    \n",
    "    # basis as nM\n",
    "    if from_ == 'nM':\n",
    "        y = y\n",
    "    elif from_ == 'p':\n",
    "        y = 10**(-y) / 1e-9\n",
    "\n",
    "    if to_ == 'p':\n",
    "        zero_idxs = np.where(y == 0.)[0]\n",
    "        y[zero_idxs] = 1e-10\n",
    "        y = -np.log10(y*1e-9)\n",
    "    elif to_ == 'nM':\n",
    "        y = y\n",
    "\n",
    "    if array_flag:\n",
    "        return y[0]\n",
    "    return y"
   ]
  },
  {
   "cell_type": "code",
   "execution_count": 5,
   "metadata": {},
   "outputs": [],
   "source": [
    "\n",
    "affinity = pd.read_csv('DAVIS/affinity.txt', header=None, sep = ' ')\n",
    "\n",
    "with open('DAVIS/target_seq.txt') as f:\n",
    "    target = json.load(f)\n",
    "\n",
    "with open('DAVIS/SMILES.txt') as f:\n",
    "    drug = json.load(f)\n",
    "\n",
    "   \n",
    "target = list(target.values())\n",
    "drug = list(drug.values())\n",
    "\n",
    "SMILES = []\n",
    "Target_seq = []\n",
    "y = []"
   ]
  },
  {
   "cell_type": "code",
   "execution_count": 6,
   "metadata": {},
   "outputs": [
    {
     "name": "stdout",
     "output_type": "stream",
     "text": [
      "Done!\n"
     ]
    }
   ],
   "source": [
    "for i in range(len(drug)):\n",
    "        for j in range(len(target)):\n",
    "            SMILES.append(drug[i])\n",
    "            Target_seq.append(target[j]) \n",
    "            y.append(affinity.values[i, j])\n",
    "\n",
    "            \n",
    "\n",
    "print('Done!')"
   ]
  },
  {
   "cell_type": "code",
   "execution_count": 7,
   "metadata": {},
   "outputs": [],
   "source": [
    "y = convert_y_unit(np.array(y), 'nM', 'p').tolist()"
   ]
  },
  {
   "cell_type": "code",
   "execution_count": 8,
   "metadata": {},
   "outputs": [],
   "source": [
    "df = pd.DataFrame(list(zip(SMILES,Target_seq,y),),columns =['Drug', 'Target','BA_score'])"
   ]
  },
  {
   "cell_type": "code",
   "execution_count": 9,
   "metadata": {},
   "outputs": [
    {
     "data": {
      "text/html": [
       "<div>\n",
       "<style scoped>\n",
       "    .dataframe tbody tr th:only-of-type {\n",
       "        vertical-align: middle;\n",
       "    }\n",
       "\n",
       "    .dataframe tbody tr th {\n",
       "        vertical-align: top;\n",
       "    }\n",
       "\n",
       "    .dataframe thead th {\n",
       "        text-align: right;\n",
       "    }\n",
       "</style>\n",
       "<table border=\"1\" class=\"dataframe\">\n",
       "  <thead>\n",
       "    <tr style=\"text-align: right;\">\n",
       "      <th></th>\n",
       "      <th>Drug</th>\n",
       "      <th>Target</th>\n",
       "      <th>BA_score</th>\n",
       "    </tr>\n",
       "  </thead>\n",
       "  <tbody>\n",
       "    <tr>\n",
       "      <th>0</th>\n",
       "      <td>CC1=C2C=C(C=CC2=NN1)C3=CC(=CN=C3)OCC(CC4=CC=CC...</td>\n",
       "      <td>MKKFFDSRREQGGSGLGSGSSGGGGSTSGLGSGYIGRVFGIGRQQV...</td>\n",
       "      <td>7.366532</td>\n",
       "    </tr>\n",
       "    <tr>\n",
       "      <th>1</th>\n",
       "      <td>CC1=C2C=C(C=CC2=NN1)C3=CC(=CN=C3)OCC(CC4=CC=CC...</td>\n",
       "      <td>PFWKILNPLLERGTYYYFMGQQPGKVLGDQRRPSLPALHFIKGAGK...</td>\n",
       "      <td>5.000000</td>\n",
       "    </tr>\n",
       "    <tr>\n",
       "      <th>2</th>\n",
       "      <td>CC1=C2C=C(C=CC2=NN1)C3=CC(=CN=C3)OCC(CC4=CC=CC...</td>\n",
       "      <td>PFWKILNPLLERGTYYYFMGQQPGKVLGDQRRPSLPALHFIKGAGK...</td>\n",
       "      <td>5.000000</td>\n",
       "    </tr>\n",
       "    <tr>\n",
       "      <th>3</th>\n",
       "      <td>CC1=C2C=C(C=CC2=NN1)C3=CC(=CN=C3)OCC(CC4=CC=CC...</td>\n",
       "      <td>PFWKILNPLLERGTYYYFMGQQPGKVLGDQRRPSLPALHFIKGAGK...</td>\n",
       "      <td>5.000000</td>\n",
       "    </tr>\n",
       "    <tr>\n",
       "      <th>4</th>\n",
       "      <td>CC1=C2C=C(C=CC2=NN1)C3=CC(=CN=C3)OCC(CC4=CC=CC...</td>\n",
       "      <td>PFWKILNPLLERGTYYYFMGQQPGKVLGDQRRPSLPALHFIKGAGK...</td>\n",
       "      <td>5.000000</td>\n",
       "    </tr>\n",
       "  </tbody>\n",
       "</table>\n",
       "</div>"
      ],
      "text/plain": [
       "                                                Drug  \\\n",
       "0  CC1=C2C=C(C=CC2=NN1)C3=CC(=CN=C3)OCC(CC4=CC=CC...   \n",
       "1  CC1=C2C=C(C=CC2=NN1)C3=CC(=CN=C3)OCC(CC4=CC=CC...   \n",
       "2  CC1=C2C=C(C=CC2=NN1)C3=CC(=CN=C3)OCC(CC4=CC=CC...   \n",
       "3  CC1=C2C=C(C=CC2=NN1)C3=CC(=CN=C3)OCC(CC4=CC=CC...   \n",
       "4  CC1=C2C=C(C=CC2=NN1)C3=CC(=CN=C3)OCC(CC4=CC=CC...   \n",
       "\n",
       "                                              Target  BA_score  \n",
       "0  MKKFFDSRREQGGSGLGSGSSGGGGSTSGLGSGYIGRVFGIGRQQV...  7.366532  \n",
       "1  PFWKILNPLLERGTYYYFMGQQPGKVLGDQRRPSLPALHFIKGAGK...  5.000000  \n",
       "2  PFWKILNPLLERGTYYYFMGQQPGKVLGDQRRPSLPALHFIKGAGK...  5.000000  \n",
       "3  PFWKILNPLLERGTYYYFMGQQPGKVLGDQRRPSLPALHFIKGAGK...  5.000000  \n",
       "4  PFWKILNPLLERGTYYYFMGQQPGKVLGDQRRPSLPALHFIKGAGK...  5.000000  "
      ]
     },
     "execution_count": 9,
     "metadata": {},
     "output_type": "execute_result"
    }
   ],
   "source": [
    "df.head()"
   ]
  },
  {
   "cell_type": "code",
   "execution_count": 10,
   "metadata": {},
   "outputs": [],
   "source": [
    "## data loader \n",
    "#X_drugs, X_targets, y = dataset.load_process_DAVIS(path = './data', binary = False, convert_to_log = True, threshold = 30)"
   ]
  },
  {
   "cell_type": "code",
   "execution_count": 11,
   "metadata": {},
   "outputs": [],
   "source": [
    "#df = pd.DataFrame(list(zip(X_drugs,X_targets,y)),columns =['Drug', 'Target','BA_score'])"
   ]
  },
  {
   "cell_type": "code",
   "execution_count": 12,
   "metadata": {},
   "outputs": [],
   "source": [
    "#df.head()"
   ]
  },
  {
   "cell_type": "markdown",
   "metadata": {},
   "source": [
    "## Encoding\n",
    "\n",
    "Specify the encoder to use for drug and protein.\n",
    "\n",
    "\n",
    "for exampe list of drug encoder : Morgan,\n",
    "rdkit_2d_normalized, ESPF,\tErG\t2D, CNN\tConvolutional Neural Network on SMILES, CNN_RNN\tA GRU/LSTM on top of a CNN on SMILES, Transformer\tTransformer Encoder on ESPF, MPNN (Message-passing neural network),DGL_GCN\tGraph Convolutional Network.\n",
    "\n",
    "and for target  : ESPF\tExplainable Substructure Partition Fingerprint, CNN\tConvolutional Neural Network on target seq\n",
    "CNN_RNN\tA GRU/LSTM on top of a CNN on target seq.\n"
   ]
  },
  {
   "cell_type": "code",
   "execution_count": 10,
   "metadata": {},
   "outputs": [],
   "source": [
    "drug_encoding, target_encoding = 'MPNN', 'CNN'"
   ]
  },
  {
   "cell_type": "markdown",
   "metadata": {},
   "source": [
    "### Data encoding and split:\n",
    "In this function, we can specify train/validation/test split fractions, random seed to ensure the same data split for reproducibility"
   ]
  },
  {
   "cell_type": "code",
   "execution_count": 11,
   "metadata": {},
   "outputs": [
    {
     "name": "stdout",
     "output_type": "stream",
     "text": [
      "Drug Target Interaction Prediction Mode...\n",
      "in total: 30056 drug-target pairs\n",
      "encoding drug...\n",
      "unique drugs: 68\n",
      "encoding protein...\n",
      "unique target sequence: 379\n",
      "splitting dataset...\n",
      "Done.\n"
     ]
    }
   ],
   "source": [
    "train, val, test = utils.data_process(SMILES, Target_seq, y, \n",
    "                                drug_encoding, target_encoding, \n",
    "                                split_method='random',frac=[0.7,0.1,0.2],\n",
    "                                random_seed = 1)"
   ]
  },
  {
   "cell_type": "markdown",
   "metadata": {},
   "source": [
    " We initialize a model with its configuration. Almost any hyper-parameters (e.g., learning rate, epoch, batch size), model parameters (e.g. hidden dimensions, filter size) in this function can be modeifiled. "
   ]
  },
  {
   "cell_type": "code",
   "execution_count": 12,
   "metadata": {},
   "outputs": [],
   "source": [
    "config = utils.generate_config(drug_encoding = drug_encoding, \n",
    "                         target_encoding = target_encoding, \n",
    "                         cls_hidden_dims = [1024,1024,512], \n",
    "                         train_epoch = 5, \n",
    "                         LR = 0.001, \n",
    "                         batch_size = 128,\n",
    "                         hidden_dim_drug = 128,\n",
    "                         mpnn_hidden_size = 128,\n",
    "                         mpnn_depth = 3, \n",
    "                         cnn_target_filters = [32,64,96],\n",
    "                         cnn_target_kernels = [4,8,12]\n",
    "                        )"
   ]
  },
  {
   "cell_type": "code",
   "execution_count": 13,
   "metadata": {},
   "outputs": [],
   "source": [
    "model = models.model_initialize(**config)"
   ]
  },
  {
   "cell_type": "code",
   "execution_count": 14,
   "metadata": {},
   "outputs": [
    {
     "data": {
      "text/plain": [
       "<DeepPurpose.DTI.DBTA at 0x7fc7521b28d0>"
      ]
     },
     "execution_count": 14,
     "metadata": {},
     "output_type": "execute_result"
    }
   ],
   "source": [
    "model"
   ]
  },
  {
   "cell_type": "markdown",
   "metadata": {},
   "source": [
    "In the case of regression, the Mean Square Error (MSE) is used as the loss function. "
   ]
  },
  {
   "cell_type": "code",
   "execution_count": 15,
   "metadata": {},
   "outputs": [
    {
     "name": "stdout",
     "output_type": "stream",
     "text": [
      "Let's use CPU/s!\n",
      "--- Data Preparation ---\n",
      "--- Go for Training ---\n",
      "Training at Epoch 1 iteration 0 with loss 31.2534. Total time 0.00166 hours\n",
      "Training at Epoch 1 iteration 100 with loss 0.86429. Total time 0.10944 hours\n",
      "Validation at Epoch 1 with loss:1.00779, MSE: 0.75705 , Pearson Correlation: 0.26994 with p-value: 2.37E-51 , Concordance Index: 0.64135\n",
      "Training at Epoch 2 iteration 0 with loss 0.77682. Total time 0.17666 hours\n",
      "Training at Epoch 2 iteration 100 with loss 0.82388. Total time 3.03722 hours\n",
      "Validation at Epoch 2 with loss:0.80243, MSE: 0.71544 , Pearson Correlation: 0.34864 with p-value: 1.20E-86 , Concordance Index: 0.67829\n",
      "Training at Epoch 3 iteration 0 with loss 0.79592. Total time 3.89083 hours\n",
      "Training at Epoch 3 iteration 100 with loss 0.71941. Total time 3.99527 hours\n",
      "Validation at Epoch 3 with loss:1.27185, MSE: 0.71223 , Pearson Correlation: 0.38034 with p-value: 4.48E-104 , Concordance Index: 0.70361\n",
      "Training at Epoch 4 iteration 0 with loss 0.77570. Total time 4.07361 hours\n",
      "Training at Epoch 4 iteration 100 with loss 0.82158. Total time 4.1825 hours\n",
      "Validation at Epoch 4 with loss:0.53167, MSE: 0.69241 , Pearson Correlation: 0.40756 with p-value: 1.15E-120 , Concordance Index: 0.71934\n",
      "Training at Epoch 5 iteration 0 with loss 0.81625. Total time 4.26111 hours\n",
      "Training at Epoch 5 iteration 100 with loss 0.73537. Total time 4.36805 hours\n",
      "Validation at Epoch 5 with loss:0.53582, MSE: 0.70455 , Pearson Correlation: 0.42066 with p-value: 3.18E-129 , Concordance Index: 0.72608\n",
      "--- Go for Testing ---\n",
      "Testing MSE: 0.7045656024659653 , Pearson Correlation: 0.37966023886269745 with p-value: 2.16E-205 , Concordance Index: 0.7038551606158939\n",
      "--- Training Finished ---\n"
     ]
    },
    {
     "data": {
      "image/png": "[encoded data removed]",
      "text/plain": [
       "<Figure size 432x288 with 1 Axes>"
      ]
     },
     "metadata": {
      "needs_background": "light"
     },
     "output_type": "display_data"
    }
   ],
   "source": [
    "model.train(train, val,test)"
   ]
  },
  {
   "cell_type": "code",
   "execution_count": 16,
   "metadata": {},
   "outputs": [
    {
     "name": "stdout",
     "output_type": "stream",
     "text": [
      "predicting...\n"
     ]
    }
   ],
   "source": [
    "y_pred = model.predict(test)"
   ]
  },
  {
   "cell_type": "code",
   "execution_count": 17,
   "metadata": {},
   "outputs": [
    {
     "data": {
      "text/plain": [
       "[5.959413051605225,\n",
       " 5.296557426452637,\n",
       " 5.088376998901367,\n",
       " 5.496194362640381,\n",
       " 6.0588812828063965]"
      ]
     },
     "execution_count": 17,
     "metadata": {},
     "output_type": "execute_result"
    }
   ],
   "source": [
    "y_pred[:5]"
   ]
  },
  {
   "cell_type": "code",
   "execution_count": 18,
   "metadata": {},
   "outputs": [
    {
     "data": {
      "text/plain": [
       "0    5.000000\n",
       "1    5.000000\n",
       "2    5.000000\n",
       "3    6.244125\n",
       "4    8.060481\n",
       "Name: Label, dtype: float64"
      ]
     },
     "execution_count": 18,
     "metadata": {},
     "output_type": "execute_result"
    }
   ],
   "source": [
    "test.Label[:5]"
   ]
  },
  {
   "cell_type": "code",
   "execution_count": 19,
   "metadata": {},
   "outputs": [],
   "source": [
    "from sklearn.metrics import r2_score, mean_absolute_error, mean_squared_error"
   ]
  },
  {
   "cell_type": "code",
   "execution_count": 20,
   "metadata": {},
   "outputs": [
    {
     "name": "stdout",
     "output_type": "stream",
     "text": [
      "##########################  Scores of Test1 Data  ##########################\n",
      "Test1 set MAE of <DeepPurpose.DTI.DBTA object at 0x7fc7521b28d0>: 0.564\n",
      "Test1 set RMSE of <DeepPurpose.DTI.DBTA object at 0x7fc7521b28d0>: 0.839\n",
      "Test1 set R2 Score of <DeepPurpose.DTI.DBTA object at 0x7fc7521b28d0>: 0.133\n"
     ]
    }
   ],
   "source": [
    "test1_mae = mean_absolute_error(test.Label,y_pred)\n",
    "test1_rmse = mean_squared_error(test.Label,y_pred, squared=False)\n",
    "test1_r2 = r2_score(test.Label,y_pred)\n",
    "print('##########################  Scores of Test1 Data  ##########################')\n",
    "print('Test1 set MAE of {}: {:.3f}'.format(model, test1_mae))\n",
    "print('Test1 set RMSE of {}: {:.3f}'.format(model, test1_rmse))\n",
    "print('Test1 set R2 Score of {}: {:.3f}'.format(model, test1_r2))"
   ]
  },
  {
   "cell_type": "code",
   "execution_count": 21,
   "metadata": {},
   "outputs": [
    {
     "data": {
      "image/png": "[encoded data removed]",
      "text/plain": [
       "<Figure size 432x288 with 1 Axes>"
      ]
     },
     "metadata": {
      "needs_background": "light"
     },
     "output_type": "display_data"
    }
   ],
   "source": [
    "\n",
    "plt.scatter(y_pred, test.Label)\n",
    "plt.xlabel('Predicted pIC50s')\n",
    "plt.ylabel('True IC50')\n",
    "plt.title(r'predicted IC50 vs. True pIC50')\n",
    "plt.xlim([2, 11])\n",
    "plt.ylim([2, 11])\n",
    "plt.plot([2, 11], [2, 11], color='k')\n",
    "plt.show()"
   ]
  },
  {
   "cell_type": "code",
   "execution_count": 22,
   "metadata": {},
   "outputs": [
    {
     "data": {
      "text/html": [
       "<div>\n",
       "<style scoped>\n",
       "    .dataframe tbody tr th:only-of-type {\n",
       "        vertical-align: middle;\n",
       "    }\n",
       "\n",
       "    .dataframe tbody tr th {\n",
       "        vertical-align: top;\n",
       "    }\n",
       "\n",
       "    .dataframe thead th {\n",
       "        text-align: right;\n",
       "    }\n",
       "</style>\n",
       "<table border=\"1\" class=\"dataframe\">\n",
       "  <thead>\n",
       "    <tr style=\"text-align: right;\">\n",
       "      <th></th>\n",
       "      <th>SMILES</th>\n",
       "      <th>Target Sequence</th>\n",
       "      <th>Label</th>\n",
       "      <th>drug_encoding</th>\n",
       "      <th>target_encoding</th>\n",
       "    </tr>\n",
       "  </thead>\n",
       "  <tbody>\n",
       "    <tr>\n",
       "      <th>0</th>\n",
       "      <td>CN(C)CC1CCN2C=C(C3=CC=CC=C32)C4=C(C5=CN(CCO1)C...</td>\n",
       "      <td>PFWKILNPLLERGTYYYFMGQQPGKVLGDQRRPSLPALHFIKGAGK...</td>\n",
       "      <td>5.000000</td>\n",
       "      <td>[[[tensor(1.), tensor(0.), tensor(0.), tensor(...</td>\n",
       "      <td>[P, F, W, K, I, L, N, P, L, L, E, R, G, T, Y, ...</td>\n",
       "    </tr>\n",
       "    <tr>\n",
       "      <th>1</th>\n",
       "      <td>CN1CCC(CC1)COC2=C(C=C3C(=C2)N=CN=C3NC4=C(C=C(C...</td>\n",
       "      <td>MAEKQKHDGRVKIGHYVLGDTLGVGTFGKVKIGEHQLTGHKVAVKI...</td>\n",
       "      <td>5.000000</td>\n",
       "      <td>[[[tensor(1.), tensor(0.), tensor(0.), tensor(...</td>\n",
       "      <td>[M, A, E, K, Q, K, H, D, G, R, V, K, I, G, H, ...</td>\n",
       "    </tr>\n",
       "    <tr>\n",
       "      <th>2</th>\n",
       "      <td>CNC(=O)C1=CC=CC=C1SC2=CC3=C(C=C2)C(=NN3)C=CC4=...</td>\n",
       "      <td>MAALSGGGGGGAEPGQALFNGDMEPEAGAGAGAAASSAADPAIPEE...</td>\n",
       "      <td>5.000000</td>\n",
       "      <td>[[[tensor(1.), tensor(0.), tensor(0.), tensor(...</td>\n",
       "      <td>[M, A, A, L, S, G, G, G, G, G, G, A, E, P, G, ...</td>\n",
       "    </tr>\n",
       "    <tr>\n",
       "      <th>3</th>\n",
       "      <td>CCN(CC)CCNC(=O)C1=C(NC(=C1C)C=C2C3=C(C=CC(=C3)...</td>\n",
       "      <td>MTSSLQRPWRVPWLPWTILLVSTAAASQNQERLCAFKDPYQQDLGI...</td>\n",
       "      <td>6.244125</td>\n",
       "      <td>[[[tensor(1.), tensor(0.), tensor(0.), tensor(...</td>\n",
       "      <td>[M, T, S, S, L, Q, R, P, W, R, V, P, W, L, P, ...</td>\n",
       "    </tr>\n",
       "    <tr>\n",
       "      <th>4</th>\n",
       "      <td>CC1=C(C=C(C=C1)NC(=O)C2=CC=C(C=C2)CN3CCN(CC3)C...</td>\n",
       "      <td>MGPEALSSLLLLLLVASGDADMKGHFDPAKCRYALGMQDRTIPDSD...</td>\n",
       "      <td>8.060481</td>\n",
       "      <td>[[[tensor(1.), tensor(0.), tensor(0.), tensor(...</td>\n",
       "      <td>[M, G, P, E, A, L, S, S, L, L, L, L, L, L, V, ...</td>\n",
       "    </tr>\n",
       "  </tbody>\n",
       "</table>\n",
       "</div>"
      ],
      "text/plain": [
       "                                              SMILES  \\\n",
       "0  CN(C)CC1CCN2C=C(C3=CC=CC=C32)C4=C(C5=CN(CCO1)C...   \n",
       "1  CN1CCC(CC1)COC2=C(C=C3C(=C2)N=CN=C3NC4=C(C=C(C...   \n",
       "2  CNC(=O)C1=CC=CC=C1SC2=CC3=C(C=C2)C(=NN3)C=CC4=...   \n",
       "3  CCN(CC)CCNC(=O)C1=C(NC(=C1C)C=C2C3=C(C=CC(=C3)...   \n",
       "4  CC1=C(C=C(C=C1)NC(=O)C2=CC=C(C=C2)CN3CCN(CC3)C...   \n",
       "\n",
       "                                     Target Sequence     Label  \\\n",
       "0  PFWKILNPLLERGTYYYFMGQQPGKVLGDQRRPSLPALHFIKGAGK...  5.000000   \n",
       "1  MAEKQKHDGRVKIGHYVLGDTLGVGTFGKVKIGEHQLTGHKVAVKI...  5.000000   \n",
       "2  MAALSGGGGGGAEPGQALFNGDMEPEAGAGAGAAASSAADPAIPEE...  5.000000   \n",
       "3  MTSSLQRPWRVPWLPWTILLVSTAAASQNQERLCAFKDPYQQDLGI...  6.244125   \n",
       "4  MGPEALSSLLLLLLVASGDADMKGHFDPAKCRYALGMQDRTIPDSD...  8.060481   \n",
       "\n",
       "                                       drug_encoding  \\\n",
       "0  [[[tensor(1.), tensor(0.), tensor(0.), tensor(...   \n",
       "1  [[[tensor(1.), tensor(0.), tensor(0.), tensor(...   \n",
       "2  [[[tensor(1.), tensor(0.), tensor(0.), tensor(...   \n",
       "3  [[[tensor(1.), tensor(0.), tensor(0.), tensor(...   \n",
       "4  [[[tensor(1.), tensor(0.), tensor(0.), tensor(...   \n",
       "\n",
       "                                     target_encoding  \n",
       "0  [P, F, W, K, I, L, N, P, L, L, E, R, G, T, Y, ...  \n",
       "1  [M, A, E, K, Q, K, H, D, G, R, V, K, I, G, H, ...  \n",
       "2  [M, A, A, L, S, G, G, G, G, G, G, A, E, P, G, ...  \n",
       "3  [M, T, S, S, L, Q, R, P, W, R, V, P, W, L, P, ...  \n",
       "4  [M, G, P, E, A, L, S, S, L, L, L, L, L, L, V, ...  "
      ]
     },
     "execution_count": 22,
     "metadata": {},
     "output_type": "execute_result"
    }
   ],
   "source": [
    "test.head()"
   ]
  },
  {
   "cell_type": "markdown",
   "metadata": {},
   "source": [
    " Use model to predict binding score for other data sets."
   ]
  },
  {
   "cell_type": "code",
   "execution_count": 23,
   "metadata": {},
   "outputs": [
    {
     "name": "stdout",
     "output_type": "stream",
     "text": [
      "repurposing...\n",
      "Drug Target Interaction Prediction Mode...\n",
      "in total: 82 drug-target pairs\n",
      "encoding drug...\n",
      "unique drugs: 81\n",
      "encoding protein...\n",
      "unique target sequence: 1\n",
      "Done.\n",
      "predicting...\n",
      "---------------\n",
      "Drug Repurposing Result for SARS-CoV2 3CL Protease\n",
      "+------+----------------------+------------------------+---------------+\n",
      "| Rank |      Drug Name       |      Target Name       | Binding Score |\n",
      "+------+----------------------+------------------------+---------------+\n",
      "|  1   |      Foscarnet       | SARS-CoV2 3CL Protease |     958.19    |\n",
      "|  2   |     Rimantadine      | SARS-CoV2 3CL Protease |    1489.59    |\n",
      "|  3   |      Boceprevir      | SARS-CoV2 3CL Protease |    1534.20    |\n",
      "|  4   |      Peramivir       | SARS-CoV2 3CL Protease |    1548.28    |\n",
      "|  5   |      Amantadine      | SARS-CoV2 3CL Protease |    1584.24    |\n",
      "|  6   |      Zanamivir       | SARS-CoV2 3CL Protease |    1674.56    |\n",
      "|  7   |     Glecaprevir      | SARS-CoV2 3CL Protease |    1819.30    |\n",
      "|  8   |     Tromantadine     | SARS-CoV2 3CL Protease |    2036.21    |\n",
      "|  9   |     Oseltamivir      | SARS-CoV2 3CL Protease |    2099.04    |\n",
      "|  10  |      Telaprevir      | SARS-CoV2 3CL Protease |    2264.74    |\n",
      "checkout ./result/repurposing.txt for the whole list\n"
     ]
    }
   ],
   "source": [
    "target, target_name = dataset.load_SARS_CoV2_Protease_3CL()\n",
    "repurpose_drugs, repurpose_drugs_name, repurpose_drugs_pubchem_cid = dataset.load_antiviral_drugs()\n",
    "\n",
    "y_pred = models.repurpose(X_repurpose = repurpose_drugs, target = target, model = model, \n",
    "                          drug_names = repurpose_drugs_name, target_name = target_name, \n",
    "                          result_folder = \"./result/\", convert_y = True)"
   ]
  },
  {
   "cell_type": "code",
   "execution_count": 30,
   "metadata": {},
   "outputs": [
    {
     "name": "stdout",
     "output_type": "stream",
     "text": [
      "Downloading...\n",
      "virtual screening...\n",
      "Drug Target Interaction Prediction Mode...\n",
      "in total: 100 drug-target pairs\n",
      "encoding drug...\n",
      "unique drugs: 100\n",
      "encoding protein...\n",
      "unique target sequence: 91\n",
      "Done.\n",
      "predicting...\n",
      "---------------\n",
      "Virtual Screening Result\n",
      "+------+-----------+-------------+---------------+\n",
      "| Rank | Drug Name | Target Name | Binding Score |\n",
      "+------+-----------+-------------+---------------+\n",
      "|  1   |  Drug 54  |  Target 54  |      6.05     |\n",
      "|  2   |  Drug 21  |  Target 21  |      5.96     |\n",
      "|  3   |  Drug 19  |  Target 19  |      5.77     |\n",
      "|  4   |  Drug 60  |  Target 60  |      5.68     |\n",
      "|  5   |  Drug 36  |  Target 36  |      5.66     |\n",
      "|  6   |  Drug 70  |  Target 70  |      5.62     |\n",
      "|  7   |  Drug 92  |  Target 92  |      5.60     |\n",
      "|  8   |  Drug 10  |  Target 10  |      5.59     |\n",
      "|  9   |  Drug 40  |  Target 40  |      5.58     |\n",
      "|  10  |  Drug 37  |  Target 37  |      5.58     |\n",
      "checkout ./result/virtual_screening.txt for the whole list\n",
      "\n"
     ]
    }
   ],
   "source": [
    "target, drugs = dataset.load_IC50_1000_Samples()\n",
    "y_pred = models.virtual_screening(drugs, target, model)\n"
   ]
  },
  {
   "cell_type": "markdown",
   "metadata": {},
   "source": [
    "### Choes other encoders\n",
    "\n",
    "Here I use Graph convolution net to predict the drug–target binding affinity, in which drugs are represented as graphs where the edges are the bonding of atoms.\n"
   ]
  },
  {
   "cell_type": "code",
   "execution_count": 12,
   "metadata": {},
   "outputs": [],
   "source": [
    "drug_encoding, target_encoding = 'DGL_GCN', 'CNN'"
   ]
  },
  {
   "cell_type": "code",
   "execution_count": 13,
   "metadata": {},
   "outputs": [
    {
     "name": "stdout",
     "output_type": "stream",
     "text": [
      "Drug Target Interaction Prediction Mode...\n",
      "in total: 30056 drug-target pairs\n",
      "encoding drug...\n",
      "unique drugs: 68\n",
      "encoding protein...\n",
      "unique target sequence: 379\n",
      "splitting dataset...\n",
      "Done.\n"
     ]
    }
   ],
   "source": [
    "train, val, test = utils.data_process(SMILES, Target_seq, y, \n",
    "                                drug_encoding, target_encoding, \n",
    "                                split_method='random',frac=[0.7,0.1,0.2],\n",
    "                                random_seed = 1)"
   ]
  },
  {
   "cell_type": "code",
   "execution_count": 14,
   "metadata": {},
   "outputs": [],
   "source": [
    "config = utils.generate_config(drug_encoding = drug_encoding, \n",
    "                         target_encoding = target_encoding, \n",
    "                         cls_hidden_dims = [1024,1024,512], \n",
    "                         train_epoch = 5, \n",
    "                         LR = 0.001, \n",
    "                         batch_size = 128,\n",
    "                         hidden_dim_drug = 128,\n",
    "                         mpnn_hidden_size = 128,\n",
    "                         mpnn_depth = 3, \n",
    "                         cnn_target_filters = [32,64,96],\n",
    "                         cnn_target_kernels = [4,8,12]\n",
    "                        )"
   ]
  },
  {
   "cell_type": "code",
   "execution_count": 15,
   "metadata": {},
   "outputs": [
    {
     "name": "stderr",
     "output_type": "stream",
     "text": [
      "Using backend: pytorch\n"
     ]
    }
   ],
   "source": [
    "modelgcn = models.model_initialize(**config)"
   ]
  },
  {
   "cell_type": "markdown",
   "metadata": {},
   "source": [
    "### Train model"
   ]
  },
  {
   "cell_type": "code",
   "execution_count": 16,
   "metadata": {},
   "outputs": [
    {
     "name": "stdout",
     "output_type": "stream",
     "text": [
      "Let's use CPU/s!\n",
      "--- Data Preparation ---\n",
      "--- Go for Training ---\n",
      "Training at Epoch 1 iteration 0 with loss 30.7997. Total time 0.00194 hours\n",
      "Training at Epoch 1 iteration 100 with loss 0.75377. Total time 0.14277 hours\n",
      "Validation at Epoch 1 with loss:0.59773, MSE: 0.70195 , Pearson Correlation: 0.50254 with p-value: 3.77E-192 , Concordance Index: 0.76532\n",
      "Training at Epoch 2 iteration 0 with loss 0.69418. Total time 0.2575 hours\n",
      "Training at Epoch 2 iteration 100 with loss 0.71144. Total time 0.38472 hours\n",
      "Validation at Epoch 2 with loss:0.91850, MSE: 0.58289 , Pearson Correlation: 0.54174 with p-value: 6.42E-229 , Concordance Index: 0.77475\n",
      "Training at Epoch 3 iteration 0 with loss 0.67510. Total time 0.48555 hours\n",
      "Training at Epoch 3 iteration 100 with loss 0.50339. Total time 0.61 hours\n",
      "Validation at Epoch 3 with loss:0.59861, MSE: 0.55573 , Pearson Correlation: 0.60165 with p-value: 1.71E-295 , Concordance Index: 0.80240\n",
      "Training at Epoch 4 iteration 0 with loss 0.67097. Total time 0.69555 hours\n",
      "Training at Epoch 4 iteration 100 with loss 0.73510. Total time 0.81083 hours\n",
      "Validation at Epoch 4 with loss:0.30778, MSE: 0.52372 , Pearson Correlation: 0.59869 with p-value: 7.19E-292 , Concordance Index: 0.79477\n",
      "Training at Epoch 5 iteration 0 with loss 0.68833. Total time 0.90833 hours\n",
      "Training at Epoch 5 iteration 100 with loss 0.57816. Total time 1.04222 hours\n",
      "Validation at Epoch 5 with loss:0.65376, MSE: 0.55447 , Pearson Correlation: 0.64628 with p-value: 0.00E+00 , Concordance Index: 0.80991\n",
      "--- Go for Testing ---\n",
      "Testing MSE: 0.5079944708495441 , Pearson Correlation: 0.6151651772661945 with p-value: 0.00E+00 , Concordance Index: 0.8021035636963005\n",
      "--- Training Finished ---\n"
     ]
    },
    {
     "data": {
      "image/png": "[encoded data removed]",
      "text/plain": [
       "<Figure size 432x288 with 1 Axes>"
      ]
     },
     "metadata": {
      "needs_background": "light"
     },
     "output_type": "display_data"
    }
   ],
   "source": [
    "modelgcn.train(train, val,test)"
   ]
  },
  {
   "cell_type": "code",
   "execution_count": 17,
   "metadata": {},
   "outputs": [
    {
     "name": "stdout",
     "output_type": "stream",
     "text": [
      "predicting...\n"
     ]
    }
   ],
   "source": [
    "y_pred = modelgcn.predict(test)"
   ]
  },
  {
   "cell_type": "code",
   "execution_count": 20,
   "metadata": {},
   "outputs": [
    {
     "name": "stdout",
     "output_type": "stream",
     "text": [
      "##########################  Scores of Test1 Data  ##########################\n",
      "Test1 set MAE of <DeepPurpose.DTI.DBTA object at 0x7fef7c7d1890>: 0.484\n",
      "Test1 set RMSE of <DeepPurpose.DTI.DBTA object at 0x7fef7c7d1890>: 0.713\n",
      "Test1 set R2 Score of <DeepPurpose.DTI.DBTA object at 0x7fef7c7d1890>: 0.375\n"
     ]
    }
   ],
   "source": [
    "test1_mae = mean_absolute_error(test.Label,y_pred)\n",
    "test1_rmse = mean_squared_error(test.Label,y_pred, squared=False)\n",
    "test1_r2 = r2_score(test.Label,y_pred)\n",
    "print('##########################  Scores of Test1 Data  ##########################')\n",
    "print('Test1 set MAE of {}: {:.3f}'.format(modelgcn, test1_mae))\n",
    "print('Test1 set RMSE of {}: {:.3f}'.format(modelgcn, test1_rmse))\n",
    "print('Test1 set R2 Score of {}: {:.3f}'.format(modelgcn, test1_r2))"
   ]
  },
  {
   "cell_type": "code",
   "execution_count": 21,
   "metadata": {},
   "outputs": [
    {
     "data": {
      "image/png": "[encoded data removed]",
      "text/plain": [
       "<Figure size 432x288 with 1 Axes>"
      ]
     },
     "metadata": {
      "needs_background": "light"
     },
     "output_type": "display_data"
    }
   ],
   "source": [
    "plt.scatter(y_pred, test.Label)\n",
    "plt.xlabel('Predicted pIC50s')\n",
    "plt.ylabel('True IC50')\n",
    "plt.title(r'predicted IC50 vs. True pIC50')\n",
    "plt.xlim([2, 11])\n",
    "plt.ylim([2, 11])\n",
    "plt.plot([2, 11], [2, 11], color='k')\n",
    "plt.show()"
   ]
  },
  {
   "cell_type": "code",
   "execution_count": 26,
   "metadata": {},
   "outputs": [
    {
     "name": "stdout",
     "output_type": "stream",
     "text": [
      "repurposing...\n",
      "Drug Target Interaction Prediction Mode...\n",
      "in total: 82 drug-target pairs\n",
      "encoding drug...\n",
      "unique drugs: 81\n",
      "encoding protein...\n",
      "unique target sequence: 1\n",
      "Done.\n",
      "predicting...\n",
      "---------------\n",
      "Drug Repurposing Result for SARS-CoV2 3CL Protease\n",
      "+------+----------------------+------------------------+---------------+\n",
      "| Rank |      Drug Name       |      Target Name       | Binding Score |\n",
      "+------+----------------------+------------------------+---------------+\n",
      "|  1   |     Enfuvirtide      | SARS-CoV2 3CL Protease |      0.00     |\n",
      "|  2   |      Telaprevir      | SARS-CoV2 3CL Protease |     26.10     |\n",
      "|  3   |       Imunovir       | SARS-CoV2 3CL Protease |     33.08     |\n",
      "|  4   |     Glecaprevir      | SARS-CoV2 3CL Protease |     48.69     |\n",
      "|  5   |      Indinavir       | SARS-CoV2 3CL Protease |     53.60     |\n",
      "|  6   |      Saquinavir      | SARS-CoV2 3CL Protease |     55.01     |\n",
      "|  7   |     Grazoprevir      | SARS-CoV2 3CL Protease |     128.48    |\n",
      "|  8   |      Atazanavir      | SARS-CoV2 3CL Protease |     133.67    |\n",
      "|  9   |      Ritonavir       | SARS-CoV2 3CL Protease |     161.09    |\n",
      "|  10  |      Nelfinavir      | SARS-CoV2 3CL Protease |     250.89    |\n",
      "checkout ./result/repurposing.txt for the whole list\n"
     ]
    }
   ],
   "source": [
    "target, target_name = dataset.load_SARS_CoV2_Protease_3CL()\n",
    "repurpose_drugs, repurpose_drugs_name, repurpose_drugs_pubchem_cid = dataset.load_antiviral_drugs()\n",
    "y_pred = models.repurpose(X_repurpose = repurpose_drugs, target = target, model = modelgcn, \n",
    "                          drug_names = repurpose_drugs_name, target_name = target_name, \n",
    "                          result_folder = \"./result/\", convert_y = True)"
   ]
  },
  {
   "cell_type": "code",
   "execution_count": 27,
   "metadata": {},
   "outputs": [
    {
     "name": "stdout",
     "output_type": "stream",
     "text": [
      "Downloading...\n",
      "virtual screening...\n",
      "Drug Target Interaction Prediction Mode...\n",
      "in total: 100 drug-target pairs\n",
      "encoding drug...\n",
      "unique drugs: 100\n",
      "encoding protein...\n",
      "unique target sequence: 91\n",
      "Done.\n",
      "predicting...\n",
      "---------------\n",
      "Virtual Screening Result\n",
      "+------+-----------+-------------+---------------+\n",
      "| Rank | Drug Name | Target Name | Binding Score |\n",
      "+------+-----------+-------------+---------------+\n",
      "|  1   |  Drug 80  |  Target 80  |      7.49     |\n",
      "|  2   |  Drug 39  |  Target 39  |      6.48     |\n",
      "|  3   |  Drug 17  |  Target 17  |      6.46     |\n",
      "|  4   |  Drug 15  |  Target 15  |      6.36     |\n",
      "|  5   |  Drug 88  |  Target 88  |      6.34     |\n",
      "|  6   |  Drug 21  |  Target 21  |      6.31     |\n",
      "|  7   |  Drug 18  |  Target 18  |      6.27     |\n",
      "|  8   |  Drug 13  |  Target 13  |      6.25     |\n",
      "|  9   |  Drug 44  |  Target 44  |      6.16     |\n",
      "|  10  |  Drug 62  |  Target 62  |      6.15     |\n",
      "checkout ./result/virtual_screening.txt for the whole list\n",
      "\n"
     ]
    }
   ],
   "source": [
    "target, drugs = dataset.load_IC50_1000_Samples()\n",
    "y_pred = models.virtual_screening(drugs, target, modelgcn)\n"
   ]
  },
  {
   "cell_type": "markdown",
   "metadata": {},
   "source": [
    "The results show that this method gains better performance in the task of drug–target binding affinity prediction."
   ]
  },
  {
   "cell_type": "code",
   "execution_count": null,
   "metadata": {},
   "outputs": [],
   "source": []
  }
 ],
 "metadata": {
  "kernelspec": {
   "display_name": "Python 3 (ipykernel)",
   "language": "python",
   "name": "python3"
  },
  "language_info": {
   "codemirror_mode": {
    "name": "ipython",
    "version": 3
   },
   "file_extension": ".py",
   "mimetype": "text/x-python",
   "name": "python",
   "nbconvert_exporter": "python",
   "pygments_lexer": "ipython3",
   "version": "3.7.11"
  }
 },
 "nbformat": 4,
 "nbformat_minor": 4
}
