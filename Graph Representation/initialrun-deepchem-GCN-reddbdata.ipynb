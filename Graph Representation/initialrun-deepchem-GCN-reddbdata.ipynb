{
 "cells": [
  {
   "cell_type": "markdown",
   "metadata": {},
   "source": [
    "## Deep Chem Library to predict reaction energies of molecular dataset"
   ]
  },
  {
   "cell_type": "markdown",
   "metadata": {},
   "source": [
    "### Graph Convolutional Models"
   ]
  },
  {
   "cell_type": "markdown",
   "metadata": {},
   "source": [
    "##### Import librearies \n",
    "This model is keras moodel and we need tensorflow and keras  "
   ]
  },
  {
   "cell_type": "code",
   "execution_count": 1,
   "metadata": {},
   "outputs": [],
   "source": [
    "import numpy as np\n",
    "import pandas as pd\n",
    "import tensorflow as tf\n",
    "from tensorflow import keras\n",
    "import deepchem as dc\n",
    "from rdkit import Chem\n",
    "from deepchem.splits.splitters import ScaffoldSplitter,SpecifiedSplitter,RandomSplitter\n",
    "from deepchem.models.graph_models import GraphConvModel\n",
    "from deepchem.utils.evaluate import Evaluator\n",
    "from keras.callbacks import ModelCheckpoint\n",
    "import os"
   ]
  },
  {
   "cell_type": "markdown",
   "metadata": {},
   "source": [
    "check version of deep chem "
   ]
  },
  {
   "cell_type": "code",
   "execution_count": 2,
   "metadata": {},
   "outputs": [
    {
     "name": "stdout",
     "output_type": "stream",
     "text": [
      "2.4.0\n"
     ]
    }
   ],
   "source": [
    "print(dc.__version__)"
   ]
  },
  {
   "cell_type": "code",
   "execution_count": 3,
   "metadata": {},
   "outputs": [],
   "source": [
    "from deepchem.models.losses import Loss"
   ]
  },
  {
   "cell_type": "markdown",
   "metadata": {},
   "source": [
    "to have computational time"
   ]
  },
  {
   "cell_type": "code",
   "execution_count": 4,
   "metadata": {},
   "outputs": [],
   "source": [
    "import time\n",
    "start_time = time.time()"
   ]
  },
  {
   "cell_type": "markdown",
   "metadata": {},
   "source": [
    "We use reddb final data from reddb databace"
   ]
  },
  {
   "cell_type": "code",
   "execution_count": 5,
   "metadata": {},
   "outputs": [],
   "source": [
    "input_data=\"../final_data/train.csv\""
   ]
  },
  {
   "cell_type": "code",
   "execution_count": 6,
   "metadata": {},
   "outputs": [],
   "source": [
    "df = pd.read_csv(input_data)"
   ]
  },
  {
   "cell_type": "code",
   "execution_count": 7,
   "metadata": {},
   "outputs": [],
   "source": [
    "energy = df['reaction_energy'].to_numpy\n",
    "ids = df['reactant_molecule_id'].to_numpy"
   ]
  },
  {
   "cell_type": "code",
   "execution_count": 8,
   "metadata": {
    "scrolled": true
   },
   "outputs": [
    {
     "data": {
      "text/plain": [
       "<AxesSubplot:xlabel='reaction_energy', ylabel='reactant_molecule_id'>"
      ]
     },
     "execution_count": 8,
     "metadata": {},
     "output_type": "execute_result"
    },
    {
     "data": {
      "image/png": "[encoded data removed]",
      "text/plain": [
       "<Figure size 432x288 with 1 Axes>"
      ]
     },
     "metadata": {
      "needs_background": "light"
     },
     "output_type": "display_data"
    }
   ],
   "source": [
    "df.plot.scatter(x = 'reaction_energy',y = 'reactant_molecule_id')"
   ]
  },
  {
   "cell_type": "code",
   "execution_count": 9,
   "metadata": {},
   "outputs": [],
   "source": [
    "# Run before every test for reproducibility\n",
    "def seed_all():\n",
    "    np.random.seed(123)\n",
    "    tf.random.set_seed(123)"
   ]
  },
  {
   "cell_type": "code",
   "execution_count": 10,
   "metadata": {},
   "outputs": [
    {
     "name": "stderr",
     "output_type": "stream",
     "text": [
      "/Users/elham/opt/anaconda3/envs/my-rdkit-env/lib/python3.7/site-packages/deepchem/data/data_loader.py:162: FutureWarning: featurize() is deprecated and has been renamed to create_dataset().featurize() will be removed in DeepChem 3.0\n",
      "  \"featurize() will be removed in DeepChem 3.0\", FutureWarning)\n"
     ]
    }
   ],
   "source": [
    "tasks=['reaction_energy']\n",
    "featurizer = dc.feat.ConvMolFeaturizer()\n",
    "loader = dc.data.CSVLoader(tasks=tasks, feature_field=\"reactant_smiles\",featurizer=featurizer)\n",
    "dataset=loader.featurize(input_data)\n"
   ]
  },
  {
   "cell_type": "code",
   "execution_count": 11,
   "metadata": {},
   "outputs": [
    {
     "data": {
      "text/plain": [
       "<DiskDataset X.shape: (12707,), y.shape: (12707, 1), w.shape: (12707, 1), task_names: ['reaction_energy']>"
      ]
     },
     "execution_count": 11,
     "metadata": {},
     "output_type": "execute_result"
    }
   ],
   "source": [
    "dataset"
   ]
  },
  {
   "cell_type": "code",
   "execution_count": 12,
   "metadata": {},
   "outputs": [],
   "source": [
    "seed_all()\n",
    "splitter = dc.splits.RandomSplitter() #There is a \"split\" field in the dataset file where I  defined the training/valid/test set\n",
    "#splitter = dc.splits.RandomStratifiedSplitter()\n",
    "train_dataset, valid_dataset, test_dataset = splitter.train_valid_test_split(dataset,frac_train = 0.8,frac_valid = 0.2, frac_test = 0.0,seed = 0)\n"
   ]
  },
  {
   "cell_type": "code",
   "execution_count": 13,
   "metadata": {},
   "outputs": [],
   "source": [
    "#splitter = dc.splits.ScaffoldSplitter()          #There is a \"split\" field in the dataset file where I  defined the training/valid/test set\n",
    "#train_dataset, valid_dataset, test_dataset = splitter.train_valid_test_split(dataset)\n",
    "model_dir = \"./tf_ckpt_v2\"\n",
    "\n",
    "model = GraphConvModel(n_tasks=1, batch_size=100, mode='regression', dropout=0.25,model_dir= model_dir,random_seed=0)"
   ]
  },
  {
   "cell_type": "code",
   "execution_count": 14,
   "metadata": {},
   "outputs": [
    {
     "data": {
      "text/plain": [
       "<DiskDataset X.shape: (10165,), y.shape: (10165, 1), w.shape: (10165, 1), task_names: ['reaction_energy']>"
      ]
     },
     "execution_count": 14,
     "metadata": {},
     "output_type": "execute_result"
    }
   ],
   "source": [
    "train_dataset"
   ]
  },
  {
   "cell_type": "code",
   "execution_count": 15,
   "metadata": {},
   "outputs": [
    {
     "data": {
      "text/plain": [
       "<DiskDataset X.shape: (2542,), y.shape: (2542, 1), w.shape: (2542, 1), task_names: ['reaction_energy']>"
      ]
     },
     "execution_count": 15,
     "metadata": {},
     "output_type": "execute_result"
    }
   ],
   "source": [
    "valid_dataset"
   ]
  },
  {
   "cell_type": "markdown",
   "metadata": {},
   "source": [
    "Normalizes data set to zero mean"
   ]
  },
  {
   "cell_type": "code",
   "execution_count": 16,
   "metadata": {},
   "outputs": [],
   "source": [
    "transformers = dc.trans.NormalizationTransformer(transform_y=True, dataset=train_dataset, move_mean=True)"
   ]
  },
  {
   "cell_type": "code",
   "execution_count": 17,
   "metadata": {},
   "outputs": [],
   "source": [
    "train_dataset = transformers.transform(train_dataset)\n",
    "valid_dataset= transformers.transform(valid_dataset)"
   ]
  },
  {
   "cell_type": "code",
   "execution_count": 18,
   "metadata": {},
   "outputs": [
    {
     "data": {
      "text/plain": [
       "<DiskDataset X.shape: (10165,), y.shape: (10165, 1), w.shape: (10165, 1), task_names: ['reaction_energy']>"
      ]
     },
     "execution_count": 18,
     "metadata": {},
     "output_type": "execute_result"
    }
   ],
   "source": [
    "train_dataset"
   ]
  },
  {
   "cell_type": "code",
   "execution_count": 19,
   "metadata": {},
   "outputs": [
    {
     "name": "stderr",
     "output_type": "stream",
     "text": [
      "/Users/elham/opt/anaconda3/envs/my-rdkit-env/lib/python3.7/site-packages/sklearn/base.py:213: FutureWarning: From version 0.24, get_params will raise an AttributeError if a parameter cannot be retrieved as an instance attribute. Previously it would return None.\n",
      "  FutureWarning)\n"
     ]
    },
    {
     "data": {
      "text/plain": [
       "GraphConvModel(batch_normalize=None, dense_layer_size=None, dropout=None,\n",
       "               graph_conv_layers=None, mode='regression', n_tasks=1,\n",
       "               number_atom_features=None)"
      ]
     },
     "execution_count": 19,
     "metadata": {},
     "output_type": "execute_result"
    }
   ],
   "source": [
    "model"
   ]
  },
  {
   "cell_type": "code",
   "execution_count": 20,
   "metadata": {},
   "outputs": [],
   "source": [
    "# list of evaluation metrics = [\"pearson_r2_score\", \"r2_score\", \"mean_squared_error\",\"mean_absolute_error\", \"rms_score\", \"mae_score\", \"pearsonr\",\n",
    "#                            \"concordance_index\" ]\n",
    "metric = dc.metrics.Metric(dc.metrics.r2_score, mode='regression')\n"
   ]
  },
  {
   "cell_type": "markdown",
   "metadata": {},
   "source": [
    "Save our trained model to disk"
   ]
  },
  {
   "cell_type": "code",
   "execution_count": 21,
   "metadata": {},
   "outputs": [],
   "source": [
    "ckpt = tf.train.Checkpoint(step=tf.Variable(1))\n",
    "manager = tf.train.CheckpointManager(ckpt, model_dir, max_to_keep=20)"
   ]
  },
  {
   "cell_type": "markdown",
   "metadata": {},
   "source": [
    "Run and train model in 100 epoch"
   ]
  },
  {
   "cell_type": "code",
   "execution_count": 22,
   "metadata": {},
   "outputs": [
    {
     "name": "stderr",
     "output_type": "stream",
     "text": [
      "/Users/elham/opt/anaconda3/envs/my-rdkit-env/lib/python3.7/site-packages/tensorflow/python/framework/indexed_slices.py:433: UserWarning: Converting sparse IndexedSlices to a dense Tensor of unknown shape. This may consume a large amount of memory.\n",
      "  \"Converting sparse IndexedSlices to a dense Tensor of unknown shape. \"\n"
     ]
    },
    {
     "name": "stdout",
     "output_type": "stream",
     "text": [
      "Saved checkpoint for step 2: ./tf_ckpt_v2/ckpt-1 \n",
      "Epoch 0 loss_train: 0.393988 R2_valid: 0.453651  \n",
      "Saved checkpoint for step 3: ./tf_ckpt_v2/ckpt-2 \n",
      "Epoch 1 loss_train: 0.310985 R2_valid: 0.521600  \n",
      "Saved checkpoint for step 4: ./tf_ckpt_v2/ckpt-3 \n",
      "Epoch 2 loss_train: 0.251415 R2_valid: 0.722588  \n",
      "Saved checkpoint for step 5: ./tf_ckpt_v2/ckpt-4 \n",
      "Epoch 3 loss_train: 0.201510 R2_valid: 0.803356  \n",
      "Saved checkpoint for step 6: ./tf_ckpt_v2/ckpt-5 \n",
      "Epoch 4 loss_train: 0.178242 R2_valid: 0.838657  \n",
      "Saved checkpoint for step 7: ./tf_ckpt_v2/ckpt-6 \n",
      "Epoch 5 loss_train: 0.162142 R2_valid: 0.857742  \n",
      "Saved checkpoint for step 8: ./tf_ckpt_v2/ckpt-7 \n",
      "Epoch 6 loss_train: 0.147057 R2_valid: 0.869013  \n",
      "Saved checkpoint for step 9: ./tf_ckpt_v2/ckpt-8 \n",
      "Epoch 7 loss_train: 0.131383 R2_valid: 0.864604  \n",
      "Saved checkpoint for step 10: ./tf_ckpt_v2/ckpt-9 \n",
      "Epoch 8 loss_train: 0.136749 R2_valid: 0.879108  \n",
      "Saved checkpoint for step 11: ./tf_ckpt_v2/ckpt-10 \n",
      "Epoch 9 loss_train: 0.118184 R2_valid: 0.872947  \n",
      "Saved checkpoint for step 12: ./tf_ckpt_v2/ckpt-11 \n",
      "Epoch 10 loss_train: 0.119701 R2_valid: 0.859679  \n",
      "Saved checkpoint for step 13: ./tf_ckpt_v2/ckpt-12 \n",
      "Epoch 11 loss_train: 0.110940 R2_valid: 0.875990  \n",
      "Saved checkpoint for step 14: ./tf_ckpt_v2/ckpt-13 \n",
      "Epoch 12 loss_train: 0.105719 R2_valid: 0.871105  \n",
      "Saved checkpoint for step 15: ./tf_ckpt_v2/ckpt-14 \n",
      "Epoch 13 loss_train: 0.108210 R2_valid: 0.881894  \n",
      "Saved checkpoint for step 16: ./tf_ckpt_v2/ckpt-15 \n",
      "Epoch 14 loss_train: 0.097411 R2_valid: 0.871619  \n",
      "Saved checkpoint for step 17: ./tf_ckpt_v2/ckpt-16 \n",
      "Epoch 15 loss_train: 0.093435 R2_valid: 0.895734  \n",
      "Saved checkpoint for step 18: ./tf_ckpt_v2/ckpt-17 \n",
      "Epoch 16 loss_train: 0.095875 R2_valid: 0.902188  \n",
      "Saved checkpoint for step 19: ./tf_ckpt_v2/ckpt-18 \n",
      "Epoch 17 loss_train: 0.093637 R2_valid: 0.906194  \n",
      "Saved checkpoint for step 20: ./tf_ckpt_v2/ckpt-19 \n",
      "Epoch 18 loss_train: 0.090799 R2_valid: 0.895456  \n",
      "Saved checkpoint for step 21: ./tf_ckpt_v2/ckpt-20 \n",
      "Epoch 19 loss_train: 0.086184 R2_valid: 0.908742  \n",
      "Saved checkpoint for step 22: ./tf_ckpt_v2/ckpt-21 \n",
      "Epoch 20 loss_train: 0.084837 R2_valid: 0.897002  \n",
      "Saved checkpoint for step 23: ./tf_ckpt_v2/ckpt-22 \n",
      "Epoch 21 loss_train: 0.083311 R2_valid: 0.901776  \n",
      "Saved checkpoint for step 24: ./tf_ckpt_v2/ckpt-23 \n",
      "Epoch 22 loss_train: 0.079423 R2_valid: 0.903403  \n",
      "Saved checkpoint for step 25: ./tf_ckpt_v2/ckpt-24 \n",
      "Epoch 23 loss_train: 0.079521 R2_valid: 0.892257  \n",
      "Saved checkpoint for step 26: ./tf_ckpt_v2/ckpt-25 \n",
      "Epoch 24 loss_train: 0.078702 R2_valid: 0.906824  \n",
      "Saved checkpoint for step 27: ./tf_ckpt_v2/ckpt-26 \n",
      "Epoch 25 loss_train: 0.076849 R2_valid: 0.911283  \n",
      "Saved checkpoint for step 28: ./tf_ckpt_v2/ckpt-27 \n",
      "Epoch 26 loss_train: 0.075532 R2_valid: 0.913549  \n",
      "Saved checkpoint for step 29: ./tf_ckpt_v2/ckpt-28 \n",
      "Epoch 27 loss_train: 0.076181 R2_valid: 0.915558  \n",
      "Saved checkpoint for step 30: ./tf_ckpt_v2/ckpt-29 \n",
      "Epoch 28 loss_train: 0.073705 R2_valid: 0.912189  \n",
      "Saved checkpoint for step 31: ./tf_ckpt_v2/ckpt-30 \n",
      "Epoch 29 loss_train: 0.071967 R2_valid: 0.913339  \n",
      "Saved checkpoint for step 32: ./tf_ckpt_v2/ckpt-31 \n",
      "Epoch 30 loss_train: 0.075004 R2_valid: 0.914371  \n",
      "Saved checkpoint for step 33: ./tf_ckpt_v2/ckpt-32 \n",
      "Epoch 31 loss_train: 0.080470 R2_valid: 0.914990  \n",
      "Saved checkpoint for step 34: ./tf_ckpt_v2/ckpt-33 \n",
      "Epoch 32 loss_train: 0.080378 R2_valid: 0.910536  \n",
      "Saved checkpoint for step 35: ./tf_ckpt_v2/ckpt-34 \n",
      "Epoch 33 loss_train: 0.080850 R2_valid: 0.895500  \n",
      "Saved checkpoint for step 36: ./tf_ckpt_v2/ckpt-35 \n",
      "Epoch 34 loss_train: 0.077539 R2_valid: 0.907109  \n",
      "Saved checkpoint for step 37: ./tf_ckpt_v2/ckpt-36 \n",
      "Epoch 35 loss_train: 0.078578 R2_valid: 0.907859  \n",
      "Saved checkpoint for step 38: ./tf_ckpt_v2/ckpt-37 \n",
      "Epoch 36 loss_train: 0.077762 R2_valid: 0.907415  \n",
      "Saved checkpoint for step 39: ./tf_ckpt_v2/ckpt-38 \n",
      "Epoch 37 loss_train: 0.074858 R2_valid: 0.895889  \n",
      "Saved checkpoint for step 40: ./tf_ckpt_v2/ckpt-39 \n",
      "Epoch 38 loss_train: 0.077341 R2_valid: 0.919938  \n",
      "Saved checkpoint for step 41: ./tf_ckpt_v2/ckpt-40 \n",
      "Epoch 39 loss_train: 0.077444 R2_valid: 0.901942  \n",
      "Saved checkpoint for step 42: ./tf_ckpt_v2/ckpt-41 \n",
      "Epoch 40 loss_train: 0.075431 R2_valid: 0.916308  \n",
      "Saved checkpoint for step 43: ./tf_ckpt_v2/ckpt-42 \n",
      "Epoch 41 loss_train: 0.077638 R2_valid: 0.907739  \n",
      "Saved checkpoint for step 44: ./tf_ckpt_v2/ckpt-43 \n",
      "Epoch 42 loss_train: 0.075930 R2_valid: 0.902053  \n",
      "Saved checkpoint for step 45: ./tf_ckpt_v2/ckpt-44 \n",
      "Epoch 43 loss_train: 0.073771 R2_valid: 0.910617  \n",
      "Saved checkpoint for step 46: ./tf_ckpt_v2/ckpt-45 \n",
      "Epoch 44 loss_train: 0.071049 R2_valid: 0.907989  \n",
      "Saved checkpoint for step 47: ./tf_ckpt_v2/ckpt-46 \n",
      "Epoch 45 loss_train: 0.069743 R2_valid: 0.909924  \n",
      "Saved checkpoint for step 48: ./tf_ckpt_v2/ckpt-47 \n",
      "Epoch 46 loss_train: 0.069466 R2_valid: 0.912175  \n",
      "Saved checkpoint for step 49: ./tf_ckpt_v2/ckpt-48 \n",
      "Epoch 47 loss_train: 0.069378 R2_valid: 0.903614  \n",
      "Saved checkpoint for step 50: ./tf_ckpt_v2/ckpt-49 \n",
      "Epoch 48 loss_train: 0.068177 R2_valid: 0.913048  \n",
      "Saved checkpoint for step 51: ./tf_ckpt_v2/ckpt-50 \n",
      "Epoch 49 loss_train: 0.070744 R2_valid: 0.900873  \n",
      "Saved checkpoint for step 52: ./tf_ckpt_v2/ckpt-51 \n",
      "Epoch 50 loss_train: 0.072972 R2_valid: 0.912977  \n",
      "Saved checkpoint for step 53: ./tf_ckpt_v2/ckpt-52 \n",
      "Epoch 51 loss_train: 0.072368 R2_valid: 0.913413  \n",
      "Saved checkpoint for step 54: ./tf_ckpt_v2/ckpt-53 \n",
      "Epoch 52 loss_train: 0.062410 R2_valid: 0.909713  \n",
      "Saved checkpoint for step 55: ./tf_ckpt_v2/ckpt-54 \n",
      "Epoch 53 loss_train: 0.054358 R2_valid: 0.910167  \n",
      "Saved checkpoint for step 56: ./tf_ckpt_v2/ckpt-55 \n",
      "Epoch 54 loss_train: 0.048844 R2_valid: 0.918349  \n",
      "Saved checkpoint for step 57: ./tf_ckpt_v2/ckpt-56 \n",
      "Epoch 55 loss_train: 0.055381 R2_valid: 0.913401  \n",
      "Saved checkpoint for step 58: ./tf_ckpt_v2/ckpt-57 \n",
      "Epoch 56 loss_train: 0.052865 R2_valid: 0.922995  \n",
      "Saved checkpoint for step 59: ./tf_ckpt_v2/ckpt-58 \n",
      "Epoch 57 loss_train: 0.050714 R2_valid: 0.914326  \n",
      "Saved checkpoint for step 60: ./tf_ckpt_v2/ckpt-59 \n",
      "Epoch 58 loss_train: 0.055709 R2_valid: 0.912770  \n",
      "Saved checkpoint for step 61: ./tf_ckpt_v2/ckpt-60 \n",
      "Epoch 59 loss_train: 0.053961 R2_valid: 0.902692  \n",
      "Saved checkpoint for step 62: ./tf_ckpt_v2/ckpt-61 \n",
      "Epoch 60 loss_train: 0.053524 R2_valid: 0.909460  \n",
      "Saved checkpoint for step 63: ./tf_ckpt_v2/ckpt-62 \n",
      "Epoch 61 loss_train: 0.052935 R2_valid: 0.911353  \n",
      "Saved checkpoint for step 64: ./tf_ckpt_v2/ckpt-63 \n",
      "Epoch 62 loss_train: 0.051807 R2_valid: 0.922338  \n",
      "Saved checkpoint for step 65: ./tf_ckpt_v2/ckpt-64 \n",
      "Epoch 63 loss_train: 0.052718 R2_valid: 0.919603  \n",
      "Saved checkpoint for step 66: ./tf_ckpt_v2/ckpt-65 \n",
      "Epoch 64 loss_train: 0.051364 R2_valid: 0.910643  \n",
      "Saved checkpoint for step 67: ./tf_ckpt_v2/ckpt-66 \n",
      "Epoch 65 loss_train: 0.053152 R2_valid: 0.913173  \n",
      "Saved checkpoint for step 68: ./tf_ckpt_v2/ckpt-67 \n",
      "Epoch 66 loss_train: 0.050599 R2_valid: 0.911496  \n",
      "Saved checkpoint for step 69: ./tf_ckpt_v2/ckpt-68 \n",
      "Epoch 67 loss_train: 0.052344 R2_valid: 0.918600  \n",
      "Saved checkpoint for step 70: ./tf_ckpt_v2/ckpt-69 \n",
      "Epoch 68 loss_train: 0.050116 R2_valid: 0.915538  \n",
      "Saved checkpoint for step 71: ./tf_ckpt_v2/ckpt-70 \n",
      "Epoch 69 loss_train: 0.048892 R2_valid: 0.927529  \n",
      "Saved checkpoint for step 72: ./tf_ckpt_v2/ckpt-71 \n",
      "Epoch 70 loss_train: 0.048618 R2_valid: 0.924875  \n",
      "Saved checkpoint for step 73: ./tf_ckpt_v2/ckpt-72 \n",
      "Epoch 71 loss_train: 0.049788 R2_valid: 0.919554  \n",
      "Saved checkpoint for step 74: ./tf_ckpt_v2/ckpt-73 \n",
      "Epoch 72 loss_train: 0.047238 R2_valid: 0.927100  \n",
      "Saved checkpoint for step 75: ./tf_ckpt_v2/ckpt-74 \n",
      "Epoch 73 loss_train: 0.048446 R2_valid: 0.921613  \n",
      "Saved checkpoint for step 76: ./tf_ckpt_v2/ckpt-75 \n",
      "Epoch 74 loss_train: 0.048051 R2_valid: 0.927678  \n",
      "Saved checkpoint for step 77: ./tf_ckpt_v2/ckpt-76 \n",
      "Epoch 75 loss_train: 0.049960 R2_valid: 0.915220  \n",
      "Saved checkpoint for step 78: ./tf_ckpt_v2/ckpt-77 \n",
      "Epoch 76 loss_train: 0.050960 R2_valid: 0.911460  \n",
      "Saved checkpoint for step 79: ./tf_ckpt_v2/ckpt-78 \n",
      "Epoch 77 loss_train: 0.047865 R2_valid: 0.919632  \n",
      "Saved checkpoint for step 80: ./tf_ckpt_v2/ckpt-79 \n",
      "Epoch 78 loss_train: 0.047120 R2_valid: 0.922887  \n",
      "Saved checkpoint for step 81: ./tf_ckpt_v2/ckpt-80 \n",
      "Epoch 79 loss_train: 0.048558 R2_valid: 0.913627  \n"
     ]
    },
    {
     "name": "stdout",
     "output_type": "stream",
     "text": [
      "Saved checkpoint for step 82: ./tf_ckpt_v2/ckpt-81 \n",
      "Epoch 80 loss_train: 0.052549 R2_valid: 0.924138  \n",
      "Saved checkpoint for step 83: ./tf_ckpt_v2/ckpt-82 \n",
      "Epoch 81 loss_train: 0.053905 R2_valid: 0.918224  \n",
      "Saved checkpoint for step 84: ./tf_ckpt_v2/ckpt-83 \n",
      "Epoch 82 loss_train: 0.055380 R2_valid: 0.924382  \n",
      "Saved checkpoint for step 85: ./tf_ckpt_v2/ckpt-84 \n",
      "Epoch 83 loss_train: 0.058320 R2_valid: 0.919648  \n",
      "Saved checkpoint for step 86: ./tf_ckpt_v2/ckpt-85 \n",
      "Epoch 84 loss_train: 0.054906 R2_valid: 0.930122  \n",
      "Saved checkpoint for step 87: ./tf_ckpt_v2/ckpt-86 \n",
      "Epoch 85 loss_train: 0.055723 R2_valid: 0.923077  \n",
      "Saved checkpoint for step 88: ./tf_ckpt_v2/ckpt-87 \n",
      "Epoch 86 loss_train: 0.056429 R2_valid: 0.920126  \n",
      "Saved checkpoint for step 89: ./tf_ckpt_v2/ckpt-88 \n",
      "Epoch 87 loss_train: 0.055889 R2_valid: 0.925571  \n",
      "Saved checkpoint for step 90: ./tf_ckpt_v2/ckpt-89 \n",
      "Epoch 88 loss_train: 0.055717 R2_valid: 0.920991  \n",
      "Saved checkpoint for step 91: ./tf_ckpt_v2/ckpt-90 \n",
      "Epoch 89 loss_train: 0.055675 R2_valid: 0.924011  \n",
      "Saved checkpoint for step 92: ./tf_ckpt_v2/ckpt-91 \n",
      "Epoch 90 loss_train: 0.054409 R2_valid: 0.917554  \n",
      "Saved checkpoint for step 93: ./tf_ckpt_v2/ckpt-92 \n",
      "Epoch 91 loss_train: 0.056169 R2_valid: 0.921548  \n",
      "Saved checkpoint for step 94: ./tf_ckpt_v2/ckpt-93 \n",
      "Epoch 92 loss_train: 0.056648 R2_valid: 0.922594  \n",
      "Saved checkpoint for step 95: ./tf_ckpt_v2/ckpt-94 \n",
      "Epoch 93 loss_train: 0.055450 R2_valid: 0.928947  \n",
      "Saved checkpoint for step 96: ./tf_ckpt_v2/ckpt-95 \n",
      "Epoch 94 loss_train: 0.053751 R2_valid: 0.927659  \n",
      "Saved checkpoint for step 97: ./tf_ckpt_v2/ckpt-96 \n",
      "Epoch 95 loss_train: 0.053206 R2_valid: 0.923163  \n",
      "Saved checkpoint for step 98: ./tf_ckpt_v2/ckpt-97 \n",
      "Epoch 96 loss_train: 0.051860 R2_valid: 0.921163  \n",
      "Saved checkpoint for step 99: ./tf_ckpt_v2/ckpt-98 \n",
      "Epoch 97 loss_train: 0.054220 R2_valid: 0.923287  \n",
      "Saved checkpoint for step 100: ./tf_ckpt_v2/ckpt-99 \n",
      "Epoch 98 loss_train: 0.051235 R2_valid: 0.916938  \n",
      "Saved checkpoint for step 101: ./tf_ckpt_v2/ckpt-100 \n",
      "Epoch 99 loss_train: 0.051565 R2_valid: 0.920874  \n"
     ]
    }
   ],
   "source": [
    "num_epochs = 100\n",
    "losses_train = []\n",
    "score_valid = []\n",
    "for i in range(num_epochs):\n",
    "    loss_train = model.fit(train_dataset, nb_epoch=1,deterministic=True)\n",
    "    ckpt.step.assign_add(1)\n",
    "    save_path = manager.save()\n",
    "    print(\"Saved checkpoint for step {}: {} \".format(int(ckpt.step), save_path))\n",
    "    model.save_checkpoint(max_checkpoints_to_keep=20 , model_dir = save_path )\n",
    "    #model.restore()\n",
    "    R2_valid = model.evaluate(valid_dataset,[metric])['r2_score']\n",
    "    print(\"Epoch %d loss_train: %f R2_valid: %f  \" % (i, loss_train,R2_valid))\n",
    "    \n",
    "    \n",
    "    losses_train.append(loss_train)\n",
    "    score_valid.append(R2_valid)\n",
    "    "
   ]
  },
  {
   "cell_type": "code",
   "execution_count": 23,
   "metadata": {},
   "outputs": [
    {
     "data": {
      "text/plain": [
       "['./tf_ckpt_v2/ckpt-81', './tf_ckpt_v2/ckpt-82', './tf_ckpt_v2/ckpt-83', './tf_ckpt_v2/ckpt-84', './tf_ckpt_v2/ckpt-85', './tf_ckpt_v2/ckpt-86', './tf_ckpt_v2/ckpt-87', './tf_ckpt_v2/ckpt-88', './tf_ckpt_v2/ckpt-89', './tf_ckpt_v2/ckpt-90', './tf_ckpt_v2/ckpt-91', './tf_ckpt_v2/ckpt-92', './tf_ckpt_v2/ckpt-93', './tf_ckpt_v2/ckpt-94', './tf_ckpt_v2/ckpt-95', './tf_ckpt_v2/ckpt-96', './tf_ckpt_v2/ckpt-97', './tf_ckpt_v2/ckpt-98', './tf_ckpt_v2/ckpt-99', './tf_ckpt_v2/ckpt-100']"
      ]
     },
     "execution_count": 23,
     "metadata": {},
     "output_type": "execute_result"
    }
   ],
   "source": [
    "model.get_checkpoints()"
   ]
  },
  {
   "cell_type": "code",
   "execution_count": 24,
   "metadata": {},
   "outputs": [
    {
     "data": {
      "text/plain": [
       "'./tf_ckpt_v2/model.joblib'"
      ]
     },
     "execution_count": 24,
     "metadata": {},
     "output_type": "execute_result"
    }
   ],
   "source": [
    "model.get_model_filename('./tf_ckpt_v2')"
   ]
  },
  {
   "cell_type": "code",
   "execution_count": 25,
   "metadata": {},
   "outputs": [
    {
     "name": "stdout",
     "output_type": "stream",
     "text": [
      "--- 851.9749822616577 seconds ---\n"
     ]
    }
   ],
   "source": [
    "print(\"--- %s seconds ---\" % (time.time() - start_time))"
   ]
  },
  {
   "cell_type": "code",
   "execution_count": 26,
   "metadata": {
    "scrolled": true
   },
   "outputs": [
    {
     "data": {
      "text/plain": [
       "[Text(0.5, 0, 'epoch'), Text(0, 0.5, 'R2 score')]"
      ]
     },
     "execution_count": 26,
     "metadata": {},
     "output_type": "execute_result"
    },
    {
     "data": {
      "image/png": "[encoded data removed]",
      "text/plain": [
       "<Figure size 432x288 with 2 Axes>"
      ]
     },
     "metadata": {
      "needs_background": "light"
     },
     "output_type": "display_data"
    }
   ],
   "source": [
    "import matplotlib.pyplot as plt\n",
    "\n",
    "#print(len(losses))\n",
    "fig, ax = plt.subplots(2, sharex='col', sharey='row')\n",
    "x = range(num_epochs)\n",
    "y_train = losses_train\n",
    "ax[0].plot(x, y_train, c='b', alpha=0.6, label='loss_train')\n",
    "ax[0].set(xlabel='epoch', ylabel='loss')\n",
    "\n",
    "y_test = score_valid\n",
    "ax[1].plot(x, y_test,c='r', alpha=0.6, label='score_valid')\n",
    "ax[1].set(xlabel='epoch', ylabel='R2 score')\n"
   ]
  },
  {
   "cell_type": "code",
   "execution_count": 32,
   "metadata": {},
   "outputs": [
    {
     "data": {
      "text/plain": [
       "[Text(0.5, 0, 'epoch'), Text(0, 0.5, 'R2 score')]"
      ]
     },
     "execution_count": 32,
     "metadata": {},
     "output_type": "execute_result"
    },
    {
     "data": {
      "image/png": "[encoded data removed]",
      "text/plain": [
       "<Figure size 432x288 with 2 Axes>"
      ]
     },
     "metadata": {
      "needs_background": "light"
     },
     "output_type": "display_data"
    }
   ],
   "source": [
    "#print(len(losses))\n",
    "fig, ax = plt.subplots(2, sharex='col', sharey='row')\n",
    "x = range(num_epochs)\n",
    "y_train = losses_train\n",
    "ax[0].plot(x[22:99], y_train[22:99], c='b', alpha=0.6, label='loss_train')\n",
    "ax[0].set(xlabel='epoch', ylabel='loss')\n",
    "\n",
    "y_test = score_valid\n",
    "ax[1].plot(x[22:99], y_test[22:99],c='r', alpha=0.6, label='score_valid')\n",
    "ax[1].set(xlabel='epoch', ylabel='R2 score')\n"
   ]
  },
  {
   "cell_type": "markdown",
   "metadata": {},
   "source": [
    "Model evaluation"
   ]
  },
  {
   "cell_type": "code",
   "execution_count": 29,
   "metadata": {},
   "outputs": [],
   "source": [
    "#metric = dc.metrics.Metric(dc.metrics.r2_score)\n",
    "#print(model.evaluate(test_dataset, [metric], transformers))"
   ]
  },
  {
   "cell_type": "code",
   "execution_count": 33,
   "metadata": {},
   "outputs": [
    {
     "name": "stdout",
     "output_type": "stream",
     "text": [
      "Evaluating model\n",
      "Train scores\n",
      "{'r2_score': 0.9217960797308986}\n",
      "Validation scores\n",
      "{'r2_score': 0.9208740690103334}\n"
     ]
    }
   ],
   "source": [
    "print(\"Evaluating model\")\n",
    "train_scores = model.evaluate(train_dataset, [metric])\n",
    "valid_scores = model.evaluate(valid_dataset, [metric])\n",
    "\n",
    "print(\"Train scores\")\n",
    "print(train_scores)\n",
    "\n",
    "print(\"Validation scores\")\n",
    "print(valid_scores)\n"
   ]
  },
  {
   "cell_type": "code",
   "execution_count": 34,
   "metadata": {},
   "outputs": [],
   "source": [
    "train_y = train_dataset.y"
   ]
  },
  {
   "cell_type": "code",
   "execution_count": 35,
   "metadata": {},
   "outputs": [],
   "source": [
    "train_pred= model.predict(train_dataset)"
   ]
  },
  {
   "cell_type": "code",
   "execution_count": 36,
   "metadata": {},
   "outputs": [
    {
     "data": {
      "image/png": "[encoded data removed]",
      "text/plain": [
       "<Figure size 432x288 with 1 Axes>"
      ]
     },
     "metadata": {
      "needs_background": "light"
     },
     "output_type": "display_data"
    }
   ],
   "source": [
    "import matplotlib.pyplot as plt\n",
    "plt.title('Lets see the linear relationship between x and y of training set')\n",
    "plt.scatter(train_y,train_pred,s=5,c='black',marker='*')\n",
    "plt.xlabel('Energy')\n",
    "plt.ylabel('pred')\n",
    "plt.show()"
   ]
  },
  {
   "cell_type": "markdown",
   "metadata": {},
   "source": [
    "Import our test data to evaluate model"
   ]
  },
  {
   "cell_type": "code",
   "execution_count": 37,
   "metadata": {},
   "outputs": [
    {
     "name": "stderr",
     "output_type": "stream",
     "text": [
      "/Users/elham/opt/anaconda3/envs/my-rdkit-env/lib/python3.7/site-packages/deepchem/data/data_loader.py:162: FutureWarning: featurize() is deprecated and has been renamed to create_dataset().featurize() will be removed in DeepChem 3.0\n",
      "  \"featurize() will be removed in DeepChem 3.0\", FutureWarning)\n"
     ]
    }
   ],
   "source": [
    "input_data_test= '../final_data/test1.csv'\n",
    "tasks=['reaction_energy']\n",
    "featurizer = dc.feat.ConvMolFeaturizer()\n",
    "loader = dc.data.CSVLoader(tasks=tasks, feature_field=\"reactant_smiles\",featurizer=featurizer)\n",
    "dataset=loader.featurize(input_data_test)\n",
    "\n",
    "\n",
    "#x = featurizer.featurize(mol_test)\n",
    "#predicted_energy = model.predict_on_batch(x)\n",
    "#y_pred = predicted_energy"
   ]
  },
  {
   "cell_type": "code",
   "execution_count": 38,
   "metadata": {},
   "outputs": [],
   "source": [
    "# Normalize them\n",
    "#transformers1 = [dc.trans.NormalizationTransformer(transform_y=True, dataset=dataset)]\n",
    "transformers1 = dc.trans.NormalizationTransformer(transform_y=True, dataset=dataset, move_mean=True)"
   ]
  },
  {
   "cell_type": "code",
   "execution_count": 39,
   "metadata": {},
   "outputs": [],
   "source": [
    "dataset = transformers1.transform(dataset)"
   ]
  },
  {
   "cell_type": "code",
   "execution_count": 40,
   "metadata": {},
   "outputs": [],
   "source": [
    "test_pred= model.predict(dataset)"
   ]
  },
  {
   "cell_type": "code",
   "execution_count": 41,
   "metadata": {},
   "outputs": [],
   "source": [
    "test_y = dataset.y"
   ]
  },
  {
   "cell_type": "code",
   "execution_count": 42,
   "metadata": {},
   "outputs": [
    {
     "data": {
      "image/png": "[encoded data removed]",
      "text/plain": [
       "<Figure size 432x288 with 1 Axes>"
      ]
     },
     "metadata": {
      "needs_background": "light"
     },
     "output_type": "display_data"
    }
   ],
   "source": [
    "plt.title('Lets see the linear relationship between x and y of training set')\n",
    "plt.scatter(test_y,test_pred,s=8,c='blue',marker='*')\n",
    "plt.xlabel('Energy')\n",
    "plt.ylabel('pred')\n",
    "plt.show()"
   ]
  },
  {
   "cell_type": "markdown",
   "metadata": {},
   "source": [
    "Using sklearn to eavluate model"
   ]
  },
  {
   "cell_type": "code",
   "execution_count": 43,
   "metadata": {},
   "outputs": [],
   "source": [
    "from sklearn.metrics import mean_squared_error,mean_absolute_error,r2_score\n",
    "from math import sqrt"
   ]
  },
  {
   "cell_type": "code",
   "execution_count": 44,
   "metadata": {},
   "outputs": [
    {
     "name": "stdout",
     "output_type": "stream",
     "text": [
      "MSE: 0.09054973602983138\n",
      "RMSE: 0.3009148318541833\n",
      "MAE: 0.21811019645778879\n",
      "R2: 0.9094502639701687\n"
     ]
    }
   ],
   "source": [
    "print(\"MSE:\", mean_squared_error(test_y,test_pred))\n",
    "print(\"RMSE:\",sqrt(mean_squared_error(test_y,test_pred)))\n",
    "print(\"MAE:\",mean_absolute_error(test_y,test_pred))\n",
    "print(\"R2:\", r2_score(test_y,test_pred))"
   ]
  },
  {
   "cell_type": "code",
   "execution_count": 45,
   "metadata": {},
   "outputs": [
    {
     "data": {
      "image/png": "[encoded data removed]",
      "text/plain": [
       "<Figure size 432x288 with 1 Axes>"
      ]
     },
     "metadata": {
      "needs_background": "light"
     },
     "output_type": "display_data"
    }
   ],
   "source": [
    "plt.xlim((-4,4))\n",
    "plt.ylim((-4,4))\n",
    "plt.title(\"GCN Regression Prediction\")\n",
    "plt.xlabel(\"Real E\")\n",
    "plt.ylabel(\"Predicted E\")\n",
    "plt.grid(color='w', linestyle='--', linewidth=1)\n",
    "plt.scatter(train_y,train_pred, \n",
    "            color=\"blue\", alpha=0.8, label=\"train\")\n",
    "plt.scatter(test_y,test_pred, \n",
    "            color=\"lightgreen\", alpha=0.8, label=\"test\")\n",
    "plt.legend(loc = 'best')\n",
    "plt.show()"
   ]
  },
  {
   "cell_type": "markdown",
   "metadata": {},
   "source": [
    "Chack test2 data"
   ]
  },
  {
   "cell_type": "code",
   "execution_count": 46,
   "metadata": {},
   "outputs": [
    {
     "name": "stderr",
     "output_type": "stream",
     "text": [
      "/Users/elham/opt/anaconda3/envs/my-rdkit-env/lib/python3.7/site-packages/deepchem/data/data_loader.py:162: FutureWarning: featurize() is deprecated and has been renamed to create_dataset().featurize() will be removed in DeepChem 3.0\n",
      "  \"featurize() will be removed in DeepChem 3.0\", FutureWarning)\n"
     ]
    }
   ],
   "source": [
    "input_data_test2= '../final_data/test2.csv'\n",
    "tasks=['reaction_energy']\n",
    "featurizer = dc.feat.ConvMolFeaturizer()\n",
    "loader = dc.data.CSVLoader(tasks=tasks, feature_field=\"reactant_smiles\",featurizer=featurizer)\n",
    "dataset2=loader.featurize(input_data_test2)\n"
   ]
  },
  {
   "cell_type": "code",
   "execution_count": 47,
   "metadata": {},
   "outputs": [],
   "source": [
    "# Normalize them\n",
    "transformers2 = dc.trans.NormalizationTransformer(transform_y=True, dataset=dataset2,move_mean=True)"
   ]
  },
  {
   "cell_type": "code",
   "execution_count": 48,
   "metadata": {},
   "outputs": [],
   "source": [
    "dataset2 = transformers2.transform(dataset2)"
   ]
  },
  {
   "cell_type": "code",
   "execution_count": 49,
   "metadata": {},
   "outputs": [],
   "source": [
    "test_pred2= model.predict(dataset2)"
   ]
  },
  {
   "cell_type": "code",
   "execution_count": 50,
   "metadata": {},
   "outputs": [],
   "source": [
    "test2_y = dataset2.y"
   ]
  },
  {
   "cell_type": "code",
   "execution_count": 51,
   "metadata": {},
   "outputs": [
    {
     "data": {
      "image/png": "[encoded data removed]",
      "text/plain": [
       "<Figure size 432x288 with 1 Axes>"
      ]
     },
     "metadata": {
      "needs_background": "light"
     },
     "output_type": "display_data"
    }
   ],
   "source": [
    "plt.title('Lets see the linear relationship between x and y of training set')\n",
    "plt.scatter(test2_y,test_pred2,s=8,c='blue',marker='*')\n",
    "plt.xlabel('Energy')\n",
    "plt.ylabel('pred')\n",
    "plt.show()"
   ]
  },
  {
   "cell_type": "code",
   "execution_count": 52,
   "metadata": {},
   "outputs": [
    {
     "name": "stdout",
     "output_type": "stream",
     "text": [
      "MSE: 0.09734733049523073\n",
      "RMSE: 0.31200533728644886\n",
      "MAE: 0.2378926425043397\n",
      "R2: 0.9026526695047693\n"
     ]
    }
   ],
   "source": [
    "print(\"MSE:\",mean_squared_error(test2_y,test_pred2))\n",
    "print(\"RMSE:\",sqrt(mean_squared_error(test2_y,test_pred2)))\n",
    "print(\"MAE:\",mean_absolute_error(test2_y,test_pred2))\n",
    "print(\"R2:\",r2_score(test2_y,test_pred2))"
   ]
  },
  {
   "cell_type": "code",
   "execution_count": 53,
   "metadata": {},
   "outputs": [
    {
     "data": {
      "image/png": "[encoded data removed]",
      "text/plain": [
       "<Figure size 432x288 with 1 Axes>"
      ]
     },
     "metadata": {
      "needs_background": "light"
     },
     "output_type": "display_data"
    }
   ],
   "source": [
    "plt.xlim((-4,4))\n",
    "plt.ylim((-4,4))\n",
    "plt.title(\"GCN Regression Prediction\")\n",
    "plt.xlabel(\"Real E\")\n",
    "plt.ylabel(\"Predicted E\")\n",
    "plt.grid(color='w', linestyle='--', linewidth=1)\n",
    "plt.scatter(train_y,train_pred, \n",
    "            color=\"blue\", alpha=0.8, label=\"train\")\n",
    "plt.scatter(test_y,test_pred, \n",
    "            color=\"red\", alpha=0.8, label=\"test\")\n",
    "plt.scatter(test2_y,test_pred2, \n",
    "            color=\"lightgreen\", alpha=0.8, label=\"test\")\n",
    "plt.legend(loc = 'best')\n",
    "plt.show()"
   ]
  },
  {
   "cell_type": "markdown",
   "metadata": {},
   "source": [
    "Here is the train evaluation results"
   ]
  },
  {
   "cell_type": "code",
   "execution_count": 54,
   "metadata": {},
   "outputs": [
    {
     "name": "stdout",
     "output_type": "stream",
     "text": [
      "MSE 0.07820392026910152\n",
      "RMSE 0.27964963842118856\n",
      "MAE 0.20280770578098156\n",
      "R2 0.9217960797308986\n"
     ]
    }
   ],
   "source": [
    "print(\"MSE\" , mean_squared_error(train_y,train_pred))\n",
    "print(\"RMSE\" , sqrt(mean_squared_error(train_y,train_pred)))\n",
    "print(\"MAE\", mean_absolute_error(train_y,train_pred))\n",
    "print(\"R2\", r2_score(train_y,train_pred))"
   ]
  },
  {
   "cell_type": "code",
   "execution_count": null,
   "metadata": {},
   "outputs": [],
   "source": [
    "#hyperparameter\n",
    "hp = dc.molnet.preset_hyper_parameters\n",
    "param = hp.hps[ 'graphconvreg' ]\n",
    "print(param['batch_size'])\n",
    "g = tf.Graph()\n",
    "graph_model = dc.nn.SequentialGraph( 75 )\n",
    "graph_model.add( dc.nn.GraphConv( int(param['n_filters']), 75, activation='relu' ))\n",
    "graph_model.add( dc.nn.BatchNormalization( epsilon=1e-5, mode=1 ))\n",
    "graph_model.add( dc.nn.GraphPool() )\n",
    "graph_model.add( dc.nn.GraphConv( int(param['n_filters']), int(param['n_filters']), activation='relu' ))\n",
    "graph_model.add( dc.nn.BatchNormalization( epsilon=1e-5, mode=1 ))\n",
    "graph_model.add( dc.nn.GraphPool() )\n",
    "graph_model.add( dc.nn.Dense( int(param['n_fully_connected_nodes']), int(param['n_filters']), activation='relu' ))\n",
    "graph_model.add( dc.nn.BatchNormalization( epsilon=1e-5, mode=1 ))\n",
    "#graph_model.add( dc.nn.GraphGather(param['batch_size'], activation='tanh'))\n",
    "graph_model.add( dc.nn.GraphGather( 10 , activation='tanh'))"
   ]
  },
  {
   "cell_type": "code",
   "execution_count": null,
   "metadata": {},
   "outputs": [],
   "source": []
  }
 ],
 "metadata": {
  "kernelspec": {
   "display_name": "Python 3",
   "language": "python",
   "name": "python3"
  },
  "language_info": {
   "codemirror_mode": {
    "name": "ipython",
    "version": 3
   },
   "file_extension": ".py",
   "mimetype": "text/x-python",
   "name": "python",
   "nbconvert_exporter": "python",
   "pygments_lexer": "ipython3",
   "version": "3.7.9"
  }
 },
 "nbformat": 4,
 "nbformat_minor": 4
}
