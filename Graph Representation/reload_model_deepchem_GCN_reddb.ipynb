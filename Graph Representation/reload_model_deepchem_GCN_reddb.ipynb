{
 "cells": [
  {
   "cell_type": "markdown",
   "metadata": {},
   "source": [
    "# Deep Chem Library to predict reaction energies of molecular dataset"
   ]
  },
  {
   "cell_type": "markdown",
   "metadata": {},
   "source": [
    "## Load the saved and trained model to predict properties "
   ]
  },
  {
   "cell_type": "markdown",
   "metadata": {},
   "source": [
    "## Import the necessary libraries "
   ]
  },
  {
   "cell_type": "code",
   "execution_count": 1,
   "metadata": {},
   "outputs": [
    {
     "name": "stderr",
     "output_type": "stream",
     "text": [
      "deepchem.utils.save has been deprecated.\n",
      "The utilities in save.py are moved to deepchem.utils.data_utils or deepchem.utils.genomics_utils.\n"
     ]
    }
   ],
   "source": [
    "import numpy as np\n",
    "import pandas as pd\n",
    "import tensorflow as tf\n",
    "from tensorflow import keras\n",
    "import deepchem as dc\n",
    "from rdkit import Chem\n",
    "from deepchem.splits.splitters import ScaffoldSplitter,SpecifiedSplitter,RandomSplitter\n",
    "from deepchem.models import GraphConvModel\n",
    "import pickle\n",
    "from keras.callbacks import ModelCheckpoint,EarlyStopping\n",
    "from deepchem.utils.save import load_from_disk\n",
    "from deepchem.utils.save import save_to_disk\n",
    "from deepchem.utils.evaluate import Evaluator\n",
    "import os"
   ]
  },
  {
   "cell_type": "markdown",
   "metadata": {},
   "source": [
    "define the model directory"
   ]
  },
  {
   "cell_type": "code",
   "execution_count": 2,
   "metadata": {},
   "outputs": [],
   "source": [
    "#model_dir = \"./models/logD\"\n",
    "model_dir = './tf_ckpt_v2'\n",
    "logD_model = dc.models.GraphConvModel(n_tasks=1, batch_size=100, mode='regression', dropout=0.25,model_dir= model_dir,random_seed=0)\n",
    "\n"
   ]
  },
  {
   "cell_type": "markdown",
   "metadata": {},
   "source": [
    "here is the available checkpoints"
   ]
  },
  {
   "cell_type": "code",
   "execution_count": 3,
   "metadata": {},
   "outputs": [
    {
     "data": {
      "text/plain": [
       "['./tf_ckpt_v2/ckpt-81', './tf_ckpt_v2/ckpt-82', './tf_ckpt_v2/ckpt-83', './tf_ckpt_v2/ckpt-84', './tf_ckpt_v2/ckpt-85', './tf_ckpt_v2/ckpt-86', './tf_ckpt_v2/ckpt-87', './tf_ckpt_v2/ckpt-88', './tf_ckpt_v2/ckpt-89', './tf_ckpt_v2/ckpt-90', './tf_ckpt_v2/ckpt-91', './tf_ckpt_v2/ckpt-92', './tf_ckpt_v2/ckpt-93', './tf_ckpt_v2/ckpt-94', './tf_ckpt_v2/ckpt-95', './tf_ckpt_v2/ckpt-96', './tf_ckpt_v2/ckpt-97', './tf_ckpt_v2/ckpt-98', './tf_ckpt_v2/ckpt-99', './tf_ckpt_v2/ckpt-100']"
      ]
     },
     "execution_count": 3,
     "metadata": {},
     "output_type": "execute_result"
    }
   ],
   "source": [
    "logD_model.get_checkpoints()"
   ]
  },
  {
   "cell_type": "markdown",
   "metadata": {},
   "source": [
    "call the exact checkpoint we want from trained model"
   ]
  },
  {
   "cell_type": "code",
   "execution_count": 4,
   "metadata": {},
   "outputs": [],
   "source": [
    "logD_model.restore('./tf_ckpt_v2/ckpt-85/ckpt-178')"
   ]
  },
  {
   "cell_type": "markdown",
   "metadata": {},
   "source": [
    "Import train data"
   ]
  },
  {
   "cell_type": "code",
   "execution_count": 5,
   "metadata": {},
   "outputs": [],
   "source": [
    "input_data=\"../final_data/train.csv\""
   ]
  },
  {
   "cell_type": "code",
   "execution_count": 6,
   "metadata": {},
   "outputs": [],
   "source": [
    "# Run before every test for reproducibility\n",
    "def seed_all():\n",
    "    np.random.seed(123)\n",
    "    tf.random.set_seed(123)"
   ]
  },
  {
   "cell_type": "code",
   "execution_count": 7,
   "metadata": {},
   "outputs": [
    {
     "name": "stderr",
     "output_type": "stream",
     "text": [
      "/Users/elham/opt/anaconda3/envs/my-rdkit-env/lib/python3.7/site-packages/deepchem/data/data_loader.py:162: FutureWarning: featurize() is deprecated and has been renamed to create_dataset().featurize() will be removed in DeepChem 3.0\n",
      "  \"featurize() will be removed in DeepChem 3.0\", FutureWarning)\n"
     ]
    }
   ],
   "source": [
    "tasks=['reaction_energy']\n",
    "featurizer = dc.feat.ConvMolFeaturizer()\n",
    "loader = dc.data.CSVLoader(tasks=tasks, feature_field=\"reactant_smiles\",featurizer=featurizer)\n",
    "dataset=loader.featurize(input_data)"
   ]
  },
  {
   "cell_type": "code",
   "execution_count": 8,
   "metadata": {},
   "outputs": [],
   "source": [
    "seed_all()\n",
    "splitter = dc.splits.RandomSplitter() #There is a \"split\" field in the dataset file where I  defined the training/valid/test set\n",
    "#splitter = dc.splits.RandomStratifiedSplitter()\n",
    "train_dataset, valid_dataset, test_dataset = splitter.train_valid_test_split(dataset,frac_train = 0.8,frac_valid = 0.2, frac_test = 0.0,seed = 0)\n"
   ]
  },
  {
   "cell_type": "markdown",
   "metadata": {},
   "source": [
    "Normalize our train and valid data"
   ]
  },
  {
   "cell_type": "code",
   "execution_count": 9,
   "metadata": {},
   "outputs": [],
   "source": [
    "transformers = dc.trans.NormalizationTransformer(transform_y=True, dataset=train_dataset, move_mean=True)"
   ]
  },
  {
   "cell_type": "code",
   "execution_count": 10,
   "metadata": {},
   "outputs": [],
   "source": [
    "train_dataset = transformers.transform(train_dataset)\n",
    "valid_dataset= transformers.transform(valid_dataset)"
   ]
  },
  {
   "cell_type": "code",
   "execution_count": 43,
   "metadata": {},
   "outputs": [
    {
     "name": "stdout",
     "output_type": "stream",
     "text": [
      "Epoch 0 loss_train: 0.049441 R2_valid: 0.929343 \n"
     ]
    }
   ],
   "source": [
    "metric = dc.metrics.Metric(dc.metrics.r2_score, mode='regression')\n",
    "# list of evaluation metrics = [\"pearson_r2_score\", \"r2_score\", \"mean_squared_error\",\"mean_absolute_error\", \"rms_score\", \"mae_score\", \"pearsonr\",\n",
    "#                            \"concordance_index\" ]\n",
    "num_epochs = 1\n",
    "losses_second_train = []\n",
    "score_second_valid = []\n",
    "for i in range(num_epochs):\n",
    "    loss_train = logD_model.fit(train_dataset, nb_epoch=1)\n",
    "    # checkpoint_interval causes the model not to save a checkpoint.\n",
    "    #R2_valid = model.evaluate(test_dataset,[metric])['pearsonr']\n",
    "    R2_valid = logD_model.evaluate(valid_dataset,[metric])['r2_score']\n",
    "    print(\"Epoch %d loss_train: %f R2_valid: %f \" % (i, loss_train,R2_valid))\n",
    "\n",
    "    losses_second_train.append(loss_train)\n",
    "    score_second_valid.append(R2_valid)\n",
    "   "
   ]
  },
  {
   "cell_type": "code",
   "execution_count": 11,
   "metadata": {},
   "outputs": [],
   "source": [
    "train_y = train_dataset.y"
   ]
  },
  {
   "cell_type": "code",
   "execution_count": 12,
   "metadata": {},
   "outputs": [],
   "source": [
    "train_pred= logD_model.predict(train_dataset)"
   ]
  },
  {
   "cell_type": "code",
   "execution_count": 13,
   "metadata": {},
   "outputs": [
    {
     "data": {
      "image/png": "[encoded data removed]",
      "text/plain": [
       "<Figure size 432x288 with 1 Axes>"
      ]
     },
     "metadata": {
      "needs_background": "light"
     },
     "output_type": "display_data"
    }
   ],
   "source": [
    "import matplotlib.pyplot as plt\n",
    "plt.title('Lets see the linear relationship between x and y of training set')\n",
    "plt.scatter(train_y,train_pred,s=5,c='black',marker='*')\n",
    "plt.xlabel('Energy')\n",
    "plt.ylabel('pred')\n",
    "plt.show()"
   ]
  },
  {
   "cell_type": "markdown",
   "metadata": {},
   "source": [
    "Evaluate the model"
   ]
  },
  {
   "cell_type": "code",
   "execution_count": 14,
   "metadata": {},
   "outputs": [
    {
     "name": "stdout",
     "output_type": "stream",
     "text": [
      "mae {'mean_absolute_error': 0.007382967269007532}\n"
     ]
    }
   ],
   "source": [
    "metric = dc.metrics.Metric(dc.metrics.mean_absolute_error)\n",
    "train_mae = logD_model.evaluate(train_dataset, [metric],[transformers])\n",
    "\n",
    "\n",
    "print(\"mae\",train_mae)"
   ]
  },
  {
   "cell_type": "code",
   "execution_count": 15,
   "metadata": {},
   "outputs": [
    {
     "name": "stdout",
     "output_type": "stream",
     "text": [
      "rmse 0.010603025766951725\n"
     ]
    }
   ],
   "source": [
    "metric = dc.metrics.Metric(dc.metrics.mean_squared_error)\n",
    "train_mse = logD_model.evaluate(train_dataset, [metric],[transformers])\n",
    "from math import sqrt\n",
    "print(\"rmse\",sqrt(list(train_mse.values())[0]))"
   ]
  },
  {
   "cell_type": "code",
   "execution_count": 16,
   "metadata": {},
   "outputs": [
    {
     "name": "stdout",
     "output_type": "stream",
     "text": [
      "r2 {'r2_score': 0.92838832887301}\n"
     ]
    }
   ],
   "source": [
    "metric = dc.metrics.Metric(dc.metrics.r2_score)\n",
    "train_r2 = logD_model.evaluate(train_dataset, [metric],[transformers])\n",
    "print(\"r2\",train_r2)"
   ]
  },
  {
   "cell_type": "markdown",
   "metadata": {},
   "source": [
    "Compare the results with the sklearn evaluation resuts"
   ]
  },
  {
   "cell_type": "code",
   "execution_count": 17,
   "metadata": {},
   "outputs": [
    {
     "name": "stdout",
     "output_type": "stream",
     "text": [
      "MSE 0.07161167112699009\n",
      "RMSE 0.2676035708412541\n",
      "MAE 0.18633439623890646\n",
      "R2 0.92838832887301\n"
     ]
    }
   ],
   "source": [
    "from sklearn.metrics import mean_squared_error,mean_absolute_error,r2_score\n",
    "print(\"MSE\" , mean_squared_error(train_y,train_pred))\n",
    "print(\"RMSE\" , sqrt(mean_squared_error(train_y,train_pred)))\n",
    "print(\"MAE\", mean_absolute_error(train_y,train_pred))\n",
    "print(\"R2\", r2_score(train_y,train_pred))"
   ]
  },
  {
   "cell_type": "markdown",
   "metadata": {},
   "source": [
    "Import the test data"
   ]
  },
  {
   "cell_type": "code",
   "execution_count": 18,
   "metadata": {},
   "outputs": [],
   "source": [
    "df_test= pd.read_csv('../final_data/test1.csv')"
   ]
  },
  {
   "cell_type": "code",
   "execution_count": 19,
   "metadata": {},
   "outputs": [
    {
     "name": "stderr",
     "output_type": "stream",
     "text": [
      "/Users/elham/opt/anaconda3/envs/my-rdkit-env/lib/python3.7/site-packages/deepchem/data/data_loader.py:162: FutureWarning: featurize() is deprecated and has been renamed to create_dataset().featurize() will be removed in DeepChem 3.0\n",
      "  \"featurize() will be removed in DeepChem 3.0\", FutureWarning)\n"
     ]
    }
   ],
   "source": [
    "input_data_test= '../final_data/test1.csv'\n",
    "tasks=['reaction_energy']\n",
    "featurizer = dc.feat.ConvMolFeaturizer()\n",
    "loader = dc.data.CSVLoader(tasks=tasks, feature_field=\"reactant_smiles\",featurizer=featurizer)\n",
    "dataset=loader.featurize(input_data_test)"
   ]
  },
  {
   "cell_type": "code",
   "execution_count": 20,
   "metadata": {},
   "outputs": [],
   "source": [
    "# Normalize them\n",
    "transformers1 = dc.trans.NormalizationTransformer(transform_y=True, dataset=dataset, move_mean=True)"
   ]
  },
  {
   "cell_type": "code",
   "execution_count": 21,
   "metadata": {},
   "outputs": [],
   "source": [
    "dataset = transformers1.transform(dataset)"
   ]
  },
  {
   "cell_type": "code",
   "execution_count": 22,
   "metadata": {},
   "outputs": [],
   "source": [
    "test_pred= logD_model.predict(dataset)"
   ]
  },
  {
   "cell_type": "code",
   "execution_count": 23,
   "metadata": {},
   "outputs": [],
   "source": [
    "test_y = dataset.y"
   ]
  },
  {
   "cell_type": "code",
   "execution_count": 24,
   "metadata": {},
   "outputs": [
    {
     "data": {
      "image/png": "[encoded data removed]",
      "text/plain": [
       "<Figure size 432x288 with 1 Axes>"
      ]
     },
     "metadata": {
      "needs_background": "light"
     },
     "output_type": "display_data"
    }
   ],
   "source": [
    "import matplotlib.pyplot as plt\n",
    "plt.title('Lets see the linear relationship between x and y of training set')\n",
    "plt.scatter(test_y,test_pred,s=8,c='blue',marker='*')\n",
    "plt.xlabel('Energy')\n",
    "plt.ylabel('pred')\n",
    "plt.show()"
   ]
  },
  {
   "cell_type": "code",
   "execution_count": 25,
   "metadata": {},
   "outputs": [],
   "source": [
    "from sklearn.metrics import mean_squared_error,mean_absolute_error, r2_score\n",
    "from math import sqrt"
   ]
  },
  {
   "cell_type": "code",
   "execution_count": 26,
   "metadata": {},
   "outputs": [
    {
     "name": "stdout",
     "output_type": "stream",
     "text": [
      "MSE: 0.07882988040199017\n",
      "RMSE 0.2807665941703004\n",
      "MAE 0.1977119906699428\n",
      "R2 0.9211701195980099\n"
     ]
    }
   ],
   "source": [
    "print(\"MSE:\",mean_squared_error(test_y,test_pred))\n",
    "print(\"RMSE\",sqrt(mean_squared_error(test_y,test_pred)))\n",
    "print(\"MAE\",mean_absolute_error(test_y,test_pred))\n",
    "print(\"R2\",r2_score(test_y,test_pred))"
   ]
  },
  {
   "cell_type": "code",
   "execution_count": 27,
   "metadata": {},
   "outputs": [
    {
     "name": "stdout",
     "output_type": "stream",
     "text": [
      "mae {'mean_absolute_error': 0.00787349931810819}\n"
     ]
    }
   ],
   "source": [
    "metric = dc.metrics.Metric(dc.metrics.mean_absolute_error)\n",
    "test1_mae = logD_model.evaluate(dataset, [metric],[transformers1])\n",
    "\n",
    "\n",
    "print(\"mae\",test1_mae)"
   ]
  },
  {
   "cell_type": "code",
   "execution_count": 28,
   "metadata": {},
   "outputs": [
    {
     "name": "stdout",
     "output_type": "stream",
     "text": [
      "rmse 0.011180988974198258\n"
     ]
    }
   ],
   "source": [
    "metric = dc.metrics.Metric(dc.metrics.mean_squared_error)\n",
    "test1_mse = logD_model.evaluate(dataset, [metric],[transformers1])\n",
    "print(\"rmse\",sqrt(list(test1_mse.values())[0]))"
   ]
  },
  {
   "cell_type": "code",
   "execution_count": 29,
   "metadata": {},
   "outputs": [
    {
     "name": "stdout",
     "output_type": "stream",
     "text": [
      "r2 {'r2_score': 0.9211701195980099}\n"
     ]
    }
   ],
   "source": [
    "metric = dc.metrics.Metric(dc.metrics.r2_score)\n",
    "test1_r2 = logD_model.evaluate(dataset, [metric],[transformers1])\n",
    "print(\"r2\",test1_r2)"
   ]
  },
  {
   "cell_type": "markdown",
   "metadata": {},
   "source": [
    "Import the test2 data"
   ]
  },
  {
   "cell_type": "code",
   "execution_count": 30,
   "metadata": {},
   "outputs": [
    {
     "name": "stderr",
     "output_type": "stream",
     "text": [
      "/Users/elham/opt/anaconda3/envs/my-rdkit-env/lib/python3.7/site-packages/deepchem/data/data_loader.py:162: FutureWarning: featurize() is deprecated and has been renamed to create_dataset().featurize() will be removed in DeepChem 3.0\n",
      "  \"featurize() will be removed in DeepChem 3.0\", FutureWarning)\n"
     ]
    }
   ],
   "source": [
    "input_data_test2= '../final_data/test2.csv'\n",
    "tasks=['reaction_energy']\n",
    "featurizer = dc.feat.ConvMolFeaturizer()\n",
    "loader = dc.data.CSVLoader(tasks=tasks, feature_field=\"reactant_smiles\",featurizer=featurizer)\n",
    "dataset2=loader.featurize(input_data_test2)"
   ]
  },
  {
   "cell_type": "code",
   "execution_count": 31,
   "metadata": {},
   "outputs": [],
   "source": [
    "test2_y = dataset2.y"
   ]
  },
  {
   "cell_type": "code",
   "execution_count": 32,
   "metadata": {},
   "outputs": [
    {
     "data": {
      "text/plain": [
       "(array([ 11.,  29.,  97., 169., 107., 137., 257., 278., 354.,  41.]),\n",
       " array([-0.10653, -0.093107, -0.079684, -0.066261, -0.052838,\n",
       "        -0.039415000000000006, -0.025992, -0.01256900000000001,\n",
       "        0.0008539999999999937, 0.014276999999999998, 0.0277], dtype=object),\n",
       " <BarContainer object of 10 artists>)"
      ]
     },
     "execution_count": 32,
     "metadata": {},
     "output_type": "execute_result"
    },
    {
     "data": {
      "image/png": "[encoded data removed]",
      "text/plain": [
       "<Figure size 432x288 with 1 Axes>"
      ]
     },
     "metadata": {
      "needs_background": "light"
     },
     "output_type": "display_data"
    }
   ],
   "source": [
    "plt.hist(test2_y)"
   ]
  },
  {
   "cell_type": "code",
   "execution_count": 33,
   "metadata": {},
   "outputs": [],
   "source": [
    "test_pred2= logD_model.predict(dataset2)"
   ]
  },
  {
   "cell_type": "code",
   "execution_count": 34,
   "metadata": {},
   "outputs": [
    {
     "data": {
      "text/plain": [
       "(array([  6.,  12.,  37., 207., 180.,  99., 137., 252., 296., 254.]),\n",
       " array([-2.3410168 , -1.9874713 , -1.6339258 , -1.2803802 , -0.9268348 ,\n",
       "        -0.57328933, -0.21974385,  0.13380164,  0.48734713,  0.8408926 ,\n",
       "         1.1944381 ], dtype=float32),\n",
       " <BarContainer object of 10 artists>)"
      ]
     },
     "execution_count": 34,
     "metadata": {},
     "output_type": "execute_result"
    },
    {
     "data": {
      "image/png": "[encoded data removed]",
      "text/plain": [
       "<Figure size 432x288 with 1 Axes>"
      ]
     },
     "metadata": {
      "needs_background": "light"
     },
     "output_type": "display_data"
    }
   ],
   "source": [
    "plt.hist(test_pred2)"
   ]
  },
  {
   "cell_type": "code",
   "execution_count": 35,
   "metadata": {},
   "outputs": [],
   "source": [
    "## normilze them\n",
    "transformers2 = dc.trans.NormalizationTransformer(transform_y=True, dataset=dataset2,move_mean=True)"
   ]
  },
  {
   "cell_type": "code",
   "execution_count": 36,
   "metadata": {},
   "outputs": [],
   "source": [
    "dataset2 = transformers2.transform(dataset2)"
   ]
  },
  {
   "cell_type": "code",
   "execution_count": 37,
   "metadata": {},
   "outputs": [],
   "source": [
    "test_pred2= logD_model.predict(dataset2)"
   ]
  },
  {
   "cell_type": "code",
   "execution_count": 38,
   "metadata": {},
   "outputs": [],
   "source": [
    "test2_y = dataset2.y"
   ]
  },
  {
   "cell_type": "code",
   "execution_count": 39,
   "metadata": {},
   "outputs": [
    {
     "data": {
      "image/png": "[encoded data removed]",
      "text/plain": [
       "<Figure size 432x288 with 1 Axes>"
      ]
     },
     "metadata": {
      "needs_background": "light"
     },
     "output_type": "display_data"
    }
   ],
   "source": [
    "plt.title('Lets see the linear relationship between x and y of training set')\n",
    "plt.scatter(test2_y,test_pred2,s=8,c='blue',marker='*')\n",
    "plt.xlabel('Energy')\n",
    "plt.ylabel('pred')\n",
    "plt.show()"
   ]
  },
  {
   "cell_type": "code",
   "execution_count": 40,
   "metadata": {},
   "outputs": [
    {
     "name": "stdout",
     "output_type": "stream",
     "text": [
      "MSE 0.10271904413601148\n",
      "RMSE 0.3204981187714079\n",
      "MAE 0.25073482778884315\n",
      "R2 0.8972809558639886\n"
     ]
    }
   ],
   "source": [
    "print(\"MSE\" , mean_squared_error(test2_y,test_pred2))\n",
    "print(\"RMSE\" , sqrt(mean_squared_error(test2_y,test_pred2)))\n",
    "print(\"MAE\", mean_absolute_error(test2_y,test_pred2))\n",
    "print(\"R2\", r2_score(test2_y,test_pred2))"
   ]
  },
  {
   "cell_type": "code",
   "execution_count": 41,
   "metadata": {},
   "outputs": [
    {
     "data": {
      "text/plain": [
       "<DiskDataset X.shape: (1480,), y.shape: (1480, 1), w.shape: (1480, 1), task_names: ['reaction_energy']>"
      ]
     },
     "execution_count": 41,
     "metadata": {},
     "output_type": "execute_result"
    }
   ],
   "source": [
    "dataset2"
   ]
  },
  {
   "cell_type": "code",
   "execution_count": 42,
   "metadata": {},
   "outputs": [
    {
     "data": {
      "text/plain": [
       "(array([  6.,  12.,  37., 207., 180.,  99., 137., 252., 296., 254.]),\n",
       " array([-2.3410168 , -1.9874713 , -1.6339258 , -1.2803802 , -0.9268348 ,\n",
       "        -0.57328933, -0.21974385,  0.13380164,  0.48734713,  0.8408926 ,\n",
       "         1.1944381 ], dtype=float32),\n",
       " <BarContainer object of 10 artists>)"
      ]
     },
     "execution_count": 42,
     "metadata": {},
     "output_type": "execute_result"
    },
    {
     "data": {
      "image/png": "[encoded data removed]",
      "text/plain": [
       "<Figure size 432x288 with 1 Axes>"
      ]
     },
     "metadata": {
      "needs_background": "light"
     },
     "output_type": "display_data"
    }
   ],
   "source": [
    "plt.hist(test_pred2) "
   ]
  },
  {
   "cell_type": "code",
   "execution_count": 43,
   "metadata": {},
   "outputs": [
    {
     "data": {
      "text/plain": [
       "(array([ 11.,  29.,  97., 169., 107., 137., 257., 278., 354.,  41.]),\n",
       " array([-2.96115703, -2.48928285, -2.01740866, -1.54553448, -1.0736603 ,\n",
       "        -0.60178611, -0.12991193,  0.34196225,  0.81383643,  1.28571062,\n",
       "         1.7575848 ]),\n",
       " <BarContainer object of 10 artists>)"
      ]
     },
     "execution_count": 43,
     "metadata": {},
     "output_type": "execute_result"
    },
    {
     "data": {
      "image/png": "[encoded data removed]",
      "text/plain": [
       "<Figure size 432x288 with 1 Axes>"
      ]
     },
     "metadata": {
      "needs_background": "light"
     },
     "output_type": "display_data"
    }
   ],
   "source": [
    "plt.hist(test2_y)"
   ]
  },
  {
   "cell_type": "code",
   "execution_count": 44,
   "metadata": {},
   "outputs": [
    {
     "name": "stdout",
     "output_type": "stream",
     "text": [
      "MSE 0.10271904413601148\n",
      "RMSE 0.3204981187714079\n",
      "MAE 0.25073482778884315\n",
      "R2 0.8972809558639886\n"
     ]
    }
   ],
   "source": [
    "print(\"MSE\",mean_squared_error(test2_y,test_pred2))\n",
    "print(\"RMSE\",sqrt(mean_squared_error(test2_y,test_pred2)))\n",
    "print(\"MAE\",mean_absolute_error(test2_y,test_pred2))\n",
    "print(\"R2\",r2_score(test2_y,test_pred2))"
   ]
  },
  {
   "cell_type": "code",
   "execution_count": 45,
   "metadata": {},
   "outputs": [
    {
     "name": "stdout",
     "output_type": "stream",
     "text": [
      "mae {'mean_absolute_error': 0.007132438504035394}\n"
     ]
    }
   ],
   "source": [
    "metric = dc.metrics.Metric(dc.metrics.mean_absolute_error)\n",
    "test2_mae = logD_model.evaluate(dataset2, [metric],[transformers2])\n",
    "\n",
    "\n",
    "print(\"mae\",test2_mae)"
   ]
  },
  {
   "cell_type": "code",
   "execution_count": 46,
   "metadata": {},
   "outputs": [
    {
     "name": "stdout",
     "output_type": "stream",
     "text": [
      "rmse 0.009116934982487562\n"
     ]
    }
   ],
   "source": [
    "metric = dc.metrics.Metric(dc.metrics.mean_squared_error)\n",
    "test2_mse = logD_model.evaluate(dataset2, [metric],[transformers2])\n",
    "print(\"rmse\",sqrt(list(test2_mse.values())[0]))"
   ]
  },
  {
   "cell_type": "code",
   "execution_count": 47,
   "metadata": {},
   "outputs": [
    {
     "name": "stdout",
     "output_type": "stream",
     "text": [
      "mse {'r2_score': 0.8972809558639885}\n"
     ]
    }
   ],
   "source": [
    "metric = dc.metrics.Metric(dc.metrics.r2_score)\n",
    "test2_r2 = logD_model.evaluate(dataset2, [metric],[transformers2])\n",
    "print(\"mse\",test2_r2)"
   ]
  },
  {
   "cell_type": "code",
   "execution_count": 48,
   "metadata": {},
   "outputs": [
    {
     "data": {
      "image/png": "[encoded data removed]",
      "text/plain": [
       "<Figure size 432x288 with 1 Axes>"
      ]
     },
     "metadata": {
      "needs_background": "light"
     },
     "output_type": "display_data"
    }
   ],
   "source": [
    "plt.xlim((-4,4))\n",
    "plt.ylim((-4,4))\n",
    "plt.title(\"GCN Regression Prediction\")\n",
    "plt.xlabel(\"Real E\")\n",
    "plt.ylabel(\"Predicted E\")\n",
    "plt.grid(color='w', linestyle='--', linewidth=1)\n",
    "plt.scatter(train_y,train_pred, \n",
    "            color=\"blue\", alpha=0.8, label=\"train\")\n",
    "plt.scatter(test_y,test_pred, \n",
    "            color=\"red\", alpha=0.8, label=\"test\")\n",
    "plt.scatter(test2_y,test_pred2, \n",
    "            color=\"lightgreen\", alpha=0.8, label=\"test\")\n",
    "plt.legend(loc = 'best')\n",
    "plt.show()"
   ]
  },
  {
   "cell_type": "code",
   "execution_count": null,
   "metadata": {},
   "outputs": [],
   "source": []
  }
 ],
 "metadata": {
  "kernelspec": {
   "display_name": "Python 3",
   "language": "python",
   "name": "python3"
  },
  "language_info": {
   "codemirror_mode": {
    "name": "ipython",
    "version": 3
   },
   "file_extension": ".py",
   "mimetype": "text/x-python",
   "name": "python",
   "nbconvert_exporter": "python",
   "pygments_lexer": "ipython3",
   "version": "3.7.9"
  }
 },
 "nbformat": 4,
 "nbformat_minor": 4
}
