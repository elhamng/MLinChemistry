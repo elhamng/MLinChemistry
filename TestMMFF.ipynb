{
  "nbformat": 4,
  "nbformat_minor": 0,
  "metadata": {
    "colab": {
      "name": "TestMMFF.ipynb",
      "provenance": [],
      "authorship_tag": "ABX9TyPi7ee3vTDzHgijhThxqtra",
      "include_colab_link": true
    },
    "kernelspec": {
      "name": "python3",
      "display_name": "Python 3"
    }
  },
  "cells": [
    {
      "cell_type": "markdown",
      "metadata": {
        "id": "view-in-github",
        "colab_type": "text"
      },
      "source": [
        "<a href=\"https://colab.research.google.com/github/elhamng/MLinChemistry/blob/master/TestMMFF.ipynb\" target=\"_parent\"><img src=\"https://colab.research.google.com/assets/colab-badge.svg\" alt=\"Open In Colab\"/></a>"
      ]
    },
    {
      "cell_type": "code",
      "metadata": {
        "id": "o7L95rU1WXwH",
        "outputId": "188982e2-9243-43b6-c72c-5d09518aaba7",
        "colab": {
          "base_uri": "https://localhost:8080/",
          "height": 1000
        }
      },
      "source": [
        "# Install RDKit. Takes 2-3 minutes\n",
        "!wget -c https://repo.continuum.io/miniconda/Miniconda3-latest-Linux-x86_64.sh\n",
        "!chmod +x Miniconda3-latest-Linux-x86_64.sh\n",
        "!time bash ./Miniconda3-latest-Linux-x86_64.sh -b -f -p /usr/local\n",
        "!time conda install -q -y -c conda-forge python=3.7\n",
        "!time conda install -q -y -c conda-forge rdkit\n"
      ],
      "execution_count": 2,
      "outputs": [
        {
          "output_type": "stream",
          "text": [
            "--2020-10-21 09:39:08--  https://repo.continuum.io/miniconda/Miniconda3-latest-Linux-x86_64.sh\n",
            "Resolving repo.continuum.io (repo.continuum.io)... 104.18.200.79, 104.18.201.79, 2606:4700::6812:c84f, ...\n",
            "Connecting to repo.continuum.io (repo.continuum.io)|104.18.200.79|:443... connected.\n",
            "HTTP request sent, awaiting response... 301 Moved Permanently\n",
            "Location: https://repo.anaconda.com/miniconda/Miniconda3-latest-Linux-x86_64.sh [following]\n",
            "--2020-10-21 09:39:09--  https://repo.anaconda.com/miniconda/Miniconda3-latest-Linux-x86_64.sh\n",
            "Resolving repo.anaconda.com (repo.anaconda.com)... 104.16.130.3, 104.16.131.3, 2606:4700::6810:8303, ...\n",
            "Connecting to repo.anaconda.com (repo.anaconda.com)|104.16.130.3|:443... connected.\n",
            "HTTP request sent, awaiting response... 200 OK\n",
            "Length: 93052469 (89M) [application/x-sh]\n",
            "Saving to: ‘Miniconda3-latest-Linux-x86_64.sh’\n",
            "\n",
            "Miniconda3-latest-L 100%[===================>]  88.74M   236MB/s    in 0.4s    \n",
            "\n",
            "2020-10-21 09:39:09 (236 MB/s) - ‘Miniconda3-latest-Linux-x86_64.sh’ saved [93052469/93052469]\n",
            "\n",
            "PREFIX=/usr/local\n",
            "Unpacking payload ...\n",
            "Collecting package metadata (current_repodata.json): - \b\b\\ \b\b| \b\bdone\n",
            "Solving environment: - \b\b\\ \b\bdone\n",
            "\n",
            "## Package Plan ##\n",
            "\n",
            "  environment location: /usr/local\n",
            "\n",
            "  added / updated specs:\n",
            "    - _libgcc_mutex==0.1=main\n",
            "    - ca-certificates==2020.1.1=0\n",
            "    - certifi==2020.4.5.1=py38_0\n",
            "    - cffi==1.14.0=py38he30daa8_1\n",
            "    - chardet==3.0.4=py38_1003\n",
            "    - conda-package-handling==1.6.1=py38h7b6447c_0\n",
            "    - conda==4.8.3=py38_0\n",
            "    - cryptography==2.9.2=py38h1ba5d50_0\n",
            "    - idna==2.9=py_1\n",
            "    - ld_impl_linux-64==2.33.1=h53a641e_7\n",
            "    - libedit==3.1.20181209=hc058e9b_0\n",
            "    - libffi==3.3=he6710b0_1\n",
            "    - libgcc-ng==9.1.0=hdf63c60_0\n",
            "    - libstdcxx-ng==9.1.0=hdf63c60_0\n",
            "    - ncurses==6.2=he6710b0_1\n",
            "    - openssl==1.1.1g=h7b6447c_0\n",
            "    - pip==20.0.2=py38_3\n",
            "    - pycosat==0.6.3=py38h7b6447c_1\n",
            "    - pycparser==2.20=py_0\n",
            "    - pyopenssl==19.1.0=py38_0\n",
            "    - pysocks==1.7.1=py38_0\n",
            "    - python==3.8.3=hcff3b4d_0\n",
            "    - readline==8.0=h7b6447c_0\n",
            "    - requests==2.23.0=py38_0\n",
            "    - ruamel_yaml==0.15.87=py38h7b6447c_0\n",
            "    - setuptools==46.4.0=py38_0\n",
            "    - six==1.14.0=py38_0\n",
            "    - sqlite==3.31.1=h62c20be_1\n",
            "    - tk==8.6.8=hbc83047_0\n",
            "    - tqdm==4.46.0=py_0\n",
            "    - urllib3==1.25.8=py38_0\n",
            "    - wheel==0.34.2=py38_0\n",
            "    - xz==5.2.5=h7b6447c_0\n",
            "    - yaml==0.1.7=had09818_2\n",
            "    - zlib==1.2.11=h7b6447c_3\n",
            "\n",
            "\n",
            "The following NEW packages will be INSTALLED:\n",
            "\n",
            "  _libgcc_mutex      pkgs/main/linux-64::_libgcc_mutex-0.1-main\n",
            "  ca-certificates    pkgs/main/linux-64::ca-certificates-2020.1.1-0\n",
            "  certifi            pkgs/main/linux-64::certifi-2020.4.5.1-py38_0\n",
            "  cffi               pkgs/main/linux-64::cffi-1.14.0-py38he30daa8_1\n",
            "  chardet            pkgs/main/linux-64::chardet-3.0.4-py38_1003\n",
            "  conda              pkgs/main/linux-64::conda-4.8.3-py38_0\n",
            "  conda-package-han~ pkgs/main/linux-64::conda-package-handling-1.6.1-py38h7b6447c_0\n",
            "  cryptography       pkgs/main/linux-64::cryptography-2.9.2-py38h1ba5d50_0\n",
            "  idna               pkgs/main/noarch::idna-2.9-py_1\n",
            "  ld_impl_linux-64   pkgs/main/linux-64::ld_impl_linux-64-2.33.1-h53a641e_7\n",
            "  libedit            pkgs/main/linux-64::libedit-3.1.20181209-hc058e9b_0\n",
            "  libffi             pkgs/main/linux-64::libffi-3.3-he6710b0_1\n",
            "  libgcc-ng          pkgs/main/linux-64::libgcc-ng-9.1.0-hdf63c60_0\n",
            "  libstdcxx-ng       pkgs/main/linux-64::libstdcxx-ng-9.1.0-hdf63c60_0\n",
            "  ncurses            pkgs/main/linux-64::ncurses-6.2-he6710b0_1\n",
            "  openssl            pkgs/main/linux-64::openssl-1.1.1g-h7b6447c_0\n",
            "  pip                pkgs/main/linux-64::pip-20.0.2-py38_3\n",
            "  pycosat            pkgs/main/linux-64::pycosat-0.6.3-py38h7b6447c_1\n",
            "  pycparser          pkgs/main/noarch::pycparser-2.20-py_0\n",
            "  pyopenssl          pkgs/main/linux-64::pyopenssl-19.1.0-py38_0\n",
            "  pysocks            pkgs/main/linux-64::pysocks-1.7.1-py38_0\n",
            "  python             pkgs/main/linux-64::python-3.8.3-hcff3b4d_0\n",
            "  readline           pkgs/main/linux-64::readline-8.0-h7b6447c_0\n",
            "  requests           pkgs/main/linux-64::requests-2.23.0-py38_0\n",
            "  ruamel_yaml        pkgs/main/linux-64::ruamel_yaml-0.15.87-py38h7b6447c_0\n",
            "  setuptools         pkgs/main/linux-64::setuptools-46.4.0-py38_0\n",
            "  six                pkgs/main/linux-64::six-1.14.0-py38_0\n",
            "  sqlite             pkgs/main/linux-64::sqlite-3.31.1-h62c20be_1\n",
            "  tk                 pkgs/main/linux-64::tk-8.6.8-hbc83047_0\n",
            "  tqdm               pkgs/main/noarch::tqdm-4.46.0-py_0\n",
            "  urllib3            pkgs/main/linux-64::urllib3-1.25.8-py38_0\n",
            "  wheel              pkgs/main/linux-64::wheel-0.34.2-py38_0\n",
            "  xz                 pkgs/main/linux-64::xz-5.2.5-h7b6447c_0\n",
            "  yaml               pkgs/main/linux-64::yaml-0.1.7-had09818_2\n",
            "  zlib               pkgs/main/linux-64::zlib-1.2.11-h7b6447c_3\n",
            "\n",
            "\n",
            "Preparing transaction: / \b\b- \b\b\\ \b\b| \b\bdone\n",
            "Executing transaction: - \b\b\\ \b\b| \b\b/ \b\b- \b\b\\ \b\b| \b\b/ \b\b- \b\b\\ \b\b| \b\b/ \b\b- \b\bdone\n",
            "installation finished.\n",
            "WARNING:\n",
            "    You currently have a PYTHONPATH environment variable set. This may cause\n",
            "    unexpected behavior when running the Python interpreter in Miniconda3.\n",
            "    For best results, please verify that your PYTHONPATH only points to\n",
            "    directories of packages that are compatible with the Python interpreter\n",
            "    in Miniconda3: /usr/local\n",
            "\n",
            "real\t0m27.827s\n",
            "user\t0m15.779s\n",
            "sys\t0m5.087s\n",
            "Collecting package metadata (current_repodata.json): ...working... done\n",
            "Solving environment: ...working... done\n",
            "\n",
            "## Package Plan ##\n",
            "\n",
            "  environment location: /usr/local\n",
            "\n",
            "  added / updated specs:\n",
            "    - python=3.7\n",
            "\n",
            "\n",
            "The following packages will be downloaded:\n",
            "\n",
            "    package                    |            build\n",
            "    ---------------------------|-----------------\n",
            "    brotlipy-0.7.0             |py37hb5d75c8_1001         346 KB  conda-forge\n",
            "    ca-certificates-2020.6.20  |       hecda079_0         145 KB  conda-forge\n",
            "    certifi-2020.6.20          |   py37he5f6b98_2         151 KB  conda-forge\n",
            "    cffi-1.14.3                |   py37he30daa8_0         223 KB\n",
            "    chardet-3.0.4              |py37he5f6b98_1008         170 KB  conda-forge\n",
            "    conda-4.9.0                |   py37he5f6b98_1         3.0 MB  conda-forge\n",
            "    conda-package-handling-1.7.2|   py37hb5d75c8_0         915 KB  conda-forge\n",
            "    cryptography-3.1.1         |   py37hff6837a_1         616 KB  conda-forge\n",
            "    openssl-1.1.1h             |       h516909a_0         2.1 MB  conda-forge\n",
            "    pip-20.2.4                 |             py_0         1.1 MB  conda-forge\n",
            "    pycosat-0.6.3              |py37hb5d75c8_1005         107 KB  conda-forge\n",
            "    pyopenssl-19.1.0           |             py_1          47 KB  conda-forge\n",
            "    pysocks-1.7.1              |   py37he5f6b98_2          27 KB  conda-forge\n",
            "    python-3.7.7               |       hcff3b4d_5        45.1 MB\n",
            "    python_abi-3.7             |          1_cp37m           4 KB  conda-forge\n",
            "    requests-2.24.0            |     pyh9f0ad1d_0          47 KB  conda-forge\n",
            "    ruamel_yaml-0.15.87        |   py37h7b6447c_0         256 KB\n",
            "    setuptools-49.6.0          |   py37he5f6b98_2         944 KB  conda-forge\n",
            "    six-1.15.0                 |     pyh9f0ad1d_0          14 KB  conda-forge\n",
            "    urllib3-1.25.11            |             py_0          93 KB  conda-forge\n",
            "    wheel-0.35.1               |     pyh9f0ad1d_0          29 KB  conda-forge\n",
            "    ------------------------------------------------------------\n",
            "                                           Total:        55.4 MB\n",
            "\n",
            "The following NEW packages will be INSTALLED:\n",
            "\n",
            "  brotlipy           conda-forge/linux-64::brotlipy-0.7.0-py37hb5d75c8_1001\n",
            "  python_abi         conda-forge/linux-64::python_abi-3.7-1_cp37m\n",
            "\n",
            "The following packages will be UPDATED:\n",
            "\n",
            "  ca-certificates     pkgs/main::ca-certificates-2020.1.1-0 --> conda-forge::ca-certificates-2020.6.20-hecda079_0\n",
            "  certifi              pkgs/main::certifi-2020.4.5.1-py38_0 --> conda-forge::certifi-2020.6.20-py37he5f6b98_2\n",
            "  cffi                                1.14.0-py38he30daa8_1 --> 1.14.3-py37he30daa8_0\n",
            "  chardet                pkgs/main::chardet-3.0.4-py38_1003 --> conda-forge::chardet-3.0.4-py37he5f6b98_1008\n",
            "  conda                       pkgs/main::conda-4.8.3-py38_0 --> conda-forge::conda-4.9.0-py37he5f6b98_1\n",
            "  conda-package-han~ pkgs/main::conda-package-handling-1.6~ --> conda-forge::conda-package-handling-1.7.2-py37hb5d75c8_0\n",
            "  cryptography       pkgs/main::cryptography-2.9.2-py38h1b~ --> conda-forge::cryptography-3.1.1-py37hff6837a_1\n",
            "  openssl              pkgs/main::openssl-1.1.1g-h7b6447c_0 --> conda-forge::openssl-1.1.1h-h516909a_0\n",
            "  pip                 pkgs/main/linux-64::pip-20.0.2-py38_3 --> conda-forge/noarch::pip-20.2.4-py_0\n",
            "  pycosat            pkgs/main::pycosat-0.6.3-py38h7b6447c~ --> conda-forge::pycosat-0.6.3-py37hb5d75c8_1005\n",
            "  pyopenssl          pkgs/main/linux-64::pyopenssl-19.1.0-~ --> conda-forge/noarch::pyopenssl-19.1.0-py_1\n",
            "  pysocks                   pkgs/main::pysocks-1.7.1-py38_0 --> conda-forge::pysocks-1.7.1-py37he5f6b98_2\n",
            "  requests           pkgs/main/linux-64::requests-2.23.0-p~ --> conda-forge/noarch::requests-2.24.0-pyh9f0ad1d_0\n",
            "  setuptools            pkgs/main::setuptools-46.4.0-py38_0 --> conda-forge::setuptools-49.6.0-py37he5f6b98_2\n",
            "  six                 pkgs/main/linux-64::six-1.14.0-py38_0 --> conda-forge/noarch::six-1.15.0-pyh9f0ad1d_0\n",
            "  urllib3            pkgs/main/linux-64::urllib3-1.25.8-py~ --> conda-forge/noarch::urllib3-1.25.11-py_0\n",
            "  wheel              pkgs/main/linux-64::wheel-0.34.2-py38~ --> conda-forge/noarch::wheel-0.35.1-pyh9f0ad1d_0\n",
            "\n",
            "The following packages will be DOWNGRADED:\n",
            "\n",
            "  python                                   3.8.3-hcff3b4d_0 --> 3.7.7-hcff3b4d_5\n",
            "  ruamel_yaml                        0.15.87-py38h7b6447c_0 --> 0.15.87-py37h7b6447c_0\n",
            "\n",
            "\n",
            "Preparing transaction: ...working... done\n",
            "Verifying transaction: ...working... done\n",
            "Executing transaction: ...working... done\n",
            "\n",
            "real\t0m18.746s\n",
            "user\t0m15.466s\n",
            "sys\t0m2.691s\n",
            "Collecting package metadata (current_repodata.json): ...working... done\n",
            "Solving environment: ...working... done\n",
            "\n",
            "## Package Plan ##\n",
            "\n",
            "  environment location: /usr/local\n",
            "\n",
            "  added / updated specs:\n",
            "    - rdkit\n",
            "\n",
            "\n",
            "The following packages will be downloaded:\n",
            "\n",
            "    package                    |            build\n",
            "    ---------------------------|-----------------\n",
            "    boost-1.74.0               |   py37h48f8a5e_1         317 KB  conda-forge\n",
            "    boost-cpp-1.74.0           |       h9359b55_0        16.4 MB  conda-forge\n",
            "    bzip2-1.0.8                |       h516909a_3         398 KB  conda-forge\n",
            "    cairo-1.16.0               |    h3fc0475_1005         1.5 MB  conda-forge\n",
            "    fontconfig-2.13.1          |    h1056068_1002         365 KB  conda-forge\n",
            "    freetype-2.10.4            |       he06d7ca_0         919 KB  conda-forge\n",
            "    glib-2.66.1                |       h92f7085_0         2.9 MB\n",
            "    icu-67.1                   |       he1b5a44_0        12.9 MB  conda-forge\n",
            "    jpeg-9d                    |       h516909a_0         266 KB  conda-forge\n",
            "    lcms2-2.11                 |       hbd6801e_0         431 KB  conda-forge\n",
            "    libblas-3.8.0              |      17_openblas          11 KB  conda-forge\n",
            "    libcblas-3.8.0             |      17_openblas          11 KB  conda-forge\n",
            "    libgfortran-ng-7.5.0       |      hae1eefd_17          22 KB  conda-forge\n",
            "    libgfortran4-7.5.0         |      hae1eefd_17         1.3 MB  conda-forge\n",
            "    libiconv-1.16              |       h516909a_0         1.4 MB  conda-forge\n",
            "    liblapack-3.8.0            |      17_openblas          11 KB  conda-forge\n",
            "    libopenblas-0.3.10         |       h5a2b251_0         4.5 MB\n",
            "    libpng-1.6.37              |       hed695b0_2         359 KB  conda-forge\n",
            "    libtiff-4.1.0              |       hc7e4089_6         668 KB  conda-forge\n",
            "    libuuid-2.32.1             |    h14c3975_1000          26 KB  conda-forge\n",
            "    libwebp-base-1.1.0         |       h516909a_3         845 KB  conda-forge\n",
            "    libxcb-1.13                |    h14c3975_1002         396 KB  conda-forge\n",
            "    libxml2-2.9.10             |       h68273f3_2         1.3 MB  conda-forge\n",
            "    lz4-c-1.9.2                |       he1b5a44_3         203 KB  conda-forge\n",
            "    numpy-1.19.2               |   py37h7008fea_1         5.2 MB  conda-forge\n",
            "    olefile-0.46               |     pyh9f0ad1d_1          32 KB  conda-forge\n",
            "    pandas-1.1.3               |   py37hb33c840_2        10.5 MB  conda-forge\n",
            "    pcre-8.44                  |       he1b5a44_0         261 KB  conda-forge\n",
            "    pillow-8.0.0               |   py37h9a89aac_0         624 KB\n",
            "    pixman-0.38.0              |    h516909a_1003         594 KB  conda-forge\n",
            "    pthread-stubs-0.4          |    h14c3975_1001           5 KB  conda-forge\n",
            "    pycairo-1.20.0             |   py37h01af8b0_1          77 KB  conda-forge\n",
            "    python-dateutil-2.8.1      |             py_0         220 KB  conda-forge\n",
            "    pytz-2020.1                |     pyh9f0ad1d_0         227 KB  conda-forge\n",
            "    rdkit-2020.03.6            |   py37h0c252aa_1        24.5 MB  conda-forge\n",
            "    xorg-kbproto-1.0.7         |    h14c3975_1002          26 KB  conda-forge\n",
            "    xorg-libice-1.0.10         |       h516909a_0          57 KB  conda-forge\n",
            "    xorg-libsm-1.2.3           |    h84519dc_1000          25 KB  conda-forge\n",
            "    xorg-libx11-1.6.12         |       h516909a_0         917 KB  conda-forge\n",
            "    xorg-libxau-1.0.9          |       h14c3975_0          13 KB  conda-forge\n",
            "    xorg-libxdmcp-1.1.3        |       h516909a_0          18 KB  conda-forge\n",
            "    xorg-libxext-1.3.4         |       h516909a_0          51 KB  conda-forge\n",
            "    xorg-libxrender-0.9.10     |    h516909a_1002          31 KB  conda-forge\n",
            "    xorg-renderproto-0.11.1    |    h14c3975_1002           8 KB  conda-forge\n",
            "    xorg-xextproto-7.3.0       |    h14c3975_1002          27 KB  conda-forge\n",
            "    xorg-xproto-7.0.31         |    h14c3975_1007          72 KB  conda-forge\n",
            "    zstd-1.4.5                 |       h6597ccf_2         712 KB  conda-forge\n",
            "    ------------------------------------------------------------\n",
            "                                           Total:        91.3 MB\n",
            "\n",
            "The following NEW packages will be INSTALLED:\n",
            "\n",
            "  boost              conda-forge/linux-64::boost-1.74.0-py37h48f8a5e_1\n",
            "  boost-cpp          conda-forge/linux-64::boost-cpp-1.74.0-h9359b55_0\n",
            "  bzip2              conda-forge/linux-64::bzip2-1.0.8-h516909a_3\n",
            "  cairo              conda-forge/linux-64::cairo-1.16.0-h3fc0475_1005\n",
            "  fontconfig         conda-forge/linux-64::fontconfig-2.13.1-h1056068_1002\n",
            "  freetype           conda-forge/linux-64::freetype-2.10.4-he06d7ca_0\n",
            "  glib               pkgs/main/linux-64::glib-2.66.1-h92f7085_0\n",
            "  icu                conda-forge/linux-64::icu-67.1-he1b5a44_0\n",
            "  jpeg               conda-forge/linux-64::jpeg-9d-h516909a_0\n",
            "  lcms2              conda-forge/linux-64::lcms2-2.11-hbd6801e_0\n",
            "  libblas            conda-forge/linux-64::libblas-3.8.0-17_openblas\n",
            "  libcblas           conda-forge/linux-64::libcblas-3.8.0-17_openblas\n",
            "  libgfortran-ng     conda-forge/linux-64::libgfortran-ng-7.5.0-hae1eefd_17\n",
            "  libgfortran4       conda-forge/linux-64::libgfortran4-7.5.0-hae1eefd_17\n",
            "  libiconv           conda-forge/linux-64::libiconv-1.16-h516909a_0\n",
            "  liblapack          conda-forge/linux-64::liblapack-3.8.0-17_openblas\n",
            "  libopenblas        pkgs/main/linux-64::libopenblas-0.3.10-h5a2b251_0\n",
            "  libpng             conda-forge/linux-64::libpng-1.6.37-hed695b0_2\n",
            "  libtiff            conda-forge/linux-64::libtiff-4.1.0-hc7e4089_6\n",
            "  libuuid            conda-forge/linux-64::libuuid-2.32.1-h14c3975_1000\n",
            "  libwebp-base       conda-forge/linux-64::libwebp-base-1.1.0-h516909a_3\n",
            "  libxcb             conda-forge/linux-64::libxcb-1.13-h14c3975_1002\n",
            "  libxml2            conda-forge/linux-64::libxml2-2.9.10-h68273f3_2\n",
            "  lz4-c              conda-forge/linux-64::lz4-c-1.9.2-he1b5a44_3\n",
            "  numpy              conda-forge/linux-64::numpy-1.19.2-py37h7008fea_1\n",
            "  olefile            conda-forge/noarch::olefile-0.46-pyh9f0ad1d_1\n",
            "  pandas             conda-forge/linux-64::pandas-1.1.3-py37hb33c840_2\n",
            "  pcre               conda-forge/linux-64::pcre-8.44-he1b5a44_0\n",
            "  pillow             pkgs/main/linux-64::pillow-8.0.0-py37h9a89aac_0\n",
            "  pixman             conda-forge/linux-64::pixman-0.38.0-h516909a_1003\n",
            "  pthread-stubs      conda-forge/linux-64::pthread-stubs-0.4-h14c3975_1001\n",
            "  pycairo            conda-forge/linux-64::pycairo-1.20.0-py37h01af8b0_1\n",
            "  python-dateutil    conda-forge/noarch::python-dateutil-2.8.1-py_0\n",
            "  pytz               conda-forge/noarch::pytz-2020.1-pyh9f0ad1d_0\n",
            "  rdkit              conda-forge/linux-64::rdkit-2020.03.6-py37h0c252aa_1\n",
            "  xorg-kbproto       conda-forge/linux-64::xorg-kbproto-1.0.7-h14c3975_1002\n",
            "  xorg-libice        conda-forge/linux-64::xorg-libice-1.0.10-h516909a_0\n",
            "  xorg-libsm         conda-forge/linux-64::xorg-libsm-1.2.3-h84519dc_1000\n",
            "  xorg-libx11        conda-forge/linux-64::xorg-libx11-1.6.12-h516909a_0\n",
            "  xorg-libxau        conda-forge/linux-64::xorg-libxau-1.0.9-h14c3975_0\n",
            "  xorg-libxdmcp      conda-forge/linux-64::xorg-libxdmcp-1.1.3-h516909a_0\n",
            "  xorg-libxext       conda-forge/linux-64::xorg-libxext-1.3.4-h516909a_0\n",
            "  xorg-libxrender    conda-forge/linux-64::xorg-libxrender-0.9.10-h516909a_1002\n",
            "  xorg-renderproto   conda-forge/linux-64::xorg-renderproto-0.11.1-h14c3975_1002\n",
            "  xorg-xextproto     conda-forge/linux-64::xorg-xextproto-7.3.0-h14c3975_1002\n",
            "  xorg-xproto        conda-forge/linux-64::xorg-xproto-7.0.31-h14c3975_1007\n",
            "  zstd               conda-forge/linux-64::zstd-1.4.5-h6597ccf_2\n",
            "\n",
            "\n",
            "Preparing transaction: ...working... done\n",
            "Verifying transaction: ...working... done\n",
            "Executing transaction: ...working... done\n",
            "\n",
            "real\t0m45.353s\n",
            "user\t0m38.872s\n",
            "sys\t0m4.642s\n"
          ],
          "name": "stdout"
        }
      ]
    },
    {
      "cell_type": "code",
      "metadata": {
        "id": "SzuKdQMIWc-0"
      },
      "source": [
        "\n",
        "import sys\n",
        "sys.path.append('/usr/local/lib/python3.7/site-packages/')\n",
        "\n",
        "from rdkit import Chem\n",
        "from rdkit.Chem import Draw\n",
        "from rdkit.Chem.Draw import IPythonConsole\n",
        "from rdkit.Chem import Descriptors\n",
        "from rdkit.Chem import AllChem\n",
        "from rdkit import DataStructs\n",
        "from rdkit.Chem.AllChem import GetMorganFingerprintAsBitVect\n",
        "from rdkit.DataStructs.cDataStructs import ConvertToNumpyArray\n",
        "import numpy as np"
      ],
      "execution_count": 3,
      "outputs": []
    },
    {
      "cell_type": "code",
      "metadata": {
        "id": "XzTIRvSSXtgT"
      },
      "source": [
        "import pandas as pd\n",
        "import matplotlib.pyplot as plt"
      ],
      "execution_count": 4,
      "outputs": []
    },
    {
      "cell_type": "code",
      "metadata": {
        "id": "i2LXmuJFXwZh",
        "outputId": "98056e00-5db4-43c8-9e40-c50e95475f0b",
        "colab": {
          "base_uri": "https://localhost:8080/",
          "height": 34
        }
      },
      "source": [
        "from google.colab import drive\n",
        "drive.mount('/content/drive/')"
      ],
      "execution_count": 5,
      "outputs": [
        {
          "output_type": "stream",
          "text": [
            "Mounted at /content/drive/\n"
          ],
          "name": "stdout"
        }
      ]
    },
    {
      "cell_type": "code",
      "metadata": {
        "id": "_H3FBjjIXz8M"
      },
      "source": [
        "df = pd.read_csv('/content/drive/My Drive/AMD-Project/First-project/reddb_test_group_26.csv')"
      ],
      "execution_count": 6,
      "outputs": []
    },
    {
      "cell_type": "code",
      "metadata": {
        "id": "ivn1zwfPX_fc",
        "outputId": "b1eef659-2d58-4401-89c7-492ec9940cc8",
        "colab": {
          "base_uri": "https://localhost:8080/",
          "height": 224
        }
      },
      "source": [
        "df.head()"
      ],
      "execution_count": 7,
      "outputs": [
        {
          "output_type": "execute_result",
          "data": {
            "text/html": [
              "<div>\n",
              "<style scoped>\n",
              "    .dataframe tbody tr th:only-of-type {\n",
              "        vertical-align: middle;\n",
              "    }\n",
              "\n",
              "    .dataframe tbody tr th {\n",
              "        vertical-align: top;\n",
              "    }\n",
              "\n",
              "    .dataframe thead th {\n",
              "        text-align: right;\n",
              "    }\n",
              "</style>\n",
              "<table border=\"1\" class=\"dataframe\">\n",
              "  <thead>\n",
              "    <tr style=\"text-align: right;\">\n",
              "      <th></th>\n",
              "      <th>smiles</th>\n",
              "      <th>moleculerWeight</th>\n",
              "      <th>stoichiometry</th>\n",
              "      <th>stoichiometry.1</th>\n",
              "      <th>gasEnergy</th>\n",
              "      <th>solutionEnergy</th>\n",
              "      <th>gasHomo</th>\n",
              "      <th>solutionHomo</th>\n",
              "      <th>gasLumo</th>\n",
              "      <th>solutionLumo</th>\n",
              "      <th>mepcDipoleMomentsTot</th>\n",
              "      <th>mepcGasDipoleMomentsTot</th>\n",
              "      <th>mmcDipoleMomentsTot</th>\n",
              "      <th>mmcGasDipoleMomentsTot</th>\n",
              "      <th>mqmwDipoleMomentsTot</th>\n",
              "      <th>mqmwGasDipoleMomentsTot</th>\n",
              "      <th>alpha</th>\n",
              "      <th>beta</th>\n",
              "      <th>dalpha</th>\n",
              "      <th>cavityEnergy</th>\n",
              "      <th>molecularSurface</th>\n",
              "      <th>reactionFieldEnergy</th>\n",
              "      <th>solventAccessSurface</th>\n",
              "      <th>molecularPointGroup</th>\n",
              "      <th>nuclearRepulsionEnergy</th>\n",
              "      <th>pointGroupUsed</th>\n",
              "    </tr>\n",
              "  </thead>\n",
              "  <tbody>\n",
              "    <tr>\n",
              "      <th>0</th>\n",
              "      <td>O=C1OC(=O)C=C1</td>\n",
              "      <td>98.00</td>\n",
              "      <td>C4H2O3</td>\n",
              "      <td>NaN</td>\n",
              "      <td>-378.89918</td>\n",
              "      <td>-378.90921</td>\n",
              "      <td>-0.26305</td>\n",
              "      <td>-0.27345</td>\n",
              "      <td>-0.16095</td>\n",
              "      <td>-0.15824</td>\n",
              "      <td>5.6636</td>\n",
              "      <td>4.1934</td>\n",
              "      <td>6.5309</td>\n",
              "      <td>4.8997</td>\n",
              "      <td>5.7220</td>\n",
              "      <td>4.2348</td>\n",
              "      <td>54.743</td>\n",
              "      <td>31.140355</td>\n",
              "      <td>47.976</td>\n",
              "      <td>3.83641</td>\n",
              "      <td>107.77013</td>\n",
              "      <td>-13.72340</td>\n",
              "      <td>242.77736</td>\n",
              "      <td>C2v</td>\n",
              "      <td>272.515501</td>\n",
              "      <td>C2v</td>\n",
              "    </tr>\n",
              "    <tr>\n",
              "      <th>1</th>\n",
              "      <td>O=C1OC(=O)C(=C1)O</td>\n",
              "      <td>114.00</td>\n",
              "      <td>C4H2O4</td>\n",
              "      <td>OH</td>\n",
              "      <td>-454.06562</td>\n",
              "      <td>-454.07870</td>\n",
              "      <td>-0.26939</td>\n",
              "      <td>-0.26334</td>\n",
              "      <td>-0.14906</td>\n",
              "      <td>-0.14790</td>\n",
              "      <td>4.8360</td>\n",
              "      <td>3.4922</td>\n",
              "      <td>5.3261</td>\n",
              "      <td>3.9971</td>\n",
              "      <td>4.8799</td>\n",
              "      <td>3.5239</td>\n",
              "      <td>61.887</td>\n",
              "      <td>-123.638395</td>\n",
              "      <td>45.468</td>\n",
              "      <td>3.90021</td>\n",
              "      <td>112.71120</td>\n",
              "      <td>-16.66028</td>\n",
              "      <td>250.55044</td>\n",
              "      <td>C1</td>\n",
              "      <td>351.367559</td>\n",
              "      <td>C1</td>\n",
              "    </tr>\n",
              "    <tr>\n",
              "      <th>2</th>\n",
              "      <td>O=C1OC(=O)C(F)=C1F</td>\n",
              "      <td>133.98</td>\n",
              "      <td>C4O3F2</td>\n",
              "      <td>F</td>\n",
              "      <td>-577.19143</td>\n",
              "      <td>-577.19630</td>\n",
              "      <td>-0.28622</td>\n",
              "      <td>-0.28677</td>\n",
              "      <td>-0.16921</td>\n",
              "      <td>-0.16499</td>\n",
              "      <td>2.7967</td>\n",
              "      <td>2.0391</td>\n",
              "      <td>1.0997</td>\n",
              "      <td>0.3263</td>\n",
              "      <td>2.8356</td>\n",
              "      <td>2.0698</td>\n",
              "      <td>58.411</td>\n",
              "      <td>-153.586284</td>\n",
              "      <td>51.959</td>\n",
              "      <td>4.03023</td>\n",
              "      <td>121.76391</td>\n",
              "      <td>-10.19075</td>\n",
              "      <td>266.39426</td>\n",
              "      <td>C2v</td>\n",
              "      <td>434.353303</td>\n",
              "      <td>C2v</td>\n",
              "    </tr>\n",
              "    <tr>\n",
              "      <th>3</th>\n",
              "      <td>O=C1OC(=O)C(C(=O)O)=C1C(=O)O</td>\n",
              "      <td>185.98</td>\n",
              "      <td>C6H2O7</td>\n",
              "      <td>COOH</td>\n",
              "      <td>-755.67777</td>\n",
              "      <td>-755.69768</td>\n",
              "      <td>-0.27063</td>\n",
              "      <td>-0.27702</td>\n",
              "      <td>-0.21387</td>\n",
              "      <td>-0.20152</td>\n",
              "      <td>5.1939</td>\n",
              "      <td>3.3327</td>\n",
              "      <td>4.9663</td>\n",
              "      <td>3.2474</td>\n",
              "      <td>5.1945</td>\n",
              "      <td>3.3201</td>\n",
              "      <td>96.435</td>\n",
              "      <td>142.431481</td>\n",
              "      <td>35.721</td>\n",
              "      <td>4.38522</td>\n",
              "      <td>153.05979</td>\n",
              "      <td>-25.24181</td>\n",
              "      <td>309.64934</td>\n",
              "      <td>C1</td>\n",
              "      <td>789.447978</td>\n",
              "      <td>C1</td>\n",
              "    </tr>\n",
              "    <tr>\n",
              "      <th>4</th>\n",
              "      <td>O=C1OC(=O)C(N)=C1N</td>\n",
              "      <td>128.02</td>\n",
              "      <td>C4N2H4O3</td>\n",
              "      <td>NH2</td>\n",
              "      <td>-489.52053</td>\n",
              "      <td>-489.54624</td>\n",
              "      <td>-0.18974</td>\n",
              "      <td>-0.18290</td>\n",
              "      <td>-0.11376</td>\n",
              "      <td>-0.12295</td>\n",
              "      <td>9.7072</td>\n",
              "      <td>6.9753</td>\n",
              "      <td>11.3046</td>\n",
              "      <td>8.4212</td>\n",
              "      <td>9.7599</td>\n",
              "      <td>7.0068</td>\n",
              "      <td>84.474</td>\n",
              "      <td>-442.812317</td>\n",
              "      <td>73.732</td>\n",
              "      <td>4.08638</td>\n",
              "      <td>127.51153</td>\n",
              "      <td>-27.07350</td>\n",
              "      <td>273.23612</td>\n",
              "      <td>C2v</td>\n",
              "      <td>438.854193</td>\n",
              "      <td>C2v</td>\n",
              "    </tr>\n",
              "  </tbody>\n",
              "</table>\n",
              "</div>"
            ],
            "text/plain": [
              "                         smiles  ...  pointGroupUsed\n",
              "0                O=C1OC(=O)C=C1  ...             C2v\n",
              "1             O=C1OC(=O)C(=C1)O  ...              C1\n",
              "2            O=C1OC(=O)C(F)=C1F  ...             C2v\n",
              "3  O=C1OC(=O)C(C(=O)O)=C1C(=O)O  ...              C1\n",
              "4            O=C1OC(=O)C(N)=C1N  ...             C2v\n",
              "\n",
              "[5 rows x 26 columns]"
            ]
          },
          "metadata": {
            "tags": []
          },
          "execution_count": 7
        }
      ]
    },
    {
      "cell_type": "code",
      "metadata": {
        "id": "MQfh92KyYBNy",
        "outputId": "e048cc59-c800-419d-96c3-a86c82656500",
        "colab": {
          "base_uri": "https://localhost:8080/",
          "height": 578
        }
      },
      "source": [
        "df.info()"
      ],
      "execution_count": 8,
      "outputs": [
        {
          "output_type": "stream",
          "text": [
            "<class 'pandas.core.frame.DataFrame'>\n",
            "RangeIndex: 22 entries, 0 to 21\n",
            "Data columns (total 26 columns):\n",
            " #   Column                   Non-Null Count  Dtype  \n",
            "---  ------                   --------------  -----  \n",
            " 0   smiles                   22 non-null     object \n",
            " 1   moleculerWeight          22 non-null     float64\n",
            " 2   stoichiometry            22 non-null     object \n",
            " 3   stoichiometry.1          20 non-null     object \n",
            " 4   gasEnergy                22 non-null     float64\n",
            " 5   solutionEnergy           22 non-null     float64\n",
            " 6   gasHomo                  22 non-null     float64\n",
            " 7   solutionHomo             22 non-null     float64\n",
            " 8   gasLumo                  22 non-null     float64\n",
            " 9   solutionLumo             22 non-null     float64\n",
            " 10  mepcDipoleMomentsTot     22 non-null     float64\n",
            " 11  mepcGasDipoleMomentsTot  22 non-null     float64\n",
            " 12  mmcDipoleMomentsTot      22 non-null     float64\n",
            " 13  mmcGasDipoleMomentsTot   22 non-null     float64\n",
            " 14  mqmwDipoleMomentsTot     22 non-null     float64\n",
            " 15  mqmwGasDipoleMomentsTot  22 non-null     float64\n",
            " 16  alpha                    22 non-null     float64\n",
            " 17  beta                     22 non-null     float64\n",
            " 18  dalpha                   22 non-null     float64\n",
            " 19  cavityEnergy             22 non-null     float64\n",
            " 20  molecularSurface         22 non-null     float64\n",
            " 21  reactionFieldEnergy      22 non-null     float64\n",
            " 22  solventAccessSurface     22 non-null     float64\n",
            " 23  molecularPointGroup      22 non-null     object \n",
            " 24  nuclearRepulsionEnergy   22 non-null     float64\n",
            " 25  pointGroupUsed           22 non-null     object \n",
            "dtypes: float64(21), object(5)\n",
            "memory usage: 4.6+ KB\n"
          ],
          "name": "stdout"
        }
      ]
    },
    {
      "cell_type": "code",
      "metadata": {
        "id": "TPMakpARYKDJ",
        "outputId": "ca0ea429-9dee-46b1-d663-28280e8d7dd1",
        "colab": {
          "base_uri": "https://localhost:8080/",
          "height": 279
        }
      },
      "source": [
        "plt.style.use('bmh')\n",
        "df['solutionEnergy'].plot.hist(alpha=0.5,bins=25)"
      ],
      "execution_count": 9,
      "outputs": [
        {
          "output_type": "execute_result",
          "data": {
            "text/plain": [
              "<matplotlib.axes._subplots.AxesSubplot at 0x7fcdd8b08278>"
            ]
          },
          "metadata": {
            "tags": []
          },
          "execution_count": 9
        },
        {
          "output_type": "display_data",
          "data": {
            "image/png": "[encoded data removed]",
            "text/plain": [
              "<Figure size 432x288 with 1 Axes>"
            ]
          },
          "metadata": {
            "tags": [],
            "needs_background": "light"
          }
        }
      ]
    },
    {
      "cell_type": "code",
      "metadata": {
        "id": "rjkoApDK8Hkr"
      },
      "source": [
        ""
      ],
      "execution_count": 9,
      "outputs": []
    },
    {
      "cell_type": "code",
      "metadata": {
        "id": "aitbY44rYds3"
      },
      "source": [
        "df['mol'] = df['smiles'].apply(lambda x: Chem.MolFromSmiles(x))"
      ],
      "execution_count": 10,
      "outputs": []
    },
    {
      "cell_type": "code",
      "metadata": {
        "id": "tF0kC4gI8bsT",
        "outputId": "c5156b93-9df8-4ac6-b0d6-665e159f8337",
        "colab": {
          "base_uri": "https://localhost:8080/",
          "height": 421
        }
      },
      "source": [
        "mols = df['mol'][:10]\n",
        "Draw.MolsToGridImage(mols, molsPerRow=5, useSVG=True, legends=list(df['smiles'][:10].values))"
      ],
      "execution_count": 11,
      "outputs": [
        {
          "output_type": "execute_result",
          "data": {
            "text/plain": [
              "<IPython.core.display.SVG object>"
            ],
            "image/svg+xml": "<svg baseProfile=\"full\" height=\"400px\" version=\"1.1\" viewBox=\"0 0 1000 400\" width=\"1000px\" xml:space=\"preserve\" xmlns=\"http://www.w3.org/2000/svg\" xmlns:rdkit=\"http://www.rdkit.org/xml\" xmlns:xlink=\"http://www.w3.org/1999/xlink\">\n<!-- END OF HEADER -->\n<rect height=\"400\" style=\"opacity:1.0;fill:#FFFFFF;stroke:none\" width=\"1000\" x=\"0\" y=\"0\"> </rect>\n<rect height=\"400\" style=\"opacity:1.0;fill:#FFFFFF;stroke:none\" width=\"1000\" x=\"0\" y=\"0\"> </rect>\n<rect height=\"400\" style=\"opacity:1.0;fill:#FFFFFF;stroke:none\" width=\"1000\" x=\"0\" y=\"0\"> </rect>\n<rect height=\"400\" style=\"opacity:1.0;fill:#FFFFFF;stroke:none\" width=\"1000\" x=\"0\" y=\"0\"> </rect>\n<rect height=\"400\" style=\"opacity:1.0;fill:#FFFFFF;stroke:none\" width=\"1000\" x=\"0\" y=\"0\"> </rect>\n<rect height=\"400\" style=\"opacity:1.0;fill:#FFFFFF;stroke:none\" width=\"1000\" x=\"0\" y=\"0\"> </rect>\n<rect height=\"400\" style=\"opacity:1.0;fill:#FFFFFF;stroke:none\" width=\"1000\" x=\"0\" y=\"0\"> </rect>\n<rect height=\"400\" style=\"opacity:1.0;fill:#FFFFFF;stroke:none\" width=\"1000\" x=\"0\" y=\"0\"> </rect>\n<rect height=\"400\" style=\"opacity:1.0;fill:#FFFFFF;stroke:none\" width=\"1000\" x=\"0\" y=\"0\"> </rect>\n<rect height=\"400\" style=\"opacity:1.0;fill:#FFFFFF;stroke:none\" width=\"1000\" x=\"0\" y=\"0\"> </rect>\n<rect height=\"400\" style=\"opacity:1.0;fill:#FFFFFF;stroke:none\" width=\"1000\" x=\"0\" y=\"0\"> </rect>\n<path class=\"bond-0\" d=\"M 44.5078,116.092 L 58.7114,111.477\" style=\"fill:none;fill-rule:evenodd;stroke:#FF0000;stroke-width:2px;stroke-linecap:butt;stroke-linejoin:miter;stroke-opacity:1\"/>\n<path class=\"bond-0\" d=\"M 58.7114,111.477 L 72.915,106.862\" style=\"fill:none;fill-rule:evenodd;stroke:#000000;stroke-width:2px;stroke-linecap:butt;stroke-linejoin:miter;stroke-opacity:1\"/>\n<path class=\"bond-0\" d=\"M 42.3005,109.299 L 56.5041,104.684\" style=\"fill:none;fill-rule:evenodd;stroke:#FF0000;stroke-width:2px;stroke-linecap:butt;stroke-linejoin:miter;stroke-opacity:1\"/>\n<path class=\"bond-0\" d=\"M 56.5041,104.684 L 70.7077,100.069\" style=\"fill:none;fill-rule:evenodd;stroke:#000000;stroke-width:2px;stroke-linecap:butt;stroke-linejoin:miter;stroke-opacity:1\"/>\n<path class=\"bond-1\" d=\"M 71.8114,103.466 L 83.4785,111.942\" style=\"fill:none;fill-rule:evenodd;stroke:#000000;stroke-width:2px;stroke-linecap:butt;stroke-linejoin:miter;stroke-opacity:1\"/>\n<path class=\"bond-1\" d=\"M 83.4785,111.942 L 95.1457,120.419\" style=\"fill:none;fill-rule:evenodd;stroke:#FF0000;stroke-width:2px;stroke-linecap:butt;stroke-linejoin:miter;stroke-opacity:1\"/>\n<path class=\"bond-6\" d=\"M 71.8114,103.466 L 82.8478,69.4991\" style=\"fill:none;fill-rule:evenodd;stroke:#000000;stroke-width:2px;stroke-linecap:butt;stroke-linejoin:miter;stroke-opacity:1\"/>\n<path class=\"bond-2\" d=\"M 106.264,120.419 L 117.932,111.942\" style=\"fill:none;fill-rule:evenodd;stroke:#FF0000;stroke-width:2px;stroke-linecap:butt;stroke-linejoin:miter;stroke-opacity:1\"/>\n<path class=\"bond-2\" d=\"M 117.932,111.942 L 129.599,103.466\" style=\"fill:none;fill-rule:evenodd;stroke:#000000;stroke-width:2px;stroke-linecap:butt;stroke-linejoin:miter;stroke-opacity:1\"/>\n<path class=\"bond-3\" d=\"M 128.495,106.862 L 142.699,111.477\" style=\"fill:none;fill-rule:evenodd;stroke:#000000;stroke-width:2px;stroke-linecap:butt;stroke-linejoin:miter;stroke-opacity:1\"/>\n<path class=\"bond-3\" d=\"M 142.699,111.477 L 156.902,116.092\" style=\"fill:none;fill-rule:evenodd;stroke:#FF0000;stroke-width:2px;stroke-linecap:butt;stroke-linejoin:miter;stroke-opacity:1\"/>\n<path class=\"bond-3\" d=\"M 130.702,100.069 L 144.906,104.684\" style=\"fill:none;fill-rule:evenodd;stroke:#000000;stroke-width:2px;stroke-linecap:butt;stroke-linejoin:miter;stroke-opacity:1\"/>\n<path class=\"bond-3\" d=\"M 144.906,104.684 L 159.11,109.299\" style=\"fill:none;fill-rule:evenodd;stroke:#FF0000;stroke-width:2px;stroke-linecap:butt;stroke-linejoin:miter;stroke-opacity:1\"/>\n<path class=\"bond-4\" d=\"M 129.599,103.466 L 118.562,69.4991\" style=\"fill:none;fill-rule:evenodd;stroke:#000000;stroke-width:2px;stroke-linecap:butt;stroke-linejoin:miter;stroke-opacity:1\"/>\n<path class=\"bond-5\" d=\"M 118.562,69.4991 L 82.8478,69.4991\" style=\"fill:none;fill-rule:evenodd;stroke:#000000;stroke-width:2px;stroke-linecap:butt;stroke-linejoin:miter;stroke-opacity:1\"/>\n<path class=\"bond-5\" d=\"M 113.205,76.642 L 88.205,76.642\" style=\"fill:none;fill-rule:evenodd;stroke:#000000;stroke-width:2px;stroke-linecap:butt;stroke-linejoin:miter;stroke-opacity:1\"/>\n<text dominant-baseline=\"central\" style=\"font-size:11px;font-style:normal;font-weight:normal;fill-opacity:1;stroke:none;font-family:sans-serif;fill:#FF0000\" text-anchor=\"end\" x=\"42.2137\" y=\"116.288\"><tspan>O</tspan></text>\n<text dominant-baseline=\"central\" style=\"font-size:11px;font-style:normal;font-weight:normal;fill-opacity:1;stroke:none;font-family:sans-serif;fill:#FF0000\" text-anchor=\"middle\" x=\"100.705\" y=\"126.244\"><tspan>O</tspan></text>\n<text dominant-baseline=\"central\" style=\"font-size:11px;font-style:normal;font-weight:normal;fill-opacity:1;stroke:none;font-family:sans-serif;fill:#FF0000\" text-anchor=\"start\" x=\"159.196\" y=\"116.288\"><tspan>O</tspan></text>\n<text dominant-baseline=\"central\" style=\"font-size:12px;font-style:normal;font-weight:normal;fill-opacity:1;stroke:none;font-family:sans-serif;fill:#000000\" text-anchor=\"middle\" x=\"100\" y=\"189.8\"><tspan>O=C1OC(=O)C=C1</tspan></text>\n<path class=\"bond-0\" d=\"M 366.347,96.3417 L 351.269,96.3417\" style=\"fill:none;fill-rule:evenodd;stroke:#FF0000;stroke-width:2px;stroke-linecap:butt;stroke-linejoin:miter;stroke-opacity:1\"/>\n<path class=\"bond-0\" d=\"M 351.269,96.3417 L 336.192,96.3417\" style=\"fill:none;fill-rule:evenodd;stroke:#000000;stroke-width:2px;stroke-linecap:butt;stroke-linejoin:miter;stroke-opacity:1\"/>\n<path class=\"bond-0\" d=\"M 366.347,103.485 L 351.269,103.485\" style=\"fill:none;fill-rule:evenodd;stroke:#FF0000;stroke-width:2px;stroke-linecap:butt;stroke-linejoin:miter;stroke-opacity:1\"/>\n<path class=\"bond-0\" d=\"M 351.269,103.485 L 336.192,103.485\" style=\"fill:none;fill-rule:evenodd;stroke:#000000;stroke-width:2px;stroke-linecap:butt;stroke-linejoin:miter;stroke-opacity:1\"/>\n<path class=\"bond-1\" d=\"M 336.192,99.9131 L 327.858,88.4425\" style=\"fill:none;fill-rule:evenodd;stroke:#000000;stroke-width:2px;stroke-linecap:butt;stroke-linejoin:miter;stroke-opacity:1\"/>\n<path class=\"bond-1\" d=\"M 327.858,88.4425 L 319.524,76.9718\" style=\"fill:none;fill-rule:evenodd;stroke:#FF0000;stroke-width:2px;stroke-linecap:butt;stroke-linejoin:miter;stroke-opacity:1\"/>\n<path class=\"bond-7\" d=\"M 336.192,99.9131 L 315.199,128.807\" style=\"fill:none;fill-rule:evenodd;stroke:#000000;stroke-width:2px;stroke-linecap:butt;stroke-linejoin:miter;stroke-opacity:1\"/>\n<path class=\"bond-2\" d=\"M 309.64,72.8258 L 295.436,77.4408\" style=\"fill:none;fill-rule:evenodd;stroke:#FF0000;stroke-width:2px;stroke-linecap:butt;stroke-linejoin:miter;stroke-opacity:1\"/>\n<path class=\"bond-2\" d=\"M 295.436,77.4408 L 281.233,82.0558\" style=\"fill:none;fill-rule:evenodd;stroke:#000000;stroke-width:2px;stroke-linecap:butt;stroke-linejoin:miter;stroke-opacity:1\"/>\n<path class=\"bond-3\" d=\"M 283.332,79.1664 L 271.665,70.6898\" style=\"fill:none;fill-rule:evenodd;stroke:#000000;stroke-width:2px;stroke-linecap:butt;stroke-linejoin:miter;stroke-opacity:1\"/>\n<path class=\"bond-3\" d=\"M 271.665,70.6898 L 259.998,62.2131\" style=\"fill:none;fill-rule:evenodd;stroke:#FF0000;stroke-width:2px;stroke-linecap:butt;stroke-linejoin:miter;stroke-opacity:1\"/>\n<path class=\"bond-3\" d=\"M 279.133,84.9452 L 267.466,76.4685\" style=\"fill:none;fill-rule:evenodd;stroke:#000000;stroke-width:2px;stroke-linecap:butt;stroke-linejoin:miter;stroke-opacity:1\"/>\n<path class=\"bond-3\" d=\"M 267.466,76.4685 L 255.799,67.9918\" style=\"fill:none;fill-rule:evenodd;stroke:#FF0000;stroke-width:2px;stroke-linecap:butt;stroke-linejoin:miter;stroke-opacity:1\"/>\n<path class=\"bond-4\" d=\"M 281.233,82.0558 L 281.233,117.77\" style=\"fill:none;fill-rule:evenodd;stroke:#000000;stroke-width:2px;stroke-linecap:butt;stroke-linejoin:miter;stroke-opacity:1\"/>\n<path class=\"bond-5\" d=\"M 281.233,117.77 L 315.199,128.807\" style=\"fill:none;fill-rule:evenodd;stroke:#000000;stroke-width:2px;stroke-linecap:butt;stroke-linejoin:miter;stroke-opacity:1\"/>\n<path class=\"bond-5\" d=\"M 288.535,112.633 L 312.312,120.358\" style=\"fill:none;fill-rule:evenodd;stroke:#000000;stroke-width:2px;stroke-linecap:butt;stroke-linejoin:miter;stroke-opacity:1\"/>\n<path class=\"bond-6\" d=\"M 281.233,117.77 L 269.366,126.392\" style=\"fill:none;fill-rule:evenodd;stroke:#000000;stroke-width:2px;stroke-linecap:butt;stroke-linejoin:miter;stroke-opacity:1\"/>\n<path class=\"bond-6\" d=\"M 269.366,126.392 L 257.498,135.015\" style=\"fill:none;fill-rule:evenodd;stroke:#FF0000;stroke-width:2px;stroke-linecap:butt;stroke-linejoin:miter;stroke-opacity:1\"/>\n<text dominant-baseline=\"central\" style=\"font-size:11px;font-style:normal;font-weight:normal;fill-opacity:1;stroke:none;font-family:sans-serif;fill:#FF0000\" text-anchor=\"start\" x=\"367.538\" y=\"101.699\"><tspan>O</tspan></text>\n<text dominant-baseline=\"central\" style=\"font-size:11px;font-style:normal;font-weight:normal;fill-opacity:1;stroke:none;font-family:sans-serif;fill:#FF0000\" text-anchor=\"middle\" x=\"315.199\" y=\"72.8051\"><tspan>O</tspan></text>\n<text dominant-baseline=\"central\" style=\"font-size:11px;font-style:normal;font-weight:normal;fill-opacity:1;stroke:none;font-family:sans-serif;fill:#FF0000\" text-anchor=\"end\" x=\"256.708\" y=\"62.849\"><tspan>O</tspan></text>\n<text dominant-baseline=\"central\" style=\"font-size:11px;font-style:normal;font-weight:normal;fill-opacity:1;stroke:none;font-family:sans-serif;fill:#FF0000\" text-anchor=\"end\" x=\"256.708\" y=\"140.549\"><tspan>HO</tspan></text>\n<text dominant-baseline=\"central\" style=\"font-size:12px;font-style:normal;font-weight:normal;fill-opacity:1;stroke:none;font-family:sans-serif;fill:#000000\" text-anchor=\"middle\" x=\"300\" y=\"189.8\"><tspan>O=C1OC(=O)C(=C1)O</tspan></text>\n<path class=\"bond-0\" d=\"M 444.508,129.272 L 458.711,124.657\" style=\"fill:none;fill-rule:evenodd;stroke:#FF0000;stroke-width:2px;stroke-linecap:butt;stroke-linejoin:miter;stroke-opacity:1\"/>\n<path class=\"bond-0\" d=\"M 458.711,124.657 L 472.915,120.042\" style=\"fill:none;fill-rule:evenodd;stroke:#000000;stroke-width:2px;stroke-linecap:butt;stroke-linejoin:miter;stroke-opacity:1\"/>\n<path class=\"bond-0\" d=\"M 442.301,122.479 L 456.504,117.864\" style=\"fill:none;fill-rule:evenodd;stroke:#FF0000;stroke-width:2px;stroke-linecap:butt;stroke-linejoin:miter;stroke-opacity:1\"/>\n<path class=\"bond-0\" d=\"M 456.504,117.864 L 470.708,113.249\" style=\"fill:none;fill-rule:evenodd;stroke:#000000;stroke-width:2px;stroke-linecap:butt;stroke-linejoin:miter;stroke-opacity:1\"/>\n<path class=\"bond-1\" d=\"M 471.811,116.645 L 483.479,125.122\" style=\"fill:none;fill-rule:evenodd;stroke:#000000;stroke-width:2px;stroke-linecap:butt;stroke-linejoin:miter;stroke-opacity:1\"/>\n<path class=\"bond-1\" d=\"M 483.479,125.122 L 495.146,133.599\" style=\"fill:none;fill-rule:evenodd;stroke:#FF0000;stroke-width:2px;stroke-linecap:butt;stroke-linejoin:miter;stroke-opacity:1\"/>\n<path class=\"bond-8\" d=\"M 471.811,116.645 L 482.848,82.6786\" style=\"fill:none;fill-rule:evenodd;stroke:#000000;stroke-width:2px;stroke-linecap:butt;stroke-linejoin:miter;stroke-opacity:1\"/>\n<path class=\"bond-2\" d=\"M 506.264,133.599 L 517.932,125.122\" style=\"fill:none;fill-rule:evenodd;stroke:#FF0000;stroke-width:2px;stroke-linecap:butt;stroke-linejoin:miter;stroke-opacity:1\"/>\n<path class=\"bond-2\" d=\"M 517.932,125.122 L 529.599,116.645\" style=\"fill:none;fill-rule:evenodd;stroke:#000000;stroke-width:2px;stroke-linecap:butt;stroke-linejoin:miter;stroke-opacity:1\"/>\n<path class=\"bond-3\" d=\"M 528.495,120.042 L 542.699,124.657\" style=\"fill:none;fill-rule:evenodd;stroke:#000000;stroke-width:2px;stroke-linecap:butt;stroke-linejoin:miter;stroke-opacity:1\"/>\n<path class=\"bond-3\" d=\"M 542.699,124.657 L 556.902,129.272\" style=\"fill:none;fill-rule:evenodd;stroke:#FF0000;stroke-width:2px;stroke-linecap:butt;stroke-linejoin:miter;stroke-opacity:1\"/>\n<path class=\"bond-3\" d=\"M 530.702,113.249 L 544.906,117.864\" style=\"fill:none;fill-rule:evenodd;stroke:#000000;stroke-width:2px;stroke-linecap:butt;stroke-linejoin:miter;stroke-opacity:1\"/>\n<path class=\"bond-3\" d=\"M 544.906,117.864 L 559.11,122.479\" style=\"fill:none;fill-rule:evenodd;stroke:#FF0000;stroke-width:2px;stroke-linecap:butt;stroke-linejoin:miter;stroke-opacity:1\"/>\n<path class=\"bond-4\" d=\"M 529.599,116.645 L 518.562,82.6786\" style=\"fill:none;fill-rule:evenodd;stroke:#000000;stroke-width:2px;stroke-linecap:butt;stroke-linejoin:miter;stroke-opacity:1\"/>\n<path class=\"bond-5\" d=\"M 518.562,82.6786 L 526.896,71.2079\" style=\"fill:none;fill-rule:evenodd;stroke:#000000;stroke-width:2px;stroke-linecap:butt;stroke-linejoin:miter;stroke-opacity:1\"/>\n<path class=\"bond-5\" d=\"M 526.896,71.2079 L 535.23,59.7373\" style=\"fill:none;fill-rule:evenodd;stroke:#33CCCC;stroke-width:2px;stroke-linecap:butt;stroke-linejoin:miter;stroke-opacity:1\"/>\n<path class=\"bond-6\" d=\"M 518.562,82.6786 L 482.848,82.6786\" style=\"fill:none;fill-rule:evenodd;stroke:#000000;stroke-width:2px;stroke-linecap:butt;stroke-linejoin:miter;stroke-opacity:1\"/>\n<path class=\"bond-6\" d=\"M 513.205,89.8215 L 488.205,89.8215\" style=\"fill:none;fill-rule:evenodd;stroke:#000000;stroke-width:2px;stroke-linecap:butt;stroke-linejoin:miter;stroke-opacity:1\"/>\n<path class=\"bond-7\" d=\"M 482.848,82.6786 L 474.514,71.2079\" style=\"fill:none;fill-rule:evenodd;stroke:#000000;stroke-width:2px;stroke-linecap:butt;stroke-linejoin:miter;stroke-opacity:1\"/>\n<path class=\"bond-7\" d=\"M 474.514,71.2079 L 466.18,59.7373\" style=\"fill:none;fill-rule:evenodd;stroke:#33CCCC;stroke-width:2px;stroke-linecap:butt;stroke-linejoin:miter;stroke-opacity:1\"/>\n<text dominant-baseline=\"central\" style=\"font-size:11px;font-style:normal;font-weight:normal;fill-opacity:1;stroke:none;font-family:sans-serif;fill:#FF0000\" text-anchor=\"end\" x=\"442.214\" y=\"129.467\"><tspan>O</tspan></text>\n<text dominant-baseline=\"central\" style=\"font-size:11px;font-style:normal;font-weight:normal;fill-opacity:1;stroke:none;font-family:sans-serif;fill:#FF0000\" text-anchor=\"middle\" x=\"500.705\" y=\"139.423\"><tspan>O</tspan></text>\n<text dominant-baseline=\"central\" style=\"font-size:11px;font-style:normal;font-weight:normal;fill-opacity:1;stroke:none;font-family:sans-serif;fill:#FF0000\" text-anchor=\"start\" x=\"559.196\" y=\"129.467\"><tspan>O</tspan></text>\n<text dominant-baseline=\"central\" style=\"font-size:11px;font-style:normal;font-weight:normal;fill-opacity:1;stroke:none;font-family:sans-serif;fill:#33CCCC\" text-anchor=\"start\" x=\"536.379\" y=\"55.5706\"><tspan>F</tspan></text>\n<text dominant-baseline=\"central\" style=\"font-size:11px;font-style:normal;font-weight:normal;fill-opacity:1;stroke:none;font-family:sans-serif;fill:#33CCCC\" text-anchor=\"end\" x=\"465.031\" y=\"55.5706\"><tspan>F</tspan></text>\n<text dominant-baseline=\"central\" style=\"font-size:12px;font-style:normal;font-weight:normal;fill-opacity:1;stroke:none;font-family:sans-serif;fill:#000000\" text-anchor=\"middle\" x=\"500\" y=\"189.8\"><tspan>O=C1OC(=O)C(F)=C1F</tspan></text>\n<path class=\"bond-0\" d=\"M 644.508,147.91 L 658.711,143.295\" style=\"fill:none;fill-rule:evenodd;stroke:#FF0000;stroke-width:2px;stroke-linecap:butt;stroke-linejoin:miter;stroke-opacity:1\"/>\n<path class=\"bond-0\" d=\"M 658.711,143.295 L 672.915,138.68\" style=\"fill:none;fill-rule:evenodd;stroke:#000000;stroke-width:2px;stroke-linecap:butt;stroke-linejoin:miter;stroke-opacity:1\"/>\n<path class=\"bond-0\" d=\"M 642.301,141.117 L 656.504,136.502\" style=\"fill:none;fill-rule:evenodd;stroke:#FF0000;stroke-width:2px;stroke-linecap:butt;stroke-linejoin:miter;stroke-opacity:1\"/>\n<path class=\"bond-0\" d=\"M 656.504,136.502 L 670.708,131.887\" style=\"fill:none;fill-rule:evenodd;stroke:#000000;stroke-width:2px;stroke-linecap:butt;stroke-linejoin:miter;stroke-opacity:1\"/>\n<path class=\"bond-1\" d=\"M 671.811,135.284 L 683.479,143.76\" style=\"fill:none;fill-rule:evenodd;stroke:#000000;stroke-width:2px;stroke-linecap:butt;stroke-linejoin:miter;stroke-opacity:1\"/>\n<path class=\"bond-1\" d=\"M 683.479,143.76 L 695.146,152.237\" style=\"fill:none;fill-rule:evenodd;stroke:#FF0000;stroke-width:2px;stroke-linecap:butt;stroke-linejoin:miter;stroke-opacity:1\"/>\n<path class=\"bond-12\" d=\"M 671.811,135.284 L 682.848,101.317\" style=\"fill:none;fill-rule:evenodd;stroke:#000000;stroke-width:2px;stroke-linecap:butt;stroke-linejoin:miter;stroke-opacity:1\"/>\n<path class=\"bond-2\" d=\"M 706.264,152.237 L 717.932,143.76\" style=\"fill:none;fill-rule:evenodd;stroke:#FF0000;stroke-width:2px;stroke-linecap:butt;stroke-linejoin:miter;stroke-opacity:1\"/>\n<path class=\"bond-2\" d=\"M 717.932,143.76 L 729.599,135.284\" style=\"fill:none;fill-rule:evenodd;stroke:#000000;stroke-width:2px;stroke-linecap:butt;stroke-linejoin:miter;stroke-opacity:1\"/>\n<path class=\"bond-3\" d=\"M 728.495,138.68 L 742.699,143.295\" style=\"fill:none;fill-rule:evenodd;stroke:#000000;stroke-width:2px;stroke-linecap:butt;stroke-linejoin:miter;stroke-opacity:1\"/>\n<path class=\"bond-3\" d=\"M 742.699,143.295 L 756.902,147.91\" style=\"fill:none;fill-rule:evenodd;stroke:#FF0000;stroke-width:2px;stroke-linecap:butt;stroke-linejoin:miter;stroke-opacity:1\"/>\n<path class=\"bond-3\" d=\"M 730.702,131.887 L 744.906,136.502\" style=\"fill:none;fill-rule:evenodd;stroke:#000000;stroke-width:2px;stroke-linecap:butt;stroke-linejoin:miter;stroke-opacity:1\"/>\n<path class=\"bond-3\" d=\"M 744.906,136.502 L 759.11,141.117\" style=\"fill:none;fill-rule:evenodd;stroke:#FF0000;stroke-width:2px;stroke-linecap:butt;stroke-linejoin:miter;stroke-opacity:1\"/>\n<path class=\"bond-4\" d=\"M 729.599,135.284 L 718.562,101.317\" style=\"fill:none;fill-rule:evenodd;stroke:#000000;stroke-width:2px;stroke-linecap:butt;stroke-linejoin:miter;stroke-opacity:1\"/>\n<path class=\"bond-5\" d=\"M 718.562,101.317 L 739.555,72.4233\" style=\"fill:none;fill-rule:evenodd;stroke:#000000;stroke-width:2px;stroke-linecap:butt;stroke-linejoin:miter;stroke-opacity:1\"/>\n<path class=\"bond-8\" d=\"M 718.562,101.317 L 682.848,101.317\" style=\"fill:none;fill-rule:evenodd;stroke:#000000;stroke-width:2px;stroke-linecap:butt;stroke-linejoin:miter;stroke-opacity:1\"/>\n<path class=\"bond-8\" d=\"M 713.205,108.46 L 688.205,108.46\" style=\"fill:none;fill-rule:evenodd;stroke:#000000;stroke-width:2px;stroke-linecap:butt;stroke-linejoin:miter;stroke-opacity:1\"/>\n<path class=\"bond-6\" d=\"M 742.818,70.9707 L 736.879,57.6335\" style=\"fill:none;fill-rule:evenodd;stroke:#000000;stroke-width:2px;stroke-linecap:butt;stroke-linejoin:miter;stroke-opacity:1\"/>\n<path class=\"bond-6\" d=\"M 736.879,57.6335 L 730.941,44.2962\" style=\"fill:none;fill-rule:evenodd;stroke:#FF0000;stroke-width:2px;stroke-linecap:butt;stroke-linejoin:miter;stroke-opacity:1\"/>\n<path class=\"bond-6\" d=\"M 736.292,73.876 L 730.354,60.5387\" style=\"fill:none;fill-rule:evenodd;stroke:#000000;stroke-width:2px;stroke-linecap:butt;stroke-linejoin:miter;stroke-opacity:1\"/>\n<path class=\"bond-6\" d=\"M 730.354,60.5387 L 724.416,47.2015\" style=\"fill:none;fill-rule:evenodd;stroke:#FF0000;stroke-width:2px;stroke-linecap:butt;stroke-linejoin:miter;stroke-opacity:1\"/>\n<path class=\"bond-7\" d=\"M 739.555,72.4233 L 754.535,73.9978\" style=\"fill:none;fill-rule:evenodd;stroke:#000000;stroke-width:2px;stroke-linecap:butt;stroke-linejoin:miter;stroke-opacity:1\"/>\n<path class=\"bond-7\" d=\"M 754.535,73.9978 L 769.514,75.5722\" style=\"fill:none;fill-rule:evenodd;stroke:#FF0000;stroke-width:2px;stroke-linecap:butt;stroke-linejoin:miter;stroke-opacity:1\"/>\n<path class=\"bond-9\" d=\"M 682.848,101.317 L 661.855,72.4233\" style=\"fill:none;fill-rule:evenodd;stroke:#000000;stroke-width:2px;stroke-linecap:butt;stroke-linejoin:miter;stroke-opacity:1\"/>\n<path class=\"bond-10\" d=\"M 665.118,73.876 L 671.056,60.5387\" style=\"fill:none;fill-rule:evenodd;stroke:#000000;stroke-width:2px;stroke-linecap:butt;stroke-linejoin:miter;stroke-opacity:1\"/>\n<path class=\"bond-10\" d=\"M 671.056,60.5387 L 676.994,47.2015\" style=\"fill:none;fill-rule:evenodd;stroke:#FF0000;stroke-width:2px;stroke-linecap:butt;stroke-linejoin:miter;stroke-opacity:1\"/>\n<path class=\"bond-10\" d=\"M 658.593,70.9707 L 664.531,57.6335\" style=\"fill:none;fill-rule:evenodd;stroke:#000000;stroke-width:2px;stroke-linecap:butt;stroke-linejoin:miter;stroke-opacity:1\"/>\n<path class=\"bond-10\" d=\"M 664.531,57.6335 L 670.469,44.2962\" style=\"fill:none;fill-rule:evenodd;stroke:#FF0000;stroke-width:2px;stroke-linecap:butt;stroke-linejoin:miter;stroke-opacity:1\"/>\n<path class=\"bond-11\" d=\"M 661.855,72.4233 L 646.675,74.0188\" style=\"fill:none;fill-rule:evenodd;stroke:#000000;stroke-width:2px;stroke-linecap:butt;stroke-linejoin:miter;stroke-opacity:1\"/>\n<path class=\"bond-11\" d=\"M 646.675,74.0188 L 631.496,75.6143\" style=\"fill:none;fill-rule:evenodd;stroke:#FF0000;stroke-width:2px;stroke-linecap:butt;stroke-linejoin:miter;stroke-opacity:1\"/>\n<text dominant-baseline=\"central\" style=\"font-size:11px;font-style:normal;font-weight:normal;fill-opacity:1;stroke:none;font-family:sans-serif;fill:#FF0000\" text-anchor=\"end\" x=\"642.214\" y=\"148.106\"><tspan>O</tspan></text>\n<text dominant-baseline=\"central\" style=\"font-size:11px;font-style:normal;font-weight:normal;fill-opacity:1;stroke:none;font-family:sans-serif;fill:#FF0000\" text-anchor=\"middle\" x=\"700.705\" y=\"158.062\"><tspan>O</tspan></text>\n<text dominant-baseline=\"central\" style=\"font-size:11px;font-style:normal;font-weight:normal;fill-opacity:1;stroke:none;font-family:sans-serif;fill:#FF0000\" text-anchor=\"start\" x=\"759.196\" y=\"148.106\"><tspan>O</tspan></text>\n<text dominant-baseline=\"central\" style=\"font-size:11px;font-style:normal;font-weight:normal;fill-opacity:1;stroke:none;font-family:sans-serif;fill:#FF0000\" text-anchor=\"end\" x=\"729.397\" y=\"41.5822\"><tspan>O</tspan></text>\n<text dominant-baseline=\"central\" style=\"font-size:11px;font-style:normal;font-weight:normal;fill-opacity:1;stroke:none;font-family:sans-serif;fill:#FF0000\" text-anchor=\"start\" x=\"770.705\" y=\"77.9423\"><tspan>OH</tspan></text>\n<text dominant-baseline=\"central\" style=\"font-size:11px;font-style:normal;font-weight:normal;fill-opacity:1;stroke:none;font-family:sans-serif;fill:#FF0000\" text-anchor=\"start\" x=\"672.013\" y=\"41.5822\"><tspan>O</tspan></text>\n<text dominant-baseline=\"central\" style=\"font-size:11px;font-style:normal;font-weight:normal;fill-opacity:1;stroke:none;font-family:sans-serif;fill:#FF0000\" text-anchor=\"end\" x=\"630.705\" y=\"77.9423\"><tspan>HO</tspan></text>\n<text dominant-baseline=\"central\" style=\"font-size:12px;font-style:normal;font-weight:normal;fill-opacity:1;stroke:none;font-family:sans-serif;fill:#000000\" text-anchor=\"middle\" x=\"700\" y=\"189.8\"><tspan>O=C1OC(=O)C(C(=O)O)=C1C(=O)O</tspan></text>\n<path class=\"bond-0\" d=\"M 844.508,129.272 L 858.711,124.657\" style=\"fill:none;fill-rule:evenodd;stroke:#FF0000;stroke-width:2px;stroke-linecap:butt;stroke-linejoin:miter;stroke-opacity:1\"/>\n<path class=\"bond-0\" d=\"M 858.711,124.657 L 872.915,120.042\" style=\"fill:none;fill-rule:evenodd;stroke:#000000;stroke-width:2px;stroke-linecap:butt;stroke-linejoin:miter;stroke-opacity:1\"/>\n<path class=\"bond-0\" d=\"M 842.301,122.479 L 856.504,117.864\" style=\"fill:none;fill-rule:evenodd;stroke:#FF0000;stroke-width:2px;stroke-linecap:butt;stroke-linejoin:miter;stroke-opacity:1\"/>\n<path class=\"bond-0\" d=\"M 856.504,117.864 L 870.708,113.249\" style=\"fill:none;fill-rule:evenodd;stroke:#000000;stroke-width:2px;stroke-linecap:butt;stroke-linejoin:miter;stroke-opacity:1\"/>\n<path class=\"bond-1\" d=\"M 871.811,116.645 L 883.479,125.122\" style=\"fill:none;fill-rule:evenodd;stroke:#000000;stroke-width:2px;stroke-linecap:butt;stroke-linejoin:miter;stroke-opacity:1\"/>\n<path class=\"bond-1\" d=\"M 883.479,125.122 L 895.146,133.599\" style=\"fill:none;fill-rule:evenodd;stroke:#FF0000;stroke-width:2px;stroke-linecap:butt;stroke-linejoin:miter;stroke-opacity:1\"/>\n<path class=\"bond-8\" d=\"M 871.811,116.645 L 882.848,82.6786\" style=\"fill:none;fill-rule:evenodd;stroke:#000000;stroke-width:2px;stroke-linecap:butt;stroke-linejoin:miter;stroke-opacity:1\"/>\n<path class=\"bond-2\" d=\"M 906.264,133.599 L 917.932,125.122\" style=\"fill:none;fill-rule:evenodd;stroke:#FF0000;stroke-width:2px;stroke-linecap:butt;stroke-linejoin:miter;stroke-opacity:1\"/>\n<path class=\"bond-2\" d=\"M 917.932,125.122 L 929.599,116.645\" style=\"fill:none;fill-rule:evenodd;stroke:#000000;stroke-width:2px;stroke-linecap:butt;stroke-linejoin:miter;stroke-opacity:1\"/>\n<path class=\"bond-3\" d=\"M 928.495,120.042 L 942.699,124.657\" style=\"fill:none;fill-rule:evenodd;stroke:#000000;stroke-width:2px;stroke-linecap:butt;stroke-linejoin:miter;stroke-opacity:1\"/>\n<path class=\"bond-3\" d=\"M 942.699,124.657 L 956.902,129.272\" style=\"fill:none;fill-rule:evenodd;stroke:#FF0000;stroke-width:2px;stroke-linecap:butt;stroke-linejoin:miter;stroke-opacity:1\"/>\n<path class=\"bond-3\" d=\"M 930.702,113.249 L 944.906,117.864\" style=\"fill:none;fill-rule:evenodd;stroke:#000000;stroke-width:2px;stroke-linecap:butt;stroke-linejoin:miter;stroke-opacity:1\"/>\n<path class=\"bond-3\" d=\"M 944.906,117.864 L 959.11,122.479\" style=\"fill:none;fill-rule:evenodd;stroke:#FF0000;stroke-width:2px;stroke-linecap:butt;stroke-linejoin:miter;stroke-opacity:1\"/>\n<path class=\"bond-4\" d=\"M 929.599,116.645 L 918.562,82.6786\" style=\"fill:none;fill-rule:evenodd;stroke:#000000;stroke-width:2px;stroke-linecap:butt;stroke-linejoin:miter;stroke-opacity:1\"/>\n<path class=\"bond-5\" d=\"M 918.562,82.6786 L 926.68,71.5055\" style=\"fill:none;fill-rule:evenodd;stroke:#000000;stroke-width:2px;stroke-linecap:butt;stroke-linejoin:miter;stroke-opacity:1\"/>\n<path class=\"bond-5\" d=\"M 926.68,71.5055 L 934.798,60.3325\" style=\"fill:none;fill-rule:evenodd;stroke:#0000FF;stroke-width:2px;stroke-linecap:butt;stroke-linejoin:miter;stroke-opacity:1\"/>\n<path class=\"bond-6\" d=\"M 918.562,82.6786 L 882.848,82.6786\" style=\"fill:none;fill-rule:evenodd;stroke:#000000;stroke-width:2px;stroke-linecap:butt;stroke-linejoin:miter;stroke-opacity:1\"/>\n<path class=\"bond-6\" d=\"M 913.205,89.8215 L 888.205,89.8215\" style=\"fill:none;fill-rule:evenodd;stroke:#000000;stroke-width:2px;stroke-linecap:butt;stroke-linejoin:miter;stroke-opacity:1\"/>\n<path class=\"bond-7\" d=\"M 882.848,82.6786 L 874.73,71.5055\" style=\"fill:none;fill-rule:evenodd;stroke:#000000;stroke-width:2px;stroke-linecap:butt;stroke-linejoin:miter;stroke-opacity:1\"/>\n<path class=\"bond-7\" d=\"M 874.73,71.5055 L 866.612,60.3325\" style=\"fill:none;fill-rule:evenodd;stroke:#0000FF;stroke-width:2px;stroke-linecap:butt;stroke-linejoin:miter;stroke-opacity:1\"/>\n<text dominant-baseline=\"central\" style=\"font-size:11px;font-style:normal;font-weight:normal;fill-opacity:1;stroke:none;font-family:sans-serif;fill:#FF0000\" text-anchor=\"end\" x=\"842.214\" y=\"129.467\"><tspan>O</tspan></text>\n<text dominant-baseline=\"central\" style=\"font-size:11px;font-style:normal;font-weight:normal;fill-opacity:1;stroke:none;font-family:sans-serif;fill:#FF0000\" text-anchor=\"middle\" x=\"900.705\" y=\"139.423\"><tspan>O</tspan></text>\n<text dominant-baseline=\"central\" style=\"font-size:11px;font-style:normal;font-weight:normal;fill-opacity:1;stroke:none;font-family:sans-serif;fill:#FF0000\" text-anchor=\"start\" x=\"959.196\" y=\"129.467\"><tspan>O</tspan></text>\n<text dominant-baseline=\"central\" style=\"font-size:11px;font-style:normal;font-weight:normal;fill-opacity:1;stroke:none;font-family:sans-serif;fill:#0000FF\" text-anchor=\"start\" x=\"935.705\" y=\"55.7491\"><tspan>NH</tspan><tspan style=\"baseline-shift:sub;font-size:8.25px;\">2</tspan><tspan/></text>\n<text dominant-baseline=\"central\" style=\"font-size:11px;font-style:normal;font-weight:normal;fill-opacity:1;stroke:none;font-family:sans-serif;fill:#0000FF\" text-anchor=\"end\" x=\"865.705\" y=\"55.7491\"><tspan>H</tspan><tspan style=\"baseline-shift:sub;font-size:8.25px;\">2</tspan><tspan>N</tspan></text>\n<text dominant-baseline=\"central\" style=\"font-size:12px;font-style:normal;font-weight:normal;fill-opacity:1;stroke:none;font-family:sans-serif;fill:#000000\" text-anchor=\"middle\" x=\"900\" y=\"189.8\"><tspan>O=C1OC(=O)C(N)=C1N</tspan></text>\n<path class=\"bond-0\" d=\"M 44.5078,329.272 L 58.7114,324.657\" style=\"fill:none;fill-rule:evenodd;stroke:#FF0000;stroke-width:2px;stroke-linecap:butt;stroke-linejoin:miter;stroke-opacity:1\"/>\n<path class=\"bond-0\" d=\"M 58.7114,324.657 L 72.915,320.042\" style=\"fill:none;fill-rule:evenodd;stroke:#000000;stroke-width:2px;stroke-linecap:butt;stroke-linejoin:miter;stroke-opacity:1\"/>\n<path class=\"bond-0\" d=\"M 42.3005,322.479 L 56.5041,317.864\" style=\"fill:none;fill-rule:evenodd;stroke:#FF0000;stroke-width:2px;stroke-linecap:butt;stroke-linejoin:miter;stroke-opacity:1\"/>\n<path class=\"bond-0\" d=\"M 56.5041,317.864 L 70.7077,313.249\" style=\"fill:none;fill-rule:evenodd;stroke:#000000;stroke-width:2px;stroke-linecap:butt;stroke-linejoin:miter;stroke-opacity:1\"/>\n<path class=\"bond-1\" d=\"M 71.8114,316.645 L 83.4785,325.122\" style=\"fill:none;fill-rule:evenodd;stroke:#000000;stroke-width:2px;stroke-linecap:butt;stroke-linejoin:miter;stroke-opacity:1\"/>\n<path class=\"bond-1\" d=\"M 83.4785,325.122 L 95.1457,333.599\" style=\"fill:none;fill-rule:evenodd;stroke:#FF0000;stroke-width:2px;stroke-linecap:butt;stroke-linejoin:miter;stroke-opacity:1\"/>\n<path class=\"bond-8\" d=\"M 71.8114,316.645 L 82.8478,282.679\" style=\"fill:none;fill-rule:evenodd;stroke:#000000;stroke-width:2px;stroke-linecap:butt;stroke-linejoin:miter;stroke-opacity:1\"/>\n<path class=\"bond-2\" d=\"M 106.264,333.599 L 117.932,325.122\" style=\"fill:none;fill-rule:evenodd;stroke:#FF0000;stroke-width:2px;stroke-linecap:butt;stroke-linejoin:miter;stroke-opacity:1\"/>\n<path class=\"bond-2\" d=\"M 117.932,325.122 L 129.599,316.645\" style=\"fill:none;fill-rule:evenodd;stroke:#000000;stroke-width:2px;stroke-linecap:butt;stroke-linejoin:miter;stroke-opacity:1\"/>\n<path class=\"bond-3\" d=\"M 128.495,320.042 L 142.699,324.657\" style=\"fill:none;fill-rule:evenodd;stroke:#000000;stroke-width:2px;stroke-linecap:butt;stroke-linejoin:miter;stroke-opacity:1\"/>\n<path class=\"bond-3\" d=\"M 142.699,324.657 L 156.902,329.272\" style=\"fill:none;fill-rule:evenodd;stroke:#FF0000;stroke-width:2px;stroke-linecap:butt;stroke-linejoin:miter;stroke-opacity:1\"/>\n<path class=\"bond-3\" d=\"M 130.702,313.249 L 144.906,317.864\" style=\"fill:none;fill-rule:evenodd;stroke:#000000;stroke-width:2px;stroke-linecap:butt;stroke-linejoin:miter;stroke-opacity:1\"/>\n<path class=\"bond-3\" d=\"M 144.906,317.864 L 159.11,322.479\" style=\"fill:none;fill-rule:evenodd;stroke:#FF0000;stroke-width:2px;stroke-linecap:butt;stroke-linejoin:miter;stroke-opacity:1\"/>\n<path class=\"bond-4\" d=\"M 129.599,316.645 L 118.562,282.679\" style=\"fill:none;fill-rule:evenodd;stroke:#000000;stroke-width:2px;stroke-linecap:butt;stroke-linejoin:miter;stroke-opacity:1\"/>\n<path class=\"bond-5\" d=\"M 118.562,282.679 L 126.896,271.208\" style=\"fill:none;fill-rule:evenodd;stroke:#000000;stroke-width:2px;stroke-linecap:butt;stroke-linejoin:miter;stroke-opacity:1\"/>\n<path class=\"bond-5\" d=\"M 126.896,271.208 L 135.23,259.737\" style=\"fill:none;fill-rule:evenodd;stroke:#FF0000;stroke-width:2px;stroke-linecap:butt;stroke-linejoin:miter;stroke-opacity:1\"/>\n<path class=\"bond-6\" d=\"M 118.562,282.679 L 82.8478,282.679\" style=\"fill:none;fill-rule:evenodd;stroke:#000000;stroke-width:2px;stroke-linecap:butt;stroke-linejoin:miter;stroke-opacity:1\"/>\n<path class=\"bond-6\" d=\"M 113.205,289.821 L 88.205,289.821\" style=\"fill:none;fill-rule:evenodd;stroke:#000000;stroke-width:2px;stroke-linecap:butt;stroke-linejoin:miter;stroke-opacity:1\"/>\n<path class=\"bond-7\" d=\"M 82.8478,282.679 L 74.5139,271.208\" style=\"fill:none;fill-rule:evenodd;stroke:#000000;stroke-width:2px;stroke-linecap:butt;stroke-linejoin:miter;stroke-opacity:1\"/>\n<path class=\"bond-7\" d=\"M 74.5139,271.208 L 66.18,259.737\" style=\"fill:none;fill-rule:evenodd;stroke:#FF0000;stroke-width:2px;stroke-linecap:butt;stroke-linejoin:miter;stroke-opacity:1\"/>\n<text dominant-baseline=\"central\" style=\"font-size:11px;font-style:normal;font-weight:normal;fill-opacity:1;stroke:none;font-family:sans-serif;fill:#FF0000\" text-anchor=\"end\" x=\"42.2137\" y=\"329.467\"><tspan>O</tspan></text>\n<text dominant-baseline=\"central\" style=\"font-size:11px;font-style:normal;font-weight:normal;fill-opacity:1;stroke:none;font-family:sans-serif;fill:#FF0000\" text-anchor=\"middle\" x=\"100.705\" y=\"339.423\"><tspan>O</tspan></text>\n<text dominant-baseline=\"central\" style=\"font-size:11px;font-style:normal;font-weight:normal;fill-opacity:1;stroke:none;font-family:sans-serif;fill:#FF0000\" text-anchor=\"start\" x=\"159.196\" y=\"329.467\"><tspan>O</tspan></text>\n<text dominant-baseline=\"central\" style=\"font-size:11px;font-style:normal;font-weight:normal;fill-opacity:1;stroke:none;font-family:sans-serif;fill:#FF0000\" text-anchor=\"start\" x=\"135.186\" y=\"255.571\"><tspan>OH</tspan></text>\n<text dominant-baseline=\"central\" style=\"font-size:11px;font-style:normal;font-weight:normal;fill-opacity:1;stroke:none;font-family:sans-serif;fill:#FF0000\" text-anchor=\"end\" x=\"66.2242\" y=\"255.571\"><tspan>HO</tspan></text>\n<text dominant-baseline=\"central\" style=\"font-size:12px;font-style:normal;font-weight:normal;fill-opacity:1;stroke:none;font-family:sans-serif;fill:#000000\" text-anchor=\"middle\" x=\"100\" y=\"389.8\"><tspan>O=C1OC(=O)C(O)=C1O</tspan></text>\n<path class=\"bond-0\" d=\"M 366.347,296.342 L 351.269,296.342\" style=\"fill:none;fill-rule:evenodd;stroke:#FF0000;stroke-width:2px;stroke-linecap:butt;stroke-linejoin:miter;stroke-opacity:1\"/>\n<path class=\"bond-0\" d=\"M 351.269,296.342 L 336.192,296.342\" style=\"fill:none;fill-rule:evenodd;stroke:#000000;stroke-width:2px;stroke-linecap:butt;stroke-linejoin:miter;stroke-opacity:1\"/>\n<path class=\"bond-0\" d=\"M 366.347,303.485 L 351.269,303.485\" style=\"fill:none;fill-rule:evenodd;stroke:#FF0000;stroke-width:2px;stroke-linecap:butt;stroke-linejoin:miter;stroke-opacity:1\"/>\n<path class=\"bond-0\" d=\"M 351.269,303.485 L 336.192,303.485\" style=\"fill:none;fill-rule:evenodd;stroke:#000000;stroke-width:2px;stroke-linecap:butt;stroke-linejoin:miter;stroke-opacity:1\"/>\n<path class=\"bond-1\" d=\"M 336.192,299.913 L 327.858,288.442\" style=\"fill:none;fill-rule:evenodd;stroke:#000000;stroke-width:2px;stroke-linecap:butt;stroke-linejoin:miter;stroke-opacity:1\"/>\n<path class=\"bond-1\" d=\"M 327.858,288.442 L 319.524,276.972\" style=\"fill:none;fill-rule:evenodd;stroke:#FF0000;stroke-width:2px;stroke-linecap:butt;stroke-linejoin:miter;stroke-opacity:1\"/>\n<path class=\"bond-7\" d=\"M 336.192,299.913 L 315.199,328.807\" style=\"fill:none;fill-rule:evenodd;stroke:#000000;stroke-width:2px;stroke-linecap:butt;stroke-linejoin:miter;stroke-opacity:1\"/>\n<path class=\"bond-2\" d=\"M 309.64,272.826 L 295.436,277.441\" style=\"fill:none;fill-rule:evenodd;stroke:#FF0000;stroke-width:2px;stroke-linecap:butt;stroke-linejoin:miter;stroke-opacity:1\"/>\n<path class=\"bond-2\" d=\"M 295.436,277.441 L 281.233,282.056\" style=\"fill:none;fill-rule:evenodd;stroke:#000000;stroke-width:2px;stroke-linecap:butt;stroke-linejoin:miter;stroke-opacity:1\"/>\n<path class=\"bond-3\" d=\"M 283.332,279.166 L 271.665,270.69\" style=\"fill:none;fill-rule:evenodd;stroke:#000000;stroke-width:2px;stroke-linecap:butt;stroke-linejoin:miter;stroke-opacity:1\"/>\n<path class=\"bond-3\" d=\"M 271.665,270.69 L 259.998,262.213\" style=\"fill:none;fill-rule:evenodd;stroke:#FF0000;stroke-width:2px;stroke-linecap:butt;stroke-linejoin:miter;stroke-opacity:1\"/>\n<path class=\"bond-3\" d=\"M 279.133,284.945 L 267.466,276.469\" style=\"fill:none;fill-rule:evenodd;stroke:#000000;stroke-width:2px;stroke-linecap:butt;stroke-linejoin:miter;stroke-opacity:1\"/>\n<path class=\"bond-3\" d=\"M 267.466,276.469 L 255.799,267.992\" style=\"fill:none;fill-rule:evenodd;stroke:#FF0000;stroke-width:2px;stroke-linecap:butt;stroke-linejoin:miter;stroke-opacity:1\"/>\n<path class=\"bond-4\" d=\"M 281.233,282.056 L 281.233,317.77\" style=\"fill:none;fill-rule:evenodd;stroke:#000000;stroke-width:2px;stroke-linecap:butt;stroke-linejoin:miter;stroke-opacity:1\"/>\n<path class=\"bond-5\" d=\"M 281.233,317.77 L 315.199,328.807\" style=\"fill:none;fill-rule:evenodd;stroke:#000000;stroke-width:2px;stroke-linecap:butt;stroke-linejoin:miter;stroke-opacity:1\"/>\n<path class=\"bond-5\" d=\"M 288.535,312.633 L 312.312,320.358\" style=\"fill:none;fill-rule:evenodd;stroke:#000000;stroke-width:2px;stroke-linecap:butt;stroke-linejoin:miter;stroke-opacity:1\"/>\n<path class=\"bond-6\" d=\"M 281.233,317.77 L 270.359,325.671\" style=\"fill:none;fill-rule:evenodd;stroke:#000000;stroke-width:2px;stroke-linecap:butt;stroke-linejoin:miter;stroke-opacity:1\"/>\n<path class=\"bond-6\" d=\"M 270.359,325.671 L 259.485,333.571\" style=\"fill:none;fill-rule:evenodd;stroke:#0000FF;stroke-width:2px;stroke-linecap:butt;stroke-linejoin:miter;stroke-opacity:1\"/>\n<text dominant-baseline=\"central\" style=\"font-size:11px;font-style:normal;font-weight:normal;fill-opacity:1;stroke:none;font-family:sans-serif;fill:#FF0000\" text-anchor=\"start\" x=\"367.538\" y=\"301.699\"><tspan>O</tspan></text>\n<text dominant-baseline=\"central\" style=\"font-size:11px;font-style:normal;font-weight:normal;fill-opacity:1;stroke:none;font-family:sans-serif;fill:#FF0000\" text-anchor=\"middle\" x=\"315.199\" y=\"272.805\"><tspan>O</tspan></text>\n<text dominant-baseline=\"central\" style=\"font-size:11px;font-style:normal;font-weight:normal;fill-opacity:1;stroke:none;font-family:sans-serif;fill:#FF0000\" text-anchor=\"end\" x=\"256.708\" y=\"262.849\"><tspan>O</tspan></text>\n<text dominant-baseline=\"central\" style=\"font-size:11px;font-style:normal;font-weight:normal;fill-opacity:1;stroke:none;font-family:sans-serif;fill:#0000FF\" text-anchor=\"end\" x=\"256.189\" y=\"340.727\"><tspan>H</tspan><tspan style=\"baseline-shift:sub;font-size:8.25px;\">2</tspan><tspan>N</tspan></text>\n<text dominant-baseline=\"central\" style=\"font-size:12px;font-style:normal;font-weight:normal;fill-opacity:1;stroke:none;font-family:sans-serif;fill:#000000\" text-anchor=\"middle\" x=\"300\" y=\"389.8\"><tspan>O=C1OC(=O)C(=C1)N</tspan></text>\n<path class=\"bond-0\" d=\"M 566.347,296.342 L 551.269,296.342\" style=\"fill:none;fill-rule:evenodd;stroke:#FF0000;stroke-width:2px;stroke-linecap:butt;stroke-linejoin:miter;stroke-opacity:1\"/>\n<path class=\"bond-0\" d=\"M 551.269,296.342 L 536.192,296.342\" style=\"fill:none;fill-rule:evenodd;stroke:#000000;stroke-width:2px;stroke-linecap:butt;stroke-linejoin:miter;stroke-opacity:1\"/>\n<path class=\"bond-0\" d=\"M 566.347,303.485 L 551.269,303.485\" style=\"fill:none;fill-rule:evenodd;stroke:#FF0000;stroke-width:2px;stroke-linecap:butt;stroke-linejoin:miter;stroke-opacity:1\"/>\n<path class=\"bond-0\" d=\"M 551.269,303.485 L 536.192,303.485\" style=\"fill:none;fill-rule:evenodd;stroke:#000000;stroke-width:2px;stroke-linecap:butt;stroke-linejoin:miter;stroke-opacity:1\"/>\n<path class=\"bond-1\" d=\"M 536.192,299.913 L 527.858,288.442\" style=\"fill:none;fill-rule:evenodd;stroke:#000000;stroke-width:2px;stroke-linecap:butt;stroke-linejoin:miter;stroke-opacity:1\"/>\n<path class=\"bond-1\" d=\"M 527.858,288.442 L 519.524,276.972\" style=\"fill:none;fill-rule:evenodd;stroke:#FF0000;stroke-width:2px;stroke-linecap:butt;stroke-linejoin:miter;stroke-opacity:1\"/>\n<path class=\"bond-7\" d=\"M 536.192,299.913 L 515.199,328.807\" style=\"fill:none;fill-rule:evenodd;stroke:#000000;stroke-width:2px;stroke-linecap:butt;stroke-linejoin:miter;stroke-opacity:1\"/>\n<path class=\"bond-2\" d=\"M 509.64,272.826 L 495.436,277.441\" style=\"fill:none;fill-rule:evenodd;stroke:#FF0000;stroke-width:2px;stroke-linecap:butt;stroke-linejoin:miter;stroke-opacity:1\"/>\n<path class=\"bond-2\" d=\"M 495.436,277.441 L 481.233,282.056\" style=\"fill:none;fill-rule:evenodd;stroke:#000000;stroke-width:2px;stroke-linecap:butt;stroke-linejoin:miter;stroke-opacity:1\"/>\n<path class=\"bond-3\" d=\"M 483.332,279.166 L 471.665,270.69\" style=\"fill:none;fill-rule:evenodd;stroke:#000000;stroke-width:2px;stroke-linecap:butt;stroke-linejoin:miter;stroke-opacity:1\"/>\n<path class=\"bond-3\" d=\"M 471.665,270.69 L 459.998,262.213\" style=\"fill:none;fill-rule:evenodd;stroke:#FF0000;stroke-width:2px;stroke-linecap:butt;stroke-linejoin:miter;stroke-opacity:1\"/>\n<path class=\"bond-3\" d=\"M 479.133,284.945 L 467.466,276.469\" style=\"fill:none;fill-rule:evenodd;stroke:#000000;stroke-width:2px;stroke-linecap:butt;stroke-linejoin:miter;stroke-opacity:1\"/>\n<path class=\"bond-3\" d=\"M 467.466,276.469 L 455.799,267.992\" style=\"fill:none;fill-rule:evenodd;stroke:#FF0000;stroke-width:2px;stroke-linecap:butt;stroke-linejoin:miter;stroke-opacity:1\"/>\n<path class=\"bond-4\" d=\"M 481.233,282.056 L 481.233,317.77\" style=\"fill:none;fill-rule:evenodd;stroke:#000000;stroke-width:2px;stroke-linecap:butt;stroke-linejoin:miter;stroke-opacity:1\"/>\n<path class=\"bond-5\" d=\"M 481.233,317.77 L 468.969,326.681\" style=\"fill:none;fill-rule:evenodd;stroke:#000000;stroke-width:2px;stroke-linecap:butt;stroke-linejoin:miter;stroke-opacity:1\"/>\n<path class=\"bond-5\" d=\"M 468.969,326.681 L 456.705,335.591\" style=\"fill:none;fill-rule:evenodd;stroke:#33CCCC;stroke-width:2px;stroke-linecap:butt;stroke-linejoin:miter;stroke-opacity:1\"/>\n<path class=\"bond-6\" d=\"M 481.233,317.77 L 515.199,328.807\" style=\"fill:none;fill-rule:evenodd;stroke:#000000;stroke-width:2px;stroke-linecap:butt;stroke-linejoin:miter;stroke-opacity:1\"/>\n<path class=\"bond-6\" d=\"M 488.535,312.633 L 512.312,320.358\" style=\"fill:none;fill-rule:evenodd;stroke:#000000;stroke-width:2px;stroke-linecap:butt;stroke-linejoin:miter;stroke-opacity:1\"/>\n<text dominant-baseline=\"central\" style=\"font-size:11px;font-style:normal;font-weight:normal;fill-opacity:1;stroke:none;font-family:sans-serif;fill:#FF0000\" text-anchor=\"start\" x=\"567.538\" y=\"301.699\"><tspan>O</tspan></text>\n<text dominant-baseline=\"central\" style=\"font-size:11px;font-style:normal;font-weight:normal;fill-opacity:1;stroke:none;font-family:sans-serif;fill:#FF0000\" text-anchor=\"middle\" x=\"515.199\" y=\"272.805\"><tspan>O</tspan></text>\n<text dominant-baseline=\"central\" style=\"font-size:11px;font-style:normal;font-weight:normal;fill-opacity:1;stroke:none;font-family:sans-serif;fill:#FF0000\" text-anchor=\"end\" x=\"456.708\" y=\"262.849\"><tspan>O</tspan></text>\n<text dominant-baseline=\"central\" style=\"font-size:11px;font-style:normal;font-weight:normal;fill-opacity:1;stroke:none;font-family:sans-serif;fill:#33CCCC\" text-anchor=\"end\" x=\"455.515\" y=\"340.549\"><tspan>F</tspan></text>\n<text dominant-baseline=\"central\" style=\"font-size:12px;font-style:normal;font-weight:normal;fill-opacity:1;stroke:none;font-family:sans-serif;fill:#000000\" text-anchor=\"middle\" x=\"500\" y=\"389.8\"><tspan>O=C1OC(=O)C(F)=C1</tspan></text>\n<path class=\"bond-0\" d=\"M 781.234,317.936 L 767.681,311.945\" style=\"fill:none;fill-rule:evenodd;stroke:#FF0000;stroke-width:2px;stroke-linecap:butt;stroke-linejoin:miter;stroke-opacity:1\"/>\n<path class=\"bond-0\" d=\"M 767.681,311.945 L 754.128,305.954\" style=\"fill:none;fill-rule:evenodd;stroke:#000000;stroke-width:2px;stroke-linecap:butt;stroke-linejoin:miter;stroke-opacity:1\"/>\n<path class=\"bond-0\" d=\"M 778.346,324.469 L 764.793,318.478\" style=\"fill:none;fill-rule:evenodd;stroke:#FF0000;stroke-width:2px;stroke-linecap:butt;stroke-linejoin:miter;stroke-opacity:1\"/>\n<path class=\"bond-0\" d=\"M 764.793,318.478 L 751.24,312.487\" style=\"fill:none;fill-rule:evenodd;stroke:#000000;stroke-width:2px;stroke-linecap:butt;stroke-linejoin:miter;stroke-opacity:1\"/>\n<path class=\"bond-1\" d=\"M 752.684,309.22 L 749.566,294.739\" style=\"fill:none;fill-rule:evenodd;stroke:#000000;stroke-width:2px;stroke-linecap:butt;stroke-linejoin:miter;stroke-opacity:1\"/>\n<path class=\"bond-1\" d=\"M 749.566,294.739 L 746.448,280.258\" style=\"fill:none;fill-rule:evenodd;stroke:#FF0000;stroke-width:2px;stroke-linecap:butt;stroke-linejoin:miter;stroke-opacity:1\"/>\n<path class=\"bond-10\" d=\"M 752.684,309.22 L 721.802,327.159\" style=\"fill:none;fill-rule:evenodd;stroke:#000000;stroke-width:2px;stroke-linecap:butt;stroke-linejoin:miter;stroke-opacity:1\"/>\n<path class=\"bond-2\" d=\"M 739.607,273.736 L 724.622,272.201\" style=\"fill:none;fill-rule:evenodd;stroke:#FF0000;stroke-width:2px;stroke-linecap:butt;stroke-linejoin:miter;stroke-opacity:1\"/>\n<path class=\"bond-2\" d=\"M 724.622,272.201 L 709.638,270.667\" style=\"fill:none;fill-rule:evenodd;stroke:#000000;stroke-width:2px;stroke-linecap:butt;stroke-linejoin:miter;stroke-opacity:1\"/>\n<path class=\"bond-3\" d=\"M 712.726,268.873 L 705.485,256.408\" style=\"fill:none;fill-rule:evenodd;stroke:#000000;stroke-width:2px;stroke-linecap:butt;stroke-linejoin:miter;stroke-opacity:1\"/>\n<path class=\"bond-3\" d=\"M 705.485,256.408 L 698.245,243.943\" style=\"fill:none;fill-rule:evenodd;stroke:#FF0000;stroke-width:2px;stroke-linecap:butt;stroke-linejoin:miter;stroke-opacity:1\"/>\n<path class=\"bond-3\" d=\"M 706.55,272.46 L 699.309,259.995\" style=\"fill:none;fill-rule:evenodd;stroke:#000000;stroke-width:2px;stroke-linecap:butt;stroke-linejoin:miter;stroke-opacity:1\"/>\n<path class=\"bond-3\" d=\"M 699.309,259.995 L 692.068,247.531\" style=\"fill:none;fill-rule:evenodd;stroke:#FF0000;stroke-width:2px;stroke-linecap:butt;stroke-linejoin:miter;stroke-opacity:1\"/>\n<path class=\"bond-4\" d=\"M 709.638,270.667 L 695.198,303.332\" style=\"fill:none;fill-rule:evenodd;stroke:#000000;stroke-width:2px;stroke-linecap:butt;stroke-linejoin:miter;stroke-opacity:1\"/>\n<path class=\"bond-5\" d=\"M 695.198,303.332 L 721.802,327.159\" style=\"fill:none;fill-rule:evenodd;stroke:#000000;stroke-width:2px;stroke-linecap:butt;stroke-linejoin:miter;stroke-opacity:1\"/>\n<path class=\"bond-5\" d=\"M 703.954,301.585 L 722.577,318.264\" style=\"fill:none;fill-rule:evenodd;stroke:#000000;stroke-width:2px;stroke-linecap:butt;stroke-linejoin:miter;stroke-opacity:1\"/>\n<path class=\"bond-6\" d=\"M 695.198,303.332 L 680.124,306.578\" style=\"fill:none;fill-rule:evenodd;stroke:#000000;stroke-width:2px;stroke-linecap:butt;stroke-linejoin:miter;stroke-opacity:1\"/>\n<path class=\"bond-6\" d=\"M 680.124,306.578 L 665.05,309.823\" style=\"fill:none;fill-rule:evenodd;stroke:#CCCC00;stroke-width:2px;stroke-linecap:butt;stroke-linejoin:miter;stroke-opacity:1\"/>\n<path class=\"bond-7\" d=\"M 658.074,317.554 L 660.551,329.059\" style=\"fill:none;fill-rule:evenodd;stroke:#CCCC00;stroke-width:2px;stroke-linecap:butt;stroke-linejoin:miter;stroke-opacity:1\"/>\n<path class=\"bond-7\" d=\"M 660.551,329.059 L 663.028,340.563\" style=\"fill:none;fill-rule:evenodd;stroke:#FF0000;stroke-width:2px;stroke-linecap:butt;stroke-linejoin:miter;stroke-opacity:1\"/>\n<path class=\"bond-7\" d=\"M 665.057,316.05 L 667.534,327.555\" style=\"fill:none;fill-rule:evenodd;stroke:#CCCC00;stroke-width:2px;stroke-linecap:butt;stroke-linejoin:miter;stroke-opacity:1\"/>\n<path class=\"bond-7\" d=\"M 667.534,327.555 L 670.011,339.06\" style=\"fill:none;fill-rule:evenodd;stroke:#FF0000;stroke-width:2px;stroke-linecap:butt;stroke-linejoin:miter;stroke-opacity:1\"/>\n<path class=\"bond-8\" d=\"M 662.493,304.146 L 660.016,292.641\" style=\"fill:none;fill-rule:evenodd;stroke:#CCCC00;stroke-width:2px;stroke-linecap:butt;stroke-linejoin:miter;stroke-opacity:1\"/>\n<path class=\"bond-8\" d=\"M 660.016,292.641 L 657.539,281.136\" style=\"fill:none;fill-rule:evenodd;stroke:#FF0000;stroke-width:2px;stroke-linecap:butt;stroke-linejoin:miter;stroke-opacity:1\"/>\n<path class=\"bond-8\" d=\"M 655.51,305.649 L 653.033,294.144\" style=\"fill:none;fill-rule:evenodd;stroke:#CCCC00;stroke-width:2px;stroke-linecap:butt;stroke-linejoin:miter;stroke-opacity:1\"/>\n<path class=\"bond-8\" d=\"M 653.033,294.144 L 650.556,282.64\" style=\"fill:none;fill-rule:evenodd;stroke:#FF0000;stroke-width:2px;stroke-linecap:butt;stroke-linejoin:miter;stroke-opacity:1\"/>\n<path class=\"bond-9\" d=\"M 655.517,311.876 L 643.023,314.566\" style=\"fill:none;fill-rule:evenodd;stroke:#CCCC00;stroke-width:2px;stroke-linecap:butt;stroke-linejoin:miter;stroke-opacity:1\"/>\n<path class=\"bond-9\" d=\"M 643.023,314.566 L 630.528,317.257\" style=\"fill:none;fill-rule:evenodd;stroke:#FF0000;stroke-width:2px;stroke-linecap:butt;stroke-linejoin:miter;stroke-opacity:1\"/>\n<text dominant-baseline=\"central\" style=\"font-size:11px;font-style:normal;font-weight:normal;fill-opacity:1;stroke:none;font-family:sans-serif;fill:#FF0000\" text-anchor=\"start\" x=\"780.981\" y=\"325.446\"><tspan>O</tspan></text>\n<text dominant-baseline=\"central\" style=\"font-size:11px;font-style:normal;font-weight:normal;fill-opacity:1;stroke:none;font-family:sans-serif;fill:#FF0000\" text-anchor=\"start\" x=\"740.798\" y=\"276.091\"><tspan>O</tspan></text>\n<text dominant-baseline=\"central\" style=\"font-size:11px;font-style:normal;font-weight:normal;fill-opacity:1;stroke:none;font-family:sans-serif;fill:#FF0000\" text-anchor=\"end\" x=\"696.068\" y=\"241.57\"><tspan>O</tspan></text>\n<text dominant-baseline=\"central\" style=\"font-size:11px;font-style:normal;font-weight:normal;fill-opacity:1;stroke:none;font-family:sans-serif;fill:#CCCC00\" text-anchor=\"middle\" x=\"660.283\" y=\"312.635\"><tspan>S</tspan></text>\n<text dominant-baseline=\"central\" style=\"font-size:11px;font-style:normal;font-weight:normal;fill-opacity:1;stroke:none;font-family:sans-serif;fill:#FF0000\" text-anchor=\"start\" x=\"663.432\" y=\"347.55\"><tspan>O</tspan></text>\n<text dominant-baseline=\"central\" style=\"font-size:11px;font-style:normal;font-weight:normal;fill-opacity:1;stroke:none;font-family:sans-serif;fill:#FF0000\" text-anchor=\"start\" x=\"648.396\" y=\"277.721\"><tspan>O</tspan></text>\n<text dominant-baseline=\"central\" style=\"font-size:11px;font-style:normal;font-weight:normal;fill-opacity:1;stroke:none;font-family:sans-serif;fill:#FF0000\" text-anchor=\"end\" x=\"629.738\" y=\"320.153\"><tspan>HO</tspan></text>\n<text dominant-baseline=\"central\" style=\"font-size:12px;font-style:normal;font-weight:normal;fill-opacity:1;stroke:none;font-family:sans-serif;fill:#000000\" text-anchor=\"middle\" x=\"700\" y=\"389.8\"><tspan>O=C1OC(=O)C(=C1)S(=O)(=O)O</tspan></text>\n<path class=\"bond-0\" d=\"M 844.508,352.024 L 858.711,347.409\" style=\"fill:none;fill-rule:evenodd;stroke:#FF0000;stroke-width:2px;stroke-linecap:butt;stroke-linejoin:miter;stroke-opacity:1\"/>\n<path class=\"bond-0\" d=\"M 858.711,347.409 L 872.915,342.794\" style=\"fill:none;fill-rule:evenodd;stroke:#000000;stroke-width:2px;stroke-linecap:butt;stroke-linejoin:miter;stroke-opacity:1\"/>\n<path class=\"bond-0\" d=\"M 842.301,345.231 L 856.504,340.616\" style=\"fill:none;fill-rule:evenodd;stroke:#FF0000;stroke-width:2px;stroke-linecap:butt;stroke-linejoin:miter;stroke-opacity:1\"/>\n<path class=\"bond-0\" d=\"M 856.504,340.616 L 870.708,336.001\" style=\"fill:none;fill-rule:evenodd;stroke:#000000;stroke-width:2px;stroke-linecap:butt;stroke-linejoin:miter;stroke-opacity:1\"/>\n<path class=\"bond-1\" d=\"M 871.811,339.398 L 883.479,347.874\" style=\"fill:none;fill-rule:evenodd;stroke:#000000;stroke-width:2px;stroke-linecap:butt;stroke-linejoin:miter;stroke-opacity:1\"/>\n<path class=\"bond-1\" d=\"M 883.479,347.874 L 895.146,356.351\" style=\"fill:none;fill-rule:evenodd;stroke:#FF0000;stroke-width:2px;stroke-linecap:butt;stroke-linejoin:miter;stroke-opacity:1\"/>\n<path class=\"bond-14\" d=\"M 871.811,339.398 L 882.848,305.431\" style=\"fill:none;fill-rule:evenodd;stroke:#000000;stroke-width:2px;stroke-linecap:butt;stroke-linejoin:miter;stroke-opacity:1\"/>\n<path class=\"bond-2\" d=\"M 906.264,356.351 L 917.932,347.874\" style=\"fill:none;fill-rule:evenodd;stroke:#FF0000;stroke-width:2px;stroke-linecap:butt;stroke-linejoin:miter;stroke-opacity:1\"/>\n<path class=\"bond-2\" d=\"M 917.932,347.874 L 929.599,339.398\" style=\"fill:none;fill-rule:evenodd;stroke:#000000;stroke-width:2px;stroke-linecap:butt;stroke-linejoin:miter;stroke-opacity:1\"/>\n<path class=\"bond-3\" d=\"M 928.495,342.794 L 942.699,347.409\" style=\"fill:none;fill-rule:evenodd;stroke:#000000;stroke-width:2px;stroke-linecap:butt;stroke-linejoin:miter;stroke-opacity:1\"/>\n<path class=\"bond-3\" d=\"M 942.699,347.409 L 956.902,352.024\" style=\"fill:none;fill-rule:evenodd;stroke:#FF0000;stroke-width:2px;stroke-linecap:butt;stroke-linejoin:miter;stroke-opacity:1\"/>\n<path class=\"bond-3\" d=\"M 930.702,336.001 L 944.906,340.616\" style=\"fill:none;fill-rule:evenodd;stroke:#000000;stroke-width:2px;stroke-linecap:butt;stroke-linejoin:miter;stroke-opacity:1\"/>\n<path class=\"bond-3\" d=\"M 944.906,340.616 L 959.11,345.231\" style=\"fill:none;fill-rule:evenodd;stroke:#FF0000;stroke-width:2px;stroke-linecap:butt;stroke-linejoin:miter;stroke-opacity:1\"/>\n<path class=\"bond-4\" d=\"M 929.599,339.398 L 918.562,305.431\" style=\"fill:none;fill-rule:evenodd;stroke:#000000;stroke-width:2px;stroke-linecap:butt;stroke-linejoin:miter;stroke-opacity:1\"/>\n<path class=\"bond-5\" d=\"M 918.562,305.431 L 926.896,293.96\" style=\"fill:none;fill-rule:evenodd;stroke:#000000;stroke-width:2px;stroke-linecap:butt;stroke-linejoin:miter;stroke-opacity:1\"/>\n<path class=\"bond-5\" d=\"M 926.896,293.96 L 935.23,282.49\" style=\"fill:none;fill-rule:evenodd;stroke:#CCCC00;stroke-width:2px;stroke-linecap:butt;stroke-linejoin:miter;stroke-opacity:1\"/>\n<path class=\"bond-9\" d=\"M 918.562,305.431 L 882.848,305.431\" style=\"fill:none;fill-rule:evenodd;stroke:#000000;stroke-width:2px;stroke-linecap:butt;stroke-linejoin:miter;stroke-opacity:1\"/>\n<path class=\"bond-9\" d=\"M 913.205,312.574 L 888.205,312.574\" style=\"fill:none;fill-rule:evenodd;stroke:#000000;stroke-width:2px;stroke-linecap:butt;stroke-linejoin:miter;stroke-opacity:1\"/>\n<path class=\"bond-6\" d=\"M 942.222,282.89 L 951.506,289.635\" style=\"fill:none;fill-rule:evenodd;stroke:#CCCC00;stroke-width:2px;stroke-linecap:butt;stroke-linejoin:miter;stroke-opacity:1\"/>\n<path class=\"bond-6\" d=\"M 951.506,289.635 L 960.79,296.38\" style=\"fill:none;fill-rule:evenodd;stroke:#FF0000;stroke-width:2px;stroke-linecap:butt;stroke-linejoin:miter;stroke-opacity:1\"/>\n<path class=\"bond-6\" d=\"M 946.42,277.111 L 955.704,283.856\" style=\"fill:none;fill-rule:evenodd;stroke:#CCCC00;stroke-width:2px;stroke-linecap:butt;stroke-linejoin:miter;stroke-opacity:1\"/>\n<path class=\"bond-6\" d=\"M 955.704,283.856 L 964.988,290.601\" style=\"fill:none;fill-rule:evenodd;stroke:#FF0000;stroke-width:2px;stroke-linecap:butt;stroke-linejoin:miter;stroke-opacity:1\"/>\n<path class=\"bond-7\" d=\"M 937.224,269.481 L 929.328,262.116\" style=\"fill:none;fill-rule:evenodd;stroke:#CCCC00;stroke-width:2px;stroke-linecap:butt;stroke-linejoin:miter;stroke-opacity:1\"/>\n<path class=\"bond-7\" d=\"M 929.328,262.116 L 921.431,254.752\" style=\"fill:none;fill-rule:evenodd;stroke:#FF0000;stroke-width:2px;stroke-linecap:butt;stroke-linejoin:miter;stroke-opacity:1\"/>\n<path class=\"bond-7\" d=\"M 932.353,274.704 L 924.456,267.34\" style=\"fill:none;fill-rule:evenodd;stroke:#CCCC00;stroke-width:2px;stroke-linecap:butt;stroke-linejoin:miter;stroke-opacity:1\"/>\n<path class=\"bond-7\" d=\"M 924.456,267.34 L 916.559,259.976\" style=\"fill:none;fill-rule:evenodd;stroke:#FF0000;stroke-width:2px;stroke-linecap:butt;stroke-linejoin:miter;stroke-opacity:1\"/>\n<path class=\"bond-8\" d=\"M 943.88,270.585 L 950.051,262.091\" style=\"fill:none;fill-rule:evenodd;stroke:#CCCC00;stroke-width:2px;stroke-linecap:butt;stroke-linejoin:miter;stroke-opacity:1\"/>\n<path class=\"bond-8\" d=\"M 950.051,262.091 L 956.223,253.596\" style=\"fill:none;fill-rule:evenodd;stroke:#FF0000;stroke-width:2px;stroke-linecap:butt;stroke-linejoin:miter;stroke-opacity:1\"/>\n<path class=\"bond-10\" d=\"M 882.848,305.431 L 874.514,293.96\" style=\"fill:none;fill-rule:evenodd;stroke:#000000;stroke-width:2px;stroke-linecap:butt;stroke-linejoin:miter;stroke-opacity:1\"/>\n<path class=\"bond-10\" d=\"M 874.514,293.96 L 866.18,282.49\" style=\"fill:none;fill-rule:evenodd;stroke:#CCCC00;stroke-width:2px;stroke-linecap:butt;stroke-linejoin:miter;stroke-opacity:1\"/>\n<path class=\"bond-11\" d=\"M 869.057,274.704 L 876.954,267.34\" style=\"fill:none;fill-rule:evenodd;stroke:#CCCC00;stroke-width:2px;stroke-linecap:butt;stroke-linejoin:miter;stroke-opacity:1\"/>\n<path class=\"bond-11\" d=\"M 876.954,267.34 L 884.851,259.976\" style=\"fill:none;fill-rule:evenodd;stroke:#FF0000;stroke-width:2px;stroke-linecap:butt;stroke-linejoin:miter;stroke-opacity:1\"/>\n<path class=\"bond-11\" d=\"M 864.186,269.481 L 872.083,262.116\" style=\"fill:none;fill-rule:evenodd;stroke:#CCCC00;stroke-width:2px;stroke-linecap:butt;stroke-linejoin:miter;stroke-opacity:1\"/>\n<path class=\"bond-11\" d=\"M 872.083,262.116 L 879.979,254.752\" style=\"fill:none;fill-rule:evenodd;stroke:#FF0000;stroke-width:2px;stroke-linecap:butt;stroke-linejoin:miter;stroke-opacity:1\"/>\n<path class=\"bond-12\" d=\"M 854.99,277.111 L 845.706,283.856\" style=\"fill:none;fill-rule:evenodd;stroke:#CCCC00;stroke-width:2px;stroke-linecap:butt;stroke-linejoin:miter;stroke-opacity:1\"/>\n<path class=\"bond-12\" d=\"M 845.706,283.856 L 836.422,290.601\" style=\"fill:none;fill-rule:evenodd;stroke:#FF0000;stroke-width:2px;stroke-linecap:butt;stroke-linejoin:miter;stroke-opacity:1\"/>\n<path class=\"bond-12\" d=\"M 859.188,282.89 L 849.904,289.635\" style=\"fill:none;fill-rule:evenodd;stroke:#CCCC00;stroke-width:2px;stroke-linecap:butt;stroke-linejoin:miter;stroke-opacity:1\"/>\n<path class=\"bond-12\" d=\"M 849.904,289.635 L 840.62,296.38\" style=\"fill:none;fill-rule:evenodd;stroke:#FF0000;stroke-width:2px;stroke-linecap:butt;stroke-linejoin:miter;stroke-opacity:1\"/>\n<path class=\"bond-13\" d=\"M 857.531,270.585 L 851.359,262.091\" style=\"fill:none;fill-rule:evenodd;stroke:#CCCC00;stroke-width:2px;stroke-linecap:butt;stroke-linejoin:miter;stroke-opacity:1\"/>\n<path class=\"bond-13\" d=\"M 851.359,262.091 L 845.187,253.596\" style=\"fill:none;fill-rule:evenodd;stroke:#FF0000;stroke-width:2px;stroke-linecap:butt;stroke-linejoin:miter;stroke-opacity:1\"/>\n<text dominant-baseline=\"central\" style=\"font-size:11px;font-style:normal;font-weight:normal;fill-opacity:1;stroke:none;font-family:sans-serif;fill:#FF0000\" text-anchor=\"end\" x=\"842.214\" y=\"352.22\"><tspan>O</tspan></text>\n<text dominant-baseline=\"central\" style=\"font-size:11px;font-style:normal;font-weight:normal;fill-opacity:1;stroke:none;font-family:sans-serif;fill:#FF0000\" text-anchor=\"middle\" x=\"900.705\" y=\"362.176\"><tspan>O</tspan></text>\n<text dominant-baseline=\"central\" style=\"font-size:11px;font-style:normal;font-weight:normal;fill-opacity:1;stroke:none;font-family:sans-serif;fill:#FF0000\" text-anchor=\"start\" x=\"959.196\" y=\"352.22\"><tspan>O</tspan></text>\n<text dominant-baseline=\"central\" style=\"font-size:11px;font-style:normal;font-weight:normal;fill-opacity:1;stroke:none;font-family:sans-serif;fill:#CCCC00\" text-anchor=\"end\" x=\"943.131\" y=\"278.323\"><tspan>S</tspan></text>\n<text dominant-baseline=\"central\" style=\"font-size:11px;font-style:normal;font-weight:normal;fill-opacity:1;stroke:none;font-family:sans-serif;fill:#FF0000\" text-anchor=\"start\" x=\"964.08\" y=\"299.316\"><tspan>O</tspan></text>\n<text dominant-baseline=\"central\" style=\"font-size:11px;font-style:normal;font-weight:normal;fill-opacity:1;stroke:none;font-family:sans-serif;fill:#FF0000\" text-anchor=\"end\" x=\"917.804\" y=\"253.965\"><tspan>O</tspan></text>\n<text dominant-baseline=\"central\" style=\"font-size:11px;font-style:normal;font-weight:normal;fill-opacity:1;stroke:none;font-family:sans-serif;fill:#FF0000\" text-anchor=\"start\" x=\"956.178\" y=\"249.429\"><tspan>OH</tspan></text>\n<text dominant-baseline=\"central\" style=\"font-size:11px;font-style:normal;font-weight:normal;fill-opacity:1;stroke:none;font-family:sans-serif;fill:#CCCC00\" text-anchor=\"start\" x=\"858.28\" y=\"278.323\"><tspan>S</tspan></text>\n<text dominant-baseline=\"central\" style=\"font-size:11px;font-style:normal;font-weight:normal;fill-opacity:1;stroke:none;font-family:sans-serif;fill:#FF0000\" text-anchor=\"start\" x=\"883.606\" y=\"253.965\"><tspan>O</tspan></text>\n<text dominant-baseline=\"central\" style=\"font-size:11px;font-style:normal;font-weight:normal;fill-opacity:1;stroke:none;font-family:sans-serif;fill:#FF0000\" text-anchor=\"end\" x=\"837.33\" y=\"299.316\"><tspan>O</tspan></text>\n<text dominant-baseline=\"central\" style=\"font-size:11px;font-style:normal;font-weight:normal;fill-opacity:1;stroke:none;font-family:sans-serif;fill:#FF0000\" text-anchor=\"end\" x=\"845.232\" y=\"249.429\"><tspan>HO</tspan></text>\n<text dominant-baseline=\"central\" style=\"font-size:12px;font-style:normal;font-weight:normal;fill-opacity:1;stroke:none;font-family:sans-serif;fill:#000000\" text-anchor=\"middle\" x=\"900\" y=\"389.8\"><tspan>O=C1OC(=O)C(S(=O)(=O)O)=C1S(=O)(=O)O</tspan></text>\n</svg>"
          },
          "metadata": {
            "tags": []
          },
          "execution_count": 11
        }
      ]
    },
    {
      "cell_type": "code",
      "metadata": {
        "id": "7zm0W0IdY60_"
      },
      "source": [
        "df['mol'] = df['mol'].apply(lambda x: Chem.AddHs(x))"
      ],
      "execution_count": 12,
      "outputs": []
    },
    {
      "cell_type": "code",
      "metadata": {
        "id": "xmJETdm9ZG9y",
        "outputId": "0991832f-727e-4f7e-b6d8-cc12bff12b1f",
        "colab": {
          "base_uri": "https://localhost:8080/",
          "height": 394
        }
      },
      "source": [
        "df.head()"
      ],
      "execution_count": 13,
      "outputs": [
        {
          "output_type": "execute_result",
          "data": {
            "text/html": [
              "<div>\n",
              "<style scoped>\n",
              "    .dataframe tbody tr th:only-of-type {\n",
              "        vertical-align: middle;\n",
              "    }\n",
              "\n",
              "    .dataframe tbody tr th {\n",
              "        vertical-align: top;\n",
              "    }\n",
              "\n",
              "    .dataframe thead th {\n",
              "        text-align: right;\n",
              "    }\n",
              "</style>\n",
              "<table border=\"1\" class=\"dataframe\">\n",
              "  <thead>\n",
              "    <tr style=\"text-align: right;\">\n",
              "      <th></th>\n",
              "      <th>smiles</th>\n",
              "      <th>moleculerWeight</th>\n",
              "      <th>stoichiometry</th>\n",
              "      <th>stoichiometry.1</th>\n",
              "      <th>gasEnergy</th>\n",
              "      <th>solutionEnergy</th>\n",
              "      <th>gasHomo</th>\n",
              "      <th>solutionHomo</th>\n",
              "      <th>gasLumo</th>\n",
              "      <th>solutionLumo</th>\n",
              "      <th>mepcDipoleMomentsTot</th>\n",
              "      <th>mepcGasDipoleMomentsTot</th>\n",
              "      <th>mmcDipoleMomentsTot</th>\n",
              "      <th>mmcGasDipoleMomentsTot</th>\n",
              "      <th>mqmwDipoleMomentsTot</th>\n",
              "      <th>mqmwGasDipoleMomentsTot</th>\n",
              "      <th>alpha</th>\n",
              "      <th>beta</th>\n",
              "      <th>dalpha</th>\n",
              "      <th>cavityEnergy</th>\n",
              "      <th>molecularSurface</th>\n",
              "      <th>reactionFieldEnergy</th>\n",
              "      <th>solventAccessSurface</th>\n",
              "      <th>molecularPointGroup</th>\n",
              "      <th>nuclearRepulsionEnergy</th>\n",
              "      <th>pointGroupUsed</th>\n",
              "      <th>mol</th>\n",
              "    </tr>\n",
              "  </thead>\n",
              "  <tbody>\n",
              "    <tr>\n",
              "      <th>0</th>\n",
              "      <td>O=C1OC(=O)C=C1</td>\n",
              "      <td>98.00</td>\n",
              "      <td>C4H2O3</td>\n",
              "      <td>NaN</td>\n",
              "      <td>-378.89918</td>\n",
              "      <td>-378.90921</td>\n",
              "      <td>-0.26305</td>\n",
              "      <td>-0.27345</td>\n",
              "      <td>-0.16095</td>\n",
              "      <td>-0.15824</td>\n",
              "      <td>5.6636</td>\n",
              "      <td>4.1934</td>\n",
              "      <td>6.5309</td>\n",
              "      <td>4.8997</td>\n",
              "      <td>5.7220</td>\n",
              "      <td>4.2348</td>\n",
              "      <td>54.743</td>\n",
              "      <td>31.140355</td>\n",
              "      <td>47.976</td>\n",
              "      <td>3.83641</td>\n",
              "      <td>107.77013</td>\n",
              "      <td>-13.72340</td>\n",
              "      <td>242.77736</td>\n",
              "      <td>C2v</td>\n",
              "      <td>272.515501</td>\n",
              "      <td>C2v</td>\n",
              "      <td>&lt;rdkit.Chem.rdchem.Mol object at 0x7fcdd75fe940&gt;</td>\n",
              "    </tr>\n",
              "    <tr>\n",
              "      <th>1</th>\n",
              "      <td>O=C1OC(=O)C(=C1)O</td>\n",
              "      <td>114.00</td>\n",
              "      <td>C4H2O4</td>\n",
              "      <td>OH</td>\n",
              "      <td>-454.06562</td>\n",
              "      <td>-454.07870</td>\n",
              "      <td>-0.26939</td>\n",
              "      <td>-0.26334</td>\n",
              "      <td>-0.14906</td>\n",
              "      <td>-0.14790</td>\n",
              "      <td>4.8360</td>\n",
              "      <td>3.4922</td>\n",
              "      <td>5.3261</td>\n",
              "      <td>3.9971</td>\n",
              "      <td>4.8799</td>\n",
              "      <td>3.5239</td>\n",
              "      <td>61.887</td>\n",
              "      <td>-123.638395</td>\n",
              "      <td>45.468</td>\n",
              "      <td>3.90021</td>\n",
              "      <td>112.71120</td>\n",
              "      <td>-16.66028</td>\n",
              "      <td>250.55044</td>\n",
              "      <td>C1</td>\n",
              "      <td>351.367559</td>\n",
              "      <td>C1</td>\n",
              "      <td>&lt;rdkit.Chem.rdchem.Mol object at 0x7fcdd75fe990&gt;</td>\n",
              "    </tr>\n",
              "    <tr>\n",
              "      <th>2</th>\n",
              "      <td>O=C1OC(=O)C(F)=C1F</td>\n",
              "      <td>133.98</td>\n",
              "      <td>C4O3F2</td>\n",
              "      <td>F</td>\n",
              "      <td>-577.19143</td>\n",
              "      <td>-577.19630</td>\n",
              "      <td>-0.28622</td>\n",
              "      <td>-0.28677</td>\n",
              "      <td>-0.16921</td>\n",
              "      <td>-0.16499</td>\n",
              "      <td>2.7967</td>\n",
              "      <td>2.0391</td>\n",
              "      <td>1.0997</td>\n",
              "      <td>0.3263</td>\n",
              "      <td>2.8356</td>\n",
              "      <td>2.0698</td>\n",
              "      <td>58.411</td>\n",
              "      <td>-153.586284</td>\n",
              "      <td>51.959</td>\n",
              "      <td>4.03023</td>\n",
              "      <td>121.76391</td>\n",
              "      <td>-10.19075</td>\n",
              "      <td>266.39426</td>\n",
              "      <td>C2v</td>\n",
              "      <td>434.353303</td>\n",
              "      <td>C2v</td>\n",
              "      <td>&lt;rdkit.Chem.rdchem.Mol object at 0x7fcdd75fe9e0&gt;</td>\n",
              "    </tr>\n",
              "    <tr>\n",
              "      <th>3</th>\n",
              "      <td>O=C1OC(=O)C(C(=O)O)=C1C(=O)O</td>\n",
              "      <td>185.98</td>\n",
              "      <td>C6H2O7</td>\n",
              "      <td>COOH</td>\n",
              "      <td>-755.67777</td>\n",
              "      <td>-755.69768</td>\n",
              "      <td>-0.27063</td>\n",
              "      <td>-0.27702</td>\n",
              "      <td>-0.21387</td>\n",
              "      <td>-0.20152</td>\n",
              "      <td>5.1939</td>\n",
              "      <td>3.3327</td>\n",
              "      <td>4.9663</td>\n",
              "      <td>3.2474</td>\n",
              "      <td>5.1945</td>\n",
              "      <td>3.3201</td>\n",
              "      <td>96.435</td>\n",
              "      <td>142.431481</td>\n",
              "      <td>35.721</td>\n",
              "      <td>4.38522</td>\n",
              "      <td>153.05979</td>\n",
              "      <td>-25.24181</td>\n",
              "      <td>309.64934</td>\n",
              "      <td>C1</td>\n",
              "      <td>789.447978</td>\n",
              "      <td>C1</td>\n",
              "      <td>&lt;rdkit.Chem.rdchem.Mol object at 0x7fcdd75fea30&gt;</td>\n",
              "    </tr>\n",
              "    <tr>\n",
              "      <th>4</th>\n",
              "      <td>O=C1OC(=O)C(N)=C1N</td>\n",
              "      <td>128.02</td>\n",
              "      <td>C4N2H4O3</td>\n",
              "      <td>NH2</td>\n",
              "      <td>-489.52053</td>\n",
              "      <td>-489.54624</td>\n",
              "      <td>-0.18974</td>\n",
              "      <td>-0.18290</td>\n",
              "      <td>-0.11376</td>\n",
              "      <td>-0.12295</td>\n",
              "      <td>9.7072</td>\n",
              "      <td>6.9753</td>\n",
              "      <td>11.3046</td>\n",
              "      <td>8.4212</td>\n",
              "      <td>9.7599</td>\n",
              "      <td>7.0068</td>\n",
              "      <td>84.474</td>\n",
              "      <td>-442.812317</td>\n",
              "      <td>73.732</td>\n",
              "      <td>4.08638</td>\n",
              "      <td>127.51153</td>\n",
              "      <td>-27.07350</td>\n",
              "      <td>273.23612</td>\n",
              "      <td>C2v</td>\n",
              "      <td>438.854193</td>\n",
              "      <td>C2v</td>\n",
              "      <td>&lt;rdkit.Chem.rdchem.Mol object at 0x7fcdd75fea80&gt;</td>\n",
              "    </tr>\n",
              "  </tbody>\n",
              "</table>\n",
              "</div>"
            ],
            "text/plain": [
              "                         smiles  ...                                               mol\n",
              "0                O=C1OC(=O)C=C1  ...  <rdkit.Chem.rdchem.Mol object at 0x7fcdd75fe940>\n",
              "1             O=C1OC(=O)C(=C1)O  ...  <rdkit.Chem.rdchem.Mol object at 0x7fcdd75fe990>\n",
              "2            O=C1OC(=O)C(F)=C1F  ...  <rdkit.Chem.rdchem.Mol object at 0x7fcdd75fe9e0>\n",
              "3  O=C1OC(=O)C(C(=O)O)=C1C(=O)O  ...  <rdkit.Chem.rdchem.Mol object at 0x7fcdd75fea30>\n",
              "4            O=C1OC(=O)C(N)=C1N  ...  <rdkit.Chem.rdchem.Mol object at 0x7fcdd75fea80>\n",
              "\n",
              "[5 rows x 27 columns]"
            ]
          },
          "metadata": {
            "tags": []
          },
          "execution_count": 13
        }
      ]
    },
    {
      "cell_type": "code",
      "metadata": {
        "id": "Se_Q_Lsf6TcF"
      },
      "source": [
        "df_n = df.loc[:, ['gasEnergy', 'solutionEnergy', 'mol']]"
      ],
      "execution_count": 14,
      "outputs": []
    },
    {
      "cell_type": "code",
      "metadata": {
        "id": "c42TA_jw67Jw",
        "outputId": "538572df-04b8-422e-e1a3-38901df965b2",
        "colab": {
          "base_uri": "https://localhost:8080/",
          "height": 204
        }
      },
      "source": [
        "df_n.head()"
      ],
      "execution_count": 15,
      "outputs": [
        {
          "output_type": "execute_result",
          "data": {
            "text/html": [
              "<div>\n",
              "<style scoped>\n",
              "    .dataframe tbody tr th:only-of-type {\n",
              "        vertical-align: middle;\n",
              "    }\n",
              "\n",
              "    .dataframe tbody tr th {\n",
              "        vertical-align: top;\n",
              "    }\n",
              "\n",
              "    .dataframe thead th {\n",
              "        text-align: right;\n",
              "    }\n",
              "</style>\n",
              "<table border=\"1\" class=\"dataframe\">\n",
              "  <thead>\n",
              "    <tr style=\"text-align: right;\">\n",
              "      <th></th>\n",
              "      <th>gasEnergy</th>\n",
              "      <th>solutionEnergy</th>\n",
              "      <th>mol</th>\n",
              "    </tr>\n",
              "  </thead>\n",
              "  <tbody>\n",
              "    <tr>\n",
              "      <th>0</th>\n",
              "      <td>-378.89918</td>\n",
              "      <td>-378.90921</td>\n",
              "      <td>&lt;rdkit.Chem.rdchem.Mol object at 0x7fcdd75fe940&gt;</td>\n",
              "    </tr>\n",
              "    <tr>\n",
              "      <th>1</th>\n",
              "      <td>-454.06562</td>\n",
              "      <td>-454.07870</td>\n",
              "      <td>&lt;rdkit.Chem.rdchem.Mol object at 0x7fcdd75fe990&gt;</td>\n",
              "    </tr>\n",
              "    <tr>\n",
              "      <th>2</th>\n",
              "      <td>-577.19143</td>\n",
              "      <td>-577.19630</td>\n",
              "      <td>&lt;rdkit.Chem.rdchem.Mol object at 0x7fcdd75fe9e0&gt;</td>\n",
              "    </tr>\n",
              "    <tr>\n",
              "      <th>3</th>\n",
              "      <td>-755.67777</td>\n",
              "      <td>-755.69768</td>\n",
              "      <td>&lt;rdkit.Chem.rdchem.Mol object at 0x7fcdd75fea30&gt;</td>\n",
              "    </tr>\n",
              "    <tr>\n",
              "      <th>4</th>\n",
              "      <td>-489.52053</td>\n",
              "      <td>-489.54624</td>\n",
              "      <td>&lt;rdkit.Chem.rdchem.Mol object at 0x7fcdd75fea80&gt;</td>\n",
              "    </tr>\n",
              "  </tbody>\n",
              "</table>\n",
              "</div>"
            ],
            "text/plain": [
              "   gasEnergy  solutionEnergy                                               mol\n",
              "0 -378.89918      -378.90921  <rdkit.Chem.rdchem.Mol object at 0x7fcdd75fe940>\n",
              "1 -454.06562      -454.07870  <rdkit.Chem.rdchem.Mol object at 0x7fcdd75fe990>\n",
              "2 -577.19143      -577.19630  <rdkit.Chem.rdchem.Mol object at 0x7fcdd75fe9e0>\n",
              "3 -755.67777      -755.69768  <rdkit.Chem.rdchem.Mol object at 0x7fcdd75fea30>\n",
              "4 -489.52053      -489.54624  <rdkit.Chem.rdchem.Mol object at 0x7fcdd75fea80>"
            ]
          },
          "metadata": {
            "tags": []
          },
          "execution_count": 15
        }
      ]
    },
    {
      "cell_type": "code",
      "metadata": {
        "id": "33lHgfApRmce"
      },
      "source": [
        "\n",
        "def force_field_energy(mol,gen_3d=True, nconf=100):\n",
        "  #cids = AllChem.EmbedMolecule(mol)\n",
        "  #AllChem.MMFFOptimizeMolecule(mol)\n",
        "  #pyMP = AllChem.MMFFGetMoleculeProperties(mol)\n",
        "  #pyFF = AllChem.MMFFGetMoleculeForceField(mol, pyMP)\n",
        "  #pyFF.Minimize()\n",
        "  #energy = pyFF.CalcEnergy()\n",
        "  #return energy*23.061\n",
        "  if gen_3d:\n",
        "        cids = AllChem.EmbedMultipleConfs(mol, nconf, AllChem.ETKDG())\n",
        "\n",
        "        AllChem.MMFFSanitizeMolecule(mol)\n",
        "        mmff_props = AllChem.MMFFGetMoleculeProperties(mol,mmffVariant='MMFF94s')\n",
        "\n",
        "        energies = []\n",
        "        for cid in cids:\n",
        "            ff = AllChem.MMFFGetMoleculeForceField(mol, mmff_props, confId=cid)\n",
        "            ff.Minimize()\n",
        "            energy = ff.CalcEnergy()\n",
        "            energies.append(energy)\n",
        "\n",
        "        energies = np.asarray(energies)\n",
        "        min_energy_idx = np.argsort(energies)[0]\n",
        "  return min_energy_idx*23.06"
      ],
      "execution_count": 16,
      "outputs": []
    },
    {
      "cell_type": "code",
      "metadata": {
        "id": "jyLXOEPkuHxX"
      },
      "source": [
        ""
      ],
      "execution_count": 16,
      "outputs": []
    },
    {
      "cell_type": "code",
      "metadata": {
        "id": "qkgTlVpxt4Er"
      },
      "source": [
        "df['energy_mmff'] = df['mol'].apply(lambda x: force_field_energy(x))"
      ],
      "execution_count": 17,
      "outputs": []
    },
    {
      "cell_type": "code",
      "metadata": {
        "id": "WOB40ISxuJUB",
        "outputId": "c697abf5-cba7-4194-d412-01a0a12930c8",
        "colab": {
          "base_uri": "https://localhost:8080/",
          "height": 394
        }
      },
      "source": [
        "df.head()"
      ],
      "execution_count": 18,
      "outputs": [
        {
          "output_type": "execute_result",
          "data": {
            "text/html": [
              "<div>\n",
              "<style scoped>\n",
              "    .dataframe tbody tr th:only-of-type {\n",
              "        vertical-align: middle;\n",
              "    }\n",
              "\n",
              "    .dataframe tbody tr th {\n",
              "        vertical-align: top;\n",
              "    }\n",
              "\n",
              "    .dataframe thead th {\n",
              "        text-align: right;\n",
              "    }\n",
              "</style>\n",
              "<table border=\"1\" class=\"dataframe\">\n",
              "  <thead>\n",
              "    <tr style=\"text-align: right;\">\n",
              "      <th></th>\n",
              "      <th>smiles</th>\n",
              "      <th>moleculerWeight</th>\n",
              "      <th>stoichiometry</th>\n",
              "      <th>stoichiometry.1</th>\n",
              "      <th>gasEnergy</th>\n",
              "      <th>solutionEnergy</th>\n",
              "      <th>gasHomo</th>\n",
              "      <th>solutionHomo</th>\n",
              "      <th>gasLumo</th>\n",
              "      <th>solutionLumo</th>\n",
              "      <th>mepcDipoleMomentsTot</th>\n",
              "      <th>mepcGasDipoleMomentsTot</th>\n",
              "      <th>mmcDipoleMomentsTot</th>\n",
              "      <th>mmcGasDipoleMomentsTot</th>\n",
              "      <th>mqmwDipoleMomentsTot</th>\n",
              "      <th>mqmwGasDipoleMomentsTot</th>\n",
              "      <th>alpha</th>\n",
              "      <th>beta</th>\n",
              "      <th>dalpha</th>\n",
              "      <th>cavityEnergy</th>\n",
              "      <th>molecularSurface</th>\n",
              "      <th>reactionFieldEnergy</th>\n",
              "      <th>solventAccessSurface</th>\n",
              "      <th>molecularPointGroup</th>\n",
              "      <th>nuclearRepulsionEnergy</th>\n",
              "      <th>pointGroupUsed</th>\n",
              "      <th>mol</th>\n",
              "      <th>energy_mmff</th>\n",
              "    </tr>\n",
              "  </thead>\n",
              "  <tbody>\n",
              "    <tr>\n",
              "      <th>0</th>\n",
              "      <td>O=C1OC(=O)C=C1</td>\n",
              "      <td>98.00</td>\n",
              "      <td>C4H2O3</td>\n",
              "      <td>NaN</td>\n",
              "      <td>-378.89918</td>\n",
              "      <td>-378.90921</td>\n",
              "      <td>-0.26305</td>\n",
              "      <td>-0.27345</td>\n",
              "      <td>-0.16095</td>\n",
              "      <td>-0.15824</td>\n",
              "      <td>5.6636</td>\n",
              "      <td>4.1934</td>\n",
              "      <td>6.5309</td>\n",
              "      <td>4.8997</td>\n",
              "      <td>5.7220</td>\n",
              "      <td>4.2348</td>\n",
              "      <td>54.743</td>\n",
              "      <td>31.140355</td>\n",
              "      <td>47.976</td>\n",
              "      <td>3.83641</td>\n",
              "      <td>107.77013</td>\n",
              "      <td>-13.72340</td>\n",
              "      <td>242.77736</td>\n",
              "      <td>C2v</td>\n",
              "      <td>272.515501</td>\n",
              "      <td>C2v</td>\n",
              "      <td>&lt;rdkit.Chem.rdchem.Mol object at 0x7fcdd75fe940&gt;</td>\n",
              "      <td>1890.92</td>\n",
              "    </tr>\n",
              "    <tr>\n",
              "      <th>1</th>\n",
              "      <td>O=C1OC(=O)C(=C1)O</td>\n",
              "      <td>114.00</td>\n",
              "      <td>C4H2O4</td>\n",
              "      <td>OH</td>\n",
              "      <td>-454.06562</td>\n",
              "      <td>-454.07870</td>\n",
              "      <td>-0.26939</td>\n",
              "      <td>-0.26334</td>\n",
              "      <td>-0.14906</td>\n",
              "      <td>-0.14790</td>\n",
              "      <td>4.8360</td>\n",
              "      <td>3.4922</td>\n",
              "      <td>5.3261</td>\n",
              "      <td>3.9971</td>\n",
              "      <td>4.8799</td>\n",
              "      <td>3.5239</td>\n",
              "      <td>61.887</td>\n",
              "      <td>-123.638395</td>\n",
              "      <td>45.468</td>\n",
              "      <td>3.90021</td>\n",
              "      <td>112.71120</td>\n",
              "      <td>-16.66028</td>\n",
              "      <td>250.55044</td>\n",
              "      <td>C1</td>\n",
              "      <td>351.367559</td>\n",
              "      <td>C1</td>\n",
              "      <td>&lt;rdkit.Chem.rdchem.Mol object at 0x7fcdd75fe990&gt;</td>\n",
              "      <td>1106.88</td>\n",
              "    </tr>\n",
              "    <tr>\n",
              "      <th>2</th>\n",
              "      <td>O=C1OC(=O)C(F)=C1F</td>\n",
              "      <td>133.98</td>\n",
              "      <td>C4O3F2</td>\n",
              "      <td>F</td>\n",
              "      <td>-577.19143</td>\n",
              "      <td>-577.19630</td>\n",
              "      <td>-0.28622</td>\n",
              "      <td>-0.28677</td>\n",
              "      <td>-0.16921</td>\n",
              "      <td>-0.16499</td>\n",
              "      <td>2.7967</td>\n",
              "      <td>2.0391</td>\n",
              "      <td>1.0997</td>\n",
              "      <td>0.3263</td>\n",
              "      <td>2.8356</td>\n",
              "      <td>2.0698</td>\n",
              "      <td>58.411</td>\n",
              "      <td>-153.586284</td>\n",
              "      <td>51.959</td>\n",
              "      <td>4.03023</td>\n",
              "      <td>121.76391</td>\n",
              "      <td>-10.19075</td>\n",
              "      <td>266.39426</td>\n",
              "      <td>C2v</td>\n",
              "      <td>434.353303</td>\n",
              "      <td>C2v</td>\n",
              "      <td>&lt;rdkit.Chem.rdchem.Mol object at 0x7fcdd75fe9e0&gt;</td>\n",
              "      <td>1821.74</td>\n",
              "    </tr>\n",
              "    <tr>\n",
              "      <th>3</th>\n",
              "      <td>O=C1OC(=O)C(C(=O)O)=C1C(=O)O</td>\n",
              "      <td>185.98</td>\n",
              "      <td>C6H2O7</td>\n",
              "      <td>COOH</td>\n",
              "      <td>-755.67777</td>\n",
              "      <td>-755.69768</td>\n",
              "      <td>-0.27063</td>\n",
              "      <td>-0.27702</td>\n",
              "      <td>-0.21387</td>\n",
              "      <td>-0.20152</td>\n",
              "      <td>5.1939</td>\n",
              "      <td>3.3327</td>\n",
              "      <td>4.9663</td>\n",
              "      <td>3.2474</td>\n",
              "      <td>5.1945</td>\n",
              "      <td>3.3201</td>\n",
              "      <td>96.435</td>\n",
              "      <td>142.431481</td>\n",
              "      <td>35.721</td>\n",
              "      <td>4.38522</td>\n",
              "      <td>153.05979</td>\n",
              "      <td>-25.24181</td>\n",
              "      <td>309.64934</td>\n",
              "      <td>C1</td>\n",
              "      <td>789.447978</td>\n",
              "      <td>C1</td>\n",
              "      <td>&lt;rdkit.Chem.rdchem.Mol object at 0x7fcdd75fea30&gt;</td>\n",
              "      <td>1083.82</td>\n",
              "    </tr>\n",
              "    <tr>\n",
              "      <th>4</th>\n",
              "      <td>O=C1OC(=O)C(N)=C1N</td>\n",
              "      <td>128.02</td>\n",
              "      <td>C4N2H4O3</td>\n",
              "      <td>NH2</td>\n",
              "      <td>-489.52053</td>\n",
              "      <td>-489.54624</td>\n",
              "      <td>-0.18974</td>\n",
              "      <td>-0.18290</td>\n",
              "      <td>-0.11376</td>\n",
              "      <td>-0.12295</td>\n",
              "      <td>9.7072</td>\n",
              "      <td>6.9753</td>\n",
              "      <td>11.3046</td>\n",
              "      <td>8.4212</td>\n",
              "      <td>9.7599</td>\n",
              "      <td>7.0068</td>\n",
              "      <td>84.474</td>\n",
              "      <td>-442.812317</td>\n",
              "      <td>73.732</td>\n",
              "      <td>4.08638</td>\n",
              "      <td>127.51153</td>\n",
              "      <td>-27.07350</td>\n",
              "      <td>273.23612</td>\n",
              "      <td>C2v</td>\n",
              "      <td>438.854193</td>\n",
              "      <td>C2v</td>\n",
              "      <td>&lt;rdkit.Chem.rdchem.Mol object at 0x7fcdd75fea80&gt;</td>\n",
              "      <td>1637.26</td>\n",
              "    </tr>\n",
              "  </tbody>\n",
              "</table>\n",
              "</div>"
            ],
            "text/plain": [
              "                         smiles  ...  energy_mmff\n",
              "0                O=C1OC(=O)C=C1  ...      1890.92\n",
              "1             O=C1OC(=O)C(=C1)O  ...      1106.88\n",
              "2            O=C1OC(=O)C(F)=C1F  ...      1821.74\n",
              "3  O=C1OC(=O)C(C(=O)O)=C1C(=O)O  ...      1083.82\n",
              "4            O=C1OC(=O)C(N)=C1N  ...      1637.26\n",
              "\n",
              "[5 rows x 28 columns]"
            ]
          },
          "metadata": {
            "tags": []
          },
          "execution_count": 18
        }
      ]
    },
    {
      "cell_type": "code",
      "metadata": {
        "id": "v5contjGuhSG",
        "outputId": "27e7b641-5d38-4228-d774-1d1db87863ed",
        "colab": {
          "base_uri": "https://localhost:8080/",
          "height": 279
        }
      },
      "source": [
        "plt.style.use('bmh')\n",
        "df['energy_mmff'].plot.hist(alpha=0.5,bins=25)"
      ],
      "execution_count": 19,
      "outputs": [
        {
          "output_type": "execute_result",
          "data": {
            "text/plain": [
              "<matplotlib.axes._subplots.AxesSubplot at 0x7fcdd76009b0>"
            ]
          },
          "metadata": {
            "tags": []
          },
          "execution_count": 19
        },
        {
          "output_type": "display_data",
          "data": {
            "image/png": "[encoded data removed]",
            "text/plain": [
              "<Figure size 432x288 with 1 Axes>"
            ]
          },
          "metadata": {
            "tags": [],
            "needs_background": "light"
          }
        }
      ]
    },
    {
      "cell_type": "code",
      "metadata": {
        "id": "IMjFAfLkqa_n"
      },
      "source": [
        "def smiles_to_rdkit(smi, gen_3d=True, nconf=100):\n",
        "    \"\"\"\n",
        "    Convert smiles to RDKit molecule.\n",
        "    Tries to generate the lowest-energy conformer.\n",
        "    \"\"\"\n",
        "    mol = Chem.MolFromSmiles(smi)\n",
        "    mol = Chem.AddHs(mol)\n",
        "\n",
        "    if gen_3d:\n",
        "        cids = AllChem.EmbedMultipleConfs(mol, nconf, AllChem.ETKDG())\n",
        "\n",
        "        AllChem.MMFFSanitizeMolecule(mol)\n",
        "        mmff_props = AllChem.MMFFGetMoleculeProperties(mol)\n",
        "\n",
        "        energies = []\n",
        "        for cid in cids:\n",
        "            ff = AllChem.MMFFGetMoleculeForceField(mol, mmff_props, confId=cid)\n",
        "            ff.Minimize()\n",
        "            energy = ff.CalcEnergy()\n",
        "            energies.append(energy)\n",
        "\n",
        "        energies = np.asarray(energies)\n",
        "        min_energy_idx = np.argsort(energies)[0]\n",
        "\n",
        "        new_mol = Chem.Mol(mol)\n",
        "        new_mol.RemoveAllConformers()\n",
        "        min_conf = mol.GetConformer(cids[min_energy_idx])\n",
        "        new_mol.AddConformer(min_conf, assignId=True)\n",
        "        mol = new_mol\n",
        "\n",
        "    return mol"
      ],
      "execution_count": 20,
      "outputs": []
    },
    {
      "cell_type": "code",
      "metadata": {
        "id": "IrIiYAda69bY"
      },
      "source": [
        ""
      ],
      "execution_count": 20,
      "outputs": []
    },
    {
      "cell_type": "code",
      "metadata": {
        "id": "f2HeisptCcWZ"
      },
      "source": [
        ""
      ],
      "execution_count": 20,
      "outputs": []
    },
    {
      "cell_type": "code",
      "metadata": {
        "id": "kzyES3Vz_oDe",
        "outputId": "db8453ec-2250-4370-aa8a-e4c3125477f2",
        "colab": {
          "base_uri": "https://localhost:8080/",
          "height": 51
        }
      },
      "source": [
        "mol = df_n['mol'][4]\n",
        "AllChem.EmbedMolecule(mol)\n",
        "AllChem.MMFFOptimizeMolecule(mol)\n",
        "print(mol)\n",
        "#for x in mol:\n",
        "pyMP = AllChem.MMFFGetMoleculeProperties(mol, mmffVariant='MMFF94s')\n",
        "print(pyMP)\n",
        "pyFF = AllChem.MMFFGetMoleculeForceField(mol, pyMP)"
      ],
      "execution_count": 21,
      "outputs": [
        {
          "output_type": "stream",
          "text": [
            "<rdkit.Chem.rdchem.Mol object at 0x7fcdd75fea80>\n",
            "<rdkit.ForceField.rdForceField.MMFFMolProperties object at 0x7fcdd75897b0>\n"
          ],
          "name": "stdout"
        }
      ]
    },
    {
      "cell_type": "code",
      "metadata": {
        "id": "LjkHM3H9_rW-",
        "outputId": "6bf56ec5-5354-41b5-d31b-12953071dde8",
        "colab": {
          "base_uri": "https://localhost:8080/",
          "height": 34
        }
      },
      "source": [
        "\n",
        "print(pyFF.CalcEnergy()*23.06)\n",
        "#grad = pyFF.CalcGradient()   # This is not a defined method.\n"
      ],
      "execution_count": 22,
      "outputs": [
        {
          "output_type": "stream",
          "text": [
            "1647.8159115797496\n"
          ],
          "name": "stdout"
        }
      ]
    },
    {
      "cell_type": "code",
      "metadata": {
        "id": "haVIw28DCBYE",
        "outputId": "9532d944-e394-4def-f88d-ee92bb8ffd60",
        "colab": {
          "base_uri": "https://localhost:8080/",
          "height": 34
        }
      },
      "source": [
        "for atom in mol.GetAtoms():\n",
        "      if not atom.GetAtomicNum() == 1:\n",
        "           idx = atom.GetIdx()\n",
        "           pyFF.MMFFAddPositionConstraint(idx, maxDispl=0.5, forceConstant=100)\n",
        "pyFF.Minimize(maxIts=10000)\n",
        "pyFF.CalcEnergy()*23.06\n",
        "# this gives the energy after applying a moderate restraint (100 kcal/mol, with a maximum displacement of 0.5 A)."
      ],
      "execution_count": 23,
      "outputs": [
        {
          "output_type": "execute_result",
          "data": {
            "text/plain": [
              "1513.972947137952"
            ]
          },
          "metadata": {
            "tags": []
          },
          "execution_count": 23
        }
      ]
    },
    {
      "cell_type": "code",
      "metadata": {
        "id": "uSy_fYmzNLQW",
        "outputId": "9e9a2d37-8bc1-4db9-9705-14da1c1f1322",
        "colab": {
          "base_uri": "https://localhost:8080/",
          "height": 102
        }
      },
      "source": [
        "m = Chem.MolFromSmiles('C1CCC1OC')\n",
        "m2=Chem.AddHs(m)\n",
        "AllChem.EmbedMolecule(m2)\n",
        "#AllChem.EmbedMultipleConfs(m2)\n",
        "AllChem.MMFFOptimizeMolecule(m2)\n",
        "pyMP = AllChem.MMFFGetMoleculeProperties(m2)\n",
        "pyFF = AllChem.MMFFGetMoleculeForceField(m2, pyMP)\n",
        "print(pyFF.CalcEnergy()*23.06)\n",
        "pyMP.GetMMFFVdWParams(0,1)"
      ],
      "execution_count": 27,
      "outputs": [
        {
          "output_type": "stream",
          "text": [
            "247.40683313756654\n"
          ],
          "name": "stdout"
        },
        {
          "output_type": "execute_result",
          "data": {
            "text/plain": [
              "(3.9377389919289634,\n",
              " 0.06779699304291371,\n",
              " 3.9377389919289634,\n",
              " 0.06779699304291371)"
            ]
          },
          "metadata": {
            "tags": []
          },
          "execution_count": 27
        }
      ]
    },
    {
      "cell_type": "code",
      "metadata": {
        "id": "kgNDpnkH9mKX",
        "outputId": "69b6c025-8c83-4891-e04c-41700a5482b4",
        "colab": {
          "base_uri": "https://localhost:8080/",
          "height": 51
        }
      },
      "source": [
        "atorvastatin_smiles = 'O=C(O)C[C@H](O)C[C@H](O)CCn2c(c(c(c2c1ccc(F)cc1)c3ccccc3)C(=O)Nc4ccccc4)C(C)C'\n",
        "atorvastatin = Chem.MolFromSmiles(atorvastatin_smiles) # Atorvastatin (aka Lipitor) is one of the world's best-selling drugs.\n",
        "\n",
        "fingerprint = GetMorganFingerprintAsBitVect(atorvastatin, radius=2, nBits=2048)\n",
        "\n",
        "fp_array = np.zeros((1, ))\n",
        "ConvertToNumpyArray(fingerprint, fp_array)\n",
        "\n",
        "print(fp_array)\n",
        "# [0. 1. 0. ... 0. 0. 0.]\n",
        "\n",
        "print(fp_array.shape)\n",
        "# (2048,)"
      ],
      "execution_count": 26,
      "outputs": [
        {
          "output_type": "stream",
          "text": [
            "[0. 1. 0. ... 0. 0. 0.]\n",
            "(2048,)\n"
          ],
          "name": "stdout"
        }
      ]
    },
    {
      "cell_type": "code",
      "metadata": {
        "id": "QME6lOgn-JI2"
      },
      "source": [
        ""
      ],
      "execution_count": null,
      "outputs": []
    },
    {
      "cell_type": "code",
      "metadata": {
        "id": "_7xr_OEONQVH"
      },
      "source": [
        "def smiles_to_rdkit(smi, gen_3d=True, nconf=100):\n",
        "    \"\"\"\n",
        "    Convert smiles to RDKit molecule.\n",
        "    Tries to generate the lowest-energy conformer.\n",
        "    \"\"\"\n",
        "    mol = Chem.MolFromSmiles(smi)\n",
        "    mol = Chem.AddHs(mol)\n",
        "\n",
        "    if gen_3d:\n",
        "        cids = AllChem.EmbedMultipleConfs(mol, nconf, AllChem.ETKDG())\n",
        "\n",
        "        AllChem.MMFFSanitizeMolecule(mol)\n",
        "        mmff_props = AllChem.MMFFGetMoleculeProperties(mol)\n",
        "\n",
        "        energies = []\n",
        "        for cid in cids:\n",
        "            ff = AllChem.MMFFGetMoleculeForceField(mol, mmff_props, confId=cid)\n",
        "            ff.Minimize()\n",
        "            energy = ff.CalcEnergy()\n",
        "            energies.append(energy)\n",
        "\n",
        "        energies = np.asarray(energies)\n",
        "        min_energy_idx = np.argsort(energies)[0]\n",
        "\n",
        "        new_mol = Chem.Mol(mol)\n",
        "        new_mol.RemoveAllConformers()\n",
        "        min_conf = mol.GetConformer(cids[min_energy_idx])\n",
        "        new_mol.AddConformer(min_conf, assignId=True)\n",
        "        mol = new_mol\n",
        "\n",
        "    return mol"
      ],
      "execution_count": null,
      "outputs": []
    }
  ]
}